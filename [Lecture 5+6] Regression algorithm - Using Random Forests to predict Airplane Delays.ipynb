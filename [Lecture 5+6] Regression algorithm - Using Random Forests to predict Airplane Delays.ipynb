{
 "cells": [
  {
   "cell_type": "markdown",
   "metadata": {},
   "source": [
    "Students: <b>Jonas WACKER</b> & <b>Sofiene JERBI</b><br>\n",
    "Group: <b>user4</b>"
   ]
  },
  {
   "cell_type": "markdown",
   "metadata": {},
   "source": [
    "In this notebook, we will learn how to solve the regression problem of predicting flight delays, using decision trees and random forests.\n",
    "\n",
    "# Goals\n",
    "The main goals of this project are as follows:\n",
    "1. Revisit the concepts behind Decision Trees and Random Forests\n",
    "2. Build a simple methodology to address Data Science projects\n",
    "3. Use the existing implementation of Random Forests in MLLib in a specific use case, that is to predict the delay of flights\n",
    "\n",
    "# Steps\n",
    "\n",
    "- First, in section 1, we will go through a short introduction about the fudamentals of Decision Trees and Random Forsests, such as feature definition, the form of a decision tree, how does it work and the idea of a forest of decision trees. If the student is familiar with these topics, skip to section 2.\n",
    "- In section 2, we delve into the details of the use case of this notebook including: providing the context, introducing the data and the basic methodology to address the project in this notebook\n",
    "- In section 3, we perform data exploration\n",
    "- In section 4, we build the statistical model and validate it"
   ]
  },
  {
   "cell_type": "markdown",
   "metadata": {},
   "source": [
    "# 1. Decision trees and Random Forests: Simple but Powerful Algorithms\n",
    "> Prediction is very difficult, especially if it’s about the future. (Niels Bohr)\n",
    "\n",
    "Decision trees are a very popular approach to prediction problems. Decision trees can be trained from both categorical and numerical features, to perform classification and regression. Classification and regression are the oldest and most well-studied types of predictive analytics. In many analytics packages and libraries, most algorithms are devoted either to address classification or regression problems, and they include for example support vector machines (SVM), neural networks, naïve Bayes, logistic regression, and deep learning...\n",
    "\n",
    "In general, classification refers to the problem of predicting a label, or category, like *spam/not spam*, *rainy/sunny/mild*, for some given data. Regression refers to predicting a numeric quantity like salary, temperature, delay time, product's price. Both classification and regression involve predicting one (or more) values given one (or more) other input values. They require labelled data to perform a training phase, which builds the statistical model: they belong to *supervised learning* techniques.\n",
    "\n",
    "## 1.1 Feature definition\n",
    "To understand how regression and classification operate, it is necessary to briefly define the terms that describe their input and output. \n",
    "\n",
    "Assume that we want to predict the temperature of tomorrow given today's weather information.\n",
    "The weather information is a loose concept. For example, we can use many variables to express today's weather such as:\n",
    "* the average humidity today\n",
    "* today’s high temperature\n",
    "* today’s low temperature \n",
    "* wind speed\n",
    "* outlook: e.g. cloudy, rainy, or clear\n",
    "* ....\n",
    "\n",
    "These variables are called *features* or *demensions*. \n",
    "\n",
    "Each variable can be quantified. For example, high and low temperatures are measured in degrees Celsius, humidity can be measured as a fraction between 0 and 1, and weather type can be labeled `cloudy`, `rainy` or `clear`...\n",
    "So, the weather today can be expressed by a list of values: `11.4, 18.0, 0.64, 20, cloudy`\n",
    "Each feature is also called a `predictor`. Together, they constitute a `feature vector`.\n",
    "\n",
    "A feature whose domain is a set of categories is called **categorical feature**. In our example, `outlook` is a  categorical feature. A feature whose values are numerical is called **numerical feature**. In our example, `temperature` is a numerical feature.\n",
    "\n",
    "Finally, tomorrow's temperature, that is what we want to predict, is called *target feature*.\n",
    "\n",
    "## 1.2 Decision Trees & Random Forests\n",
    "The first question that you might ask is: \"Why Decision trees and not another approach?\"\n",
    "\n",
    "Well, the literature shows that the family of algorithms known as decision trees can naturally handle both categorical and numeric features. The training process is easy to understand. The model is easy to interpret. They are robust to outliers in the data, meaning that a few extreme and possibly erroneous data points should not affect the tree at all. The model can be trained in parallel easily. The accuracy is comparable to other methods... In short, there are lots of advantages when using decision trees with respect to other methods! \n",
    "\n",
    "The way we use a tree model is very simple to understand. We can say that this process \"mimics\" the way humans take decisions. For example, to decide whether to play football or not, a natural questions would be \"does it rain now ?\". If yes, the decision is `no`. If it's sunny, the condition is favorable to play football. A second natural question could be: \"is it windy?\". If no, then you may want to stay at home because otherwise it is going to be too hot. Otherwise, a third plausible question could be: \"do we have enough people?\". If no, then there's no point playing. Otherwise, time to play!\n",
    "\n",
    "Using a decision tree allows to follow a similar process to that described above (see the image below). Given a new input, the algorithm traverses the tree in a such a way that the input satisfies the condition of each node until reaching a leaf one. The value of the leaf node is the decision.\n",
    "\n",
    "![A decision tree](https://farm2.staticflickr.com/1690/24308350756_8533286fb5_z.jpg)\n",
    "\n",
    "The tree model in the figure is built from historical information concerning many past days. The `feature predictor` contains three features: Rain, Is_Windy, Enough_People.\n",
    "An example of the training data is as follows:\n",
    "\n",
    "Rain | Is_Windy | Enough_People | Play\n",
    "-----|----------|---------------|------\n",
    "Yes | Yes | No | No\n",
    "No  | No | No | No\n",
    "No | Yes | Yes | Yes\n",
    "No | No | Yes | No\n",
    "\n",
    "As you can see, in the training data, we know the values of predictors and we also know the corresponding answer: we have the ground truth.\n",
    "\n",
    "One limitation of decision trees is that it's easy to incur in overfitting problems. In other words, the model is too fit to the training data, it is too precise and not general enough. So, when testing the quality of predictions with different testing sets, accuracy could fluctuate. To overcome this limitation, the tree can be pruned after it is built, or even be pruned during the training process. Another approach is building a `Random Decision Forest`.\n",
    "\n",
    "A `Random Decision Forest`, as its name implies, is a forest of random Decision trees. Each tree element is built randomly from the training data. Randomization generally applies to:\n",
    "* Building new training data: Random selectiion of samples from the training data (with replacement) from the original training data\n",
    "* When building a node: Random selection of a subset of features\n",
    "\n",
    "To take a decision, the forest \"asks\" all trees about their prediction, and then chooses the outcome which is the most voted."
   ]
  },
  {
   "cell_type": "markdown",
   "metadata": {},
   "source": [
    "# 2. Usecase : Flights delay prediction\n",
    "## 2.1 Context\n",
    "Every day, in US, there are thousands of flights departures and arrivals: unfortunately, as you may have noticed yourself, flight delays are not a rare event!! Now, given historical data about flights in the country, including the delay information that was computed *a-posteriori* (so the ground truth is available), we want to build a model that can be used to predict how many minutes of delay a flight might experience in the future. This model should provide useful information for the airport to manage better its resources, to minimize the delays and their impact on the jurney of its passengers. Alternatively, astute passengers could even use the model to choose the best time for flying, such as to avoid delays.\n",
    "\n",
    "## 2.2 Data\n",
    "The data we will use in this notebook has been collected by the RITA (Research and Inovative Technology Administration), and it contains details facets about each air flight that happened in the US between 1987 and 2008. It includes 29 variables such as the origin airport, the destination airport, the scheduled departured time, day, month, the arrival delay... For more information, please visit the following [link](http://stat-computing.org/dataexpo/2009/the-data.html), that provides a lot of detail on the data. Our goal is to build a model to predict `the arrival delay`."
   ]
  },
  {
   "cell_type": "markdown",
   "metadata": {},
   "source": [
    "## 2.3 Methodology\n",
    "For our project, we can follow a simple methodology:\n",
    "\n",
    "- Understand clearly the context, the data and the goal of the project\n",
    "- Pre-process the data (data cleaning): the data can contain invalid values or missing values. We have to process our data to deal with them\n",
    "- Retrieve descriptive information about data: the idea is to discover if whether the data has patterns, whether features have patterns, the skew of values...\n",
    "- Select appropriate features: Only work with significant features will save us memory, communication cost, and ultimately, training time. Feature selection is also important as it can reduce the impact of noise that characterize the unimportant features.\n",
    "- Divide the data into training and testing set\n",
    "- Build a model from the feature in the training set\n",
    "- Test the model"
   ]
  },
  {
   "cell_type": "markdown",
   "metadata": {},
   "source": [
    "# 3. Let's play: Data Exploration\n",
    "Now it's time to apply the simple methodology outlined in section 2.3 on the usecase of this notebook.\n",
    "\n",
    "**Note:** The source code in this lecture should be executed sequentially in the order."
   ]
  },
  {
   "cell_type": "markdown",
   "metadata": {},
   "source": [
    "## 3.1 Understanding the data schema\n",
    "\n",
    "The data has 29 features, that can be either categorical or numerical. For example, the `src_airport` (source airport) is categorical: there exist no comparision operator between airport names. We can not say \"SGN is bigger than NCE\". The departure is numerical, for which a comparison operator exists. For instance, \"flight departing before 6PM\" can be express by \"departure_time < 1800\".\n",
    "\n",
    "In this usecase, most features are numerical, except `carier`, `flight_number`, `cancelled`, `cancelation_code` and `diverted`. \n",
    "\n",
    "The data contains a header, that is useless in building the statistical model. In addition, we already know the data schema, so we can safely neglect it. Note that there are some features with missing values in some lines of the dataset. The missing values are marked by \"NA\". These values can cause problems when processing and can lead to unexpected results. Therefore, we need to remove the header and replace all \"NA\" values by empty values, such as they can be interpreted as null values.\n",
    "\n",
    "As we have seen already, there are multiple ways to manipulate data:\n",
    "\n",
    "- Using the RDD abstraction\n",
    "- Using the DataFrame abstraction. DataFrames can be thought of as distributed tables: each item is a list of values  (the columns). Also, the value in each row of each column can be accesed by the column's name.\n",
    "\n",
    "Next, we will focus on using DataFrames. However, to use DataFrames, the data must be clean (no invalid values). That means we can not create DataFrame directly from the \"RAW\" data. Instead, we will first create an RDD from RAW data, produce a new, clean RDD, then transform it to a DataFrame and work on it. The RDD `cleaned_data` is an RDD[String]. We need to transform it to RDD[(TypeOfColumn1, TypeOfColumn2,.., TypeOfColumn29)] then call a function to create a DataFrame from the new RDD.\n"
   ]
  },
  {
   "cell_type": "markdown",
   "metadata": {},
   "source": [
    "## 3.2 Data cleaning\n",
    "Let's prepare for the cleaning step: Loading the data into an RDD.\n",
    "\n",
    "First, we need to import some useful python modules for this notebook."
   ]
  },
  {
   "cell_type": "code",
   "execution_count": 1,
   "metadata": {
    "collapsed": false
   },
   "outputs": [],
   "source": [
    "import os\n",
    "import sys\n",
    "import re\n",
    "from pyspark import SparkContext\n",
    "from pyspark import SparkContext\n",
    "from pyspark.sql import SQLContext\n",
    "from pyspark.sql.types import *\n",
    "from pyspark.sql import Row\n",
    "from pyspark.sql.functions import *\n",
    "%matplotlib inline\n",
    "import matplotlib.pyplot as plt\n",
    "import pandas as pd\n",
    "import numpy as np\n",
    "import pyspark.sql.functions as func\n",
    "import matplotlib.patches as mpatches\n",
    "\n",
    "# to start testing, we can focus on a single year\n",
    "input_path = \"/datasets/airline/1994.csv\"\n",
    "raw_data = sc.textFile(input_path)"
   ]
  },
  {
   "cell_type": "markdown",
   "metadata": {},
   "source": [
    "![](https://farm2.staticflickr.com/1604/24934700445_833f0a5649_t.jpg)"
   ]
  },
  {
   "cell_type": "markdown",
   "metadata": {},
   "source": [
    "\n",
    "### Question 1 \n",
    "Remove the header and replace the invalid values in our input dataset.\n",
    "\n",
    "#### Question 1.1\n",
    "How many records (rows) in the RAW data ?"
   ]
  },
  {
   "cell_type": "code",
   "execution_count": 2,
   "metadata": {
    "collapsed": false
   },
   "outputs": [
    {
     "name": "stdout",
     "output_type": "stream",
     "text": [
      "number of rows before cleaning: 5180049\n"
     ]
    }
   ],
   "source": [
    "print(\"number of rows before cleaning:\", raw_data.count())"
   ]
  },
  {
   "cell_type": "markdown",
   "metadata": {},
   "source": [
    "\n",
    "#### Question 1.2\n",
    "Except for the first column, the others might contain missing values, which are denoted by `NA`. Remove the header and replace NA by an empty character. How many records are left after cleaning the RAW dataset?\n",
    "\n",
    "NOTE: be careful with the valid values that can contain string `NA` inside.\n",
    "\n"
   ]
  },
  {
   "cell_type": "code",
   "execution_count": 2,
   "metadata": {
    "collapsed": false
   },
   "outputs": [
    {
     "name": "stdout",
     "output_type": "stream",
     "text": [
      "['Year,Month,DayofMonth,DayOfWeek,DepTime,CRSDepTime,ArrTime,CRSArrTime,UniqueCarrier,FlightNum,TailNum,ActualElapsedTime,CRSElapsedTime,AirTime,ArrDelay,DepDelay,Origin,Dest,Distance,TaxiIn,TaxiOut,Cancelled,CancellationCode,Diverted,CarrierDelay,WeatherDelay,NASDelay,SecurityDelay,LateAircraftDelay', '1994,1,7,5,858,900,954,1003,US,227,NA,56,63,NA,-9,-2,CLT,ORF,290,NA,NA,0,NA,0,NA,NA,NA,NA,NA']\n",
      "number of rows after cleaning: 5180048\n"
     ]
    }
   ],
   "source": [
    "# extract the header\n",
    "header = raw_data.first()\n",
    "print(raw_data.take(2))\n",
    "\n",
    "\n",
    "# replace invalid data with NULL and remove header\n",
    "cleaned_data = (raw_data\\\n",
    "        # filter out the header\n",
    "        .filter(lambda x: x != header)\n",
    "        # replace the missing values with empty characters\n",
    "        .map(lambda x : re.sub(',NA$', ',', x.replace(\",NA,\",\",,\").replace(\",NA,\",\",,\")))\n",
    "        )\n",
    "        \n",
    "print(\"number of rows after cleaning:\", cleaned_data.count())"
   ]
  },
  {
   "cell_type": "code",
   "execution_count": 3,
   "metadata": {
    "collapsed": false
   },
   "outputs": [
    {
     "name": "stdout",
     "output_type": "stream",
     "text": [
      "['1994,1,7,5,858,900,954,1003,US,227,,56,63,,-9,-2,CLT,ORF,290,,,0,,0,,,,,', '1994,1,8,6,859,900,952,1003,US,227,,53,63,,-11,-1,CLT,ORF,290,,,0,,0,,,,,']\n"
     ]
    }
   ],
   "source": [
    "print(cleaned_data.take(2))"
   ]
  },
  {
   "cell_type": "markdown",
   "metadata": {},
   "source": [
    "## 3.3 Transforming our data to a DataFrame\n",
    "\n",
    "Now the data is clean, valid and can be used to create DataFrame. First, we will declare the data schema for the DataFrame. By doing that, we can specify the name and data type of each column."
   ]
  },
  {
   "cell_type": "code",
   "execution_count": 4,
   "metadata": {
    "collapsed": true
   },
   "outputs": [],
   "source": [
    "sqlContext = SQLContext(sc)\n",
    "\n",
    "\n",
    "# Declare the data schema\n",
    "# see http://stat-computing.org/dataexpo/2009/the-data.html\n",
    "# for more information\n",
    "airline_data_schema = StructType([ \\\n",
    "    #StructField( name, dataType, nullable)\n",
    "    StructField(\"year\",                     IntegerType(), True), \\\n",
    "    StructField(\"month\",                    IntegerType(), True), \\\n",
    "    StructField(\"day_of_month\",             IntegerType(), True), \\\n",
    "    StructField(\"day_of_week\",              IntegerType(), True), \\\n",
    "    StructField(\"departure_time\",           IntegerType(), True), \\\n",
    "    StructField(\"scheduled_departure_time\", IntegerType(), True), \\\n",
    "    StructField(\"arrival_time\",             IntegerType(), True), \\\n",
    "    StructField(\"scheduled_arrival_time\",   IntegerType(), True), \\\n",
    "    StructField(\"carrier\",                  StringType(),  True), \\\n",
    "    StructField(\"flight_number\",            StringType(),  True), \\\n",
    "    StructField(\"tail_number\",              StringType(), True), \\\n",
    "    StructField(\"actual_elapsed_time\",      IntegerType(), True), \\\n",
    "    StructField(\"scheduled_elapsed_time\",   IntegerType(), True), \\\n",
    "    StructField(\"air_time\",                 IntegerType(), True), \\\n",
    "    StructField(\"arrival_delay\",            IntegerType(), True), \\\n",
    "    StructField(\"departure_delay\",          IntegerType(), True), \\\n",
    "    StructField(\"src_airport\",              StringType(),  True), \\\n",
    "    StructField(\"dest_airport\",             StringType(),  True), \\\n",
    "    StructField(\"distance\",                 IntegerType(), True), \\\n",
    "    StructField(\"taxi_in_time\",             IntegerType(), True), \\\n",
    "    StructField(\"taxi_out_time\",            IntegerType(), True), \\\n",
    "    StructField(\"cancelled\",                StringType(),  True), \\\n",
    "    StructField(\"cancellation_code\",        StringType(),  True), \\\n",
    "    StructField(\"diverted\",                 StringType(),  True), \\\n",
    "    StructField(\"carrier_delay\",            IntegerType(), True), \\\n",
    "    StructField(\"weather_delay\",            IntegerType(), True), \\\n",
    "    StructField(\"nas_delay\",                IntegerType(), True), \\\n",
    "    StructField(\"security_delay\",           IntegerType(), True), \\\n",
    "    StructField(\"late_aircraft_delay\",      IntegerType(), True)\\\n",
    "])"
   ]
  },
  {
   "cell_type": "markdown",
   "metadata": {},
   "source": [
    "To \"convert\" an RDD to DataFrame, each element in the RDD must be a list of column values that match the data schema."
   ]
  },
  {
   "cell_type": "code",
   "execution_count": 5,
   "metadata": {
    "collapsed": false
   },
   "outputs": [],
   "source": [
    "# convert each line into a tuple of features (columns)\n",
    "cleaned_data_to_columns = cleaned_data.map(lambda l: l.split(\",\"))\\\n",
    "    .map(lambda cols: \n",
    "         (\n",
    "            int(cols[0])  if cols[0] else None,\n",
    "            int(cols[1])  if cols[1] else None,\n",
    "            int(cols[2])  if cols[2] else None,\n",
    "            int(cols[3])  if cols[3] else None,\n",
    "            int(cols[4])  if cols[4] else None,\n",
    "            int(cols[5])  if cols[5] else None,\n",
    "            int(cols[6])  if cols[6] else None,\n",
    "            int(cols[7])  if cols[7] else None,\n",
    "            cols[8]       if cols[8] else None,\n",
    "            cols[9]       if cols[9] else None,\n",
    "            cols[10]      if cols[10] else None,\n",
    "            int(cols[11]) if cols[11] else None,\n",
    "            int(cols[12]) if cols[12] else None,\n",
    "            int(cols[13]) if cols[13] else None,\n",
    "            int(cols[14]) if cols[14] else None,\n",
    "            int(cols[15]) if cols[15] else None,\n",
    "            cols[16]      if cols[16] else None,\n",
    "            cols[17]      if cols[17] else None,\n",
    "            int(cols[18]) if cols[18] else None,\n",
    "            int(cols[19]) if cols[19] else None,\n",
    "            int(cols[20]) if cols[20] else None,\n",
    "            cols[21]      if cols[21] else None,\n",
    "            cols[22]      if cols[22] else None,\n",
    "            cols[23]      if cols[23] else None,\n",
    "            int(cols[24]) if cols[24] else None,\n",
    "            int(cols[25]) if cols[25] else None,\n",
    "            int(cols[26]) if cols[26] else None,\n",
    "            int(cols[27]) if cols[27] else None,\n",
    "            int(cols[28]) if cols[28] else None\n",
    "         ))"
   ]
  },
  {
   "cell_type": "markdown",
   "metadata": {},
   "source": [
    "To train our model, we use the following features: `year`, `month`, `day_of_month`, `day_of_week`, `scheduled_departure_time`, `scheduled_arrival_time`, `arrival_delay`, `distance`, `src_airport`, `dest_airport`."
   ]
  },
  {
   "cell_type": "markdown",
   "metadata": {},
   "source": [
    "![](https://farm2.staticflickr.com/1604/24934700445_833f0a5649_t.jpg)"
   ]
  },
  {
   "cell_type": "markdown",
   "metadata": {},
   "source": [
    "\n",
    "### Question 2\n",
    "\n",
    "From RDD `cleaned_data_to_columns` and the schema `airline_data_schema` which are declared before, create a new DataFrame **`df`**.\n",
    "\n",
    "Note that, we should only select the necessary features defined above: [ year, month, day_of_month, day_of_week, scheduled_departure_time, scheduled_arrival_time, arrival_delay, distance, src_airport, dest_airport]. \n",
    "\n",
    "Finally, the data should be cached."
   ]
  },
  {
   "cell_type": "code",
   "execution_count": 6,
   "metadata": {
    "collapsed": false
   },
   "outputs": [],
   "source": [
    "# create dataframe df\n",
    "df = (sqlContext.createDataFrame(cleaned_data_to_columns, airline_data_schema)\\\n",
    "    .select(['year', 'month', 'day_of_month', 'day_of_week',\n",
    "            'scheduled_departure_time','scheduled_arrival_time',\n",
    "            'arrival_delay', 'distance', \n",
    "            'src_airport', 'dest_airport', 'carrier'])\\\n",
    "    .cache()\n",
    "    )"
   ]
  },
  {
   "cell_type": "markdown",
   "metadata": {
    "collapsed": true
   },
   "source": [
    "## 3.4 Descriptive statistics\n",
    "Next, we will go over a series of simple queries on our data, to explore it and compute statistics. These queries directly map to the questions you need to answer. \n",
    "\n",
    "**NOTE:** finding the right question to ask is difficult! Don't be afraid to complement the questions below, with your own questions that, in your opinion, are valuable ways to inspect data. This can give you extra points!\n",
    "\n",
    "- Basic queries:\n",
    "  - How many unique origin airports ?\n",
    "  - How many unique destination airports ?\n",
    "  - How many carriers ?\n",
    "  - How many flights that have a scheduled departure time later than 18h00 ?\n",
    "  \n",
    "- Statistic on flight volume: this kind of statistics are helpful to reason about delays. Indeed, it is plausible to assume that \"*the more flights in an airport, the higher the probability of delay*\".\n",
    "  - How many flights in each month of the year ?\n",
    "  - Is there any relationship between the number of flights and the days of week?\n",
    "  - How many flights in different days of months and in different hours of days ?\n",
    "  - Which are the top 20 busiest airports (this depends on inbound and outbound traffic) ?\n",
    "  - Which are the top 20 busiest carriers ?\n",
    "  \n",
    "- Statistic on the fraction of delayed flights\n",
    "  - What is the percentage of delayed flights (over total flights) for different hours of the day ?\n",
    "  - Which hours of the day are characterized by the longest flight delay ?\n",
    "  - What are the fluctuation of the percentage of delayed flights over different time granularities ?\n",
    "  - What is the percentage of delayed flights which depart from one of the top 20 busiest airports ?\n",
    "  - What is the percentage of delayed flights which belong to one of the top 20 busiest carriers ?"
   ]
  },
  {
   "cell_type": "markdown",
   "metadata": {},
   "source": [
    "![](https://farm2.staticflickr.com/1604/24934700445_833f0a5649_t.jpg)"
   ]
  },
  {
   "cell_type": "markdown",
   "metadata": {},
   "source": [
    "\n",
    "### Question 3: Basic queries\n",
    "\n",
    "#### Question 3.1 \n",
    "How many origin airports ? How many destination airports ?"
   ]
  },
  {
   "cell_type": "code",
   "execution_count": 9,
   "metadata": {
    "collapsed": false
   },
   "outputs": [
    {
     "name": "stdout",
     "output_type": "stream",
     "text": [
      "number of origin airports  224\n",
      "number of destination airports  224\n"
     ]
    }
   ],
   "source": [
    "num_src_airport = df.select('src_airport').distinct().count()\n",
    "num_dest_airport = df.select('dest_airport').distinct().count()\n",
    "print(\"number of origin airports \", num_src_airport)\n",
    "print(\"number of destination airports \", num_src_airport)"
   ]
  },
  {
   "cell_type": "markdown",
   "metadata": {},
   "source": [
    "\n",
    "#### Question 3.2\n",
    "How many carriers ?"
   ]
  },
  {
   "cell_type": "code",
   "execution_count": 10,
   "metadata": {
    "collapsed": false
   },
   "outputs": [
    {
     "name": "stdout",
     "output_type": "stream",
     "text": [
      "the number distinct carriers: 10\n"
     ]
    }
   ],
   "source": [
    "num_carrier = df.select('carrier').distinct().count()\n",
    "print(\"the number distinct carriers:\", num_carrier)"
   ]
  },
  {
   "cell_type": "markdown",
   "metadata": {},
   "source": [
    "\n",
    "#### Question 3.3\n",
    "How many night flights (that is, flights departing later than 6pm) ?"
   ]
  },
  {
   "cell_type": "code",
   "execution_count": 11,
   "metadata": {
    "collapsed": false
   },
   "outputs": [
    {
     "name": "stdout",
     "output_type": "stream",
     "text": [
      "The number of night flights: 1078203\n"
     ]
    }
   ],
   "source": [
    "num_night_flights = df[df.scheduled_departure_time > 1800].count()\n",
    "print(\"The number of night flights:\", num_night_flights)"
   ]
  },
  {
   "cell_type": "markdown",
   "metadata": {},
   "source": [
    "![](https://farm2.staticflickr.com/1604/24934700445_833f0a5649_t.jpg)"
   ]
  },
  {
   "cell_type": "markdown",
   "metadata": {},
   "source": [
    "\n",
    "### Question 4: Flight volume statistics\n",
    "\n",
    "#### Question 4.1: \n",
    "How many flights in each month of the year? Plot the changes over months by a line chart and comment the figure.\n",
    "From the result, we can learn the dynamics of flight volume over months. For example, if we only consider flights in 1994 (to start, it's always better to focus on smaller amount of data), we can discuss about which months are most likely to have flights experiencing delays."
   ]
  },
  {
   "cell_type": "code",
   "execution_count": 12,
   "metadata": {
    "collapsed": false
   },
   "outputs": [
    {
     "data": {
      "image/png": "[encoded data removed]",
      "text/plain": [
       "<matplotlib.figure.Figure at 0x7fb5d0088400>"
      ]
     },
     "metadata": {},
     "output_type": "display_data"
    }
   ],
   "source": [
    "statistic_month = df.select('month').groupBy('month').count().orderBy('month', ascending=1).collect()\n",
    "\n",
    "pdf_flights_per_month = pd.DataFrame(data=statistic_month)\n",
    "plt.xlabel(\"Months\")\n",
    "plt.ylabel(\"Number of flights\")\n",
    "plt.title('Figure 1: The change of number flights over months')\n",
    "plt.grid(True,which=\"both\",ls=\"-\")\n",
    "plt.plot(pdf_flights_per_month[0], pdf_flights_per_month[1])\n",
    "plt.show()"
   ]
  },
  {
   "cell_type": "markdown",
   "metadata": {},
   "source": [
    "<div class=\"comment\">\n",
    "<h4>Comment</h4>\n",
    "<p>We can see that most flights took place in August, October and December, respectively. The least number of flights took place in February.<br />\n",
    "Aligning these observations with the school holiday calendar in the US, we conclude the following:</p>\n",
    "\n",
    "<p><b>High number of December flights</b>: Christmas/Holiday break - Typically there are no classes on Christmas Eve and December 23 might be a half-day. The break lasts until first weekday in January after New Year's Day</p>\n",
    "\n",
    "<p><b>High number of flights in March</b>: Winter break/Spring break</p>\n",
    "\n",
    "<p><b>High number of flights during summer</b>: Summer break - Around 10–11 weeks, either from end of May to early August, early June to Mid-August, or the end of June to the day after Labor Day in early September, or late June to the day after Labor Day - depending on region and state.</p>\n",
    "\n",
    "<p><b>Low number of flights in February</b>: February is typically considered a low-season month for travelling. Airline tickets are rather cheap indicating low demand for flights.\n",
    "\n",
    "<p>[Source: Wikipedia]</p>\n",
    "\n",
    "\n",
    "</div>"
   ]
  },
  {
   "cell_type": "markdown",
   "metadata": {},
   "source": [
    "\n",
    "#### Question 4.2: \n",
    "Is there any relationship between the number of flights and the days of the week? Plot a bar chart and interpret the figure.\n",
    "By answering this question we could learn about the importance of the weekend/weekday feature for our predictive task."
   ]
  },
  {
   "cell_type": "code",
   "execution_count": 13,
   "metadata": {
    "collapsed": false
   },
   "outputs": [
    {
     "name": "stdout",
     "output_type": "stream",
     "text": [
      "+-----------+\n",
      "|day_of_week|\n",
      "+-----------+\n",
      "|          5|\n",
      "|          6|\n",
      "|          1|\n",
      "+-----------+\n",
      "only showing top 3 rows\n",
      "\n"
     ]
    }
   ],
   "source": [
    "df.select('day_of_week').show(3)"
   ]
  },
  {
   "cell_type": "code",
   "execution_count": 14,
   "metadata": {
    "collapsed": false
   },
   "outputs": [
    {
     "name": "stdout",
     "output_type": "stream",
     "text": [
      "[Row(day_of_week=1, count=754636), Row(day_of_week=2, count=756532), Row(day_of_week=3, count=756864), Row(day_of_week=4, count=751537), Row(day_of_week=5, count=751531), Row(day_of_week=6, count=695245), Row(day_of_week=7, count=713703)]\n"
     ]
    },
    {
     "data": {
      "image/png": "[encoded data removed]",
      "text/plain": [
       "<matplotlib.figure.Figure at 0x7fb5b3aaa320>"
      ]
     },
     "metadata": {},
     "output_type": "display_data"
    }
   ],
   "source": [
    "statistic_day_of_week = df.select('day_of_week').groupBy('day_of_week').count().orderBy('day_of_week', ascending=1).collect()\n",
    "print(statistic_day_of_week)\n",
    "pdf_flights_per_weekday = pd.DataFrame(statistic_day_of_week)\n",
    "plt.xlabel(\"Days of week\")\n",
    "plt.ylabel(\"Number of flights\")\n",
    "plt.title('Figure 2: The change of number of flights over days of week')\n",
    "plt.grid(True,which=\"both\",ls=\"-\")\n",
    "map_int_into_day = { 1:\"Mon\", 2:\"Tue\", 3:\"Wed\", 4:\"Thu\", 5:\"Fri\", 6:\"Sat\", 7:\"Sun\" }\n",
    "day_of_week_label = pdf_flights_per_weekday[0].map(lambda i: map_int_into_day[i])\n",
    "\n",
    "# plot bar chart\n",
    "plt.bar(pdf_flights_per_weekday[0], pdf_flights_per_weekday[1], align=\"center\")\n",
    "\n",
    "plt.xticks(pdf_flights_per_weekday[0], day_of_week_label)\n",
    "plt.show()"
   ]
  },
  {
   "cell_type": "markdown",
   "metadata": {},
   "source": [
    "<div class=\"comment\">\n",
    "<h4>Comment</h4>\n",
    "We have more or less equal numbers of flights per week-day. There is slightly less traffic on weekends. This is probably due to a lack of business traffic. Moreover, people doing a weekend trip probably arrive on Friday and leave on Sunday, which implies slightly more flights on Sunday than on Saturday.\n",
    "\n",
    "Also care for the following post:\n",
    "http://www.huffingtonpost.com/2015/05/14/best-day-to-fly-saturday_n_7283042.html\n",
    "\n",
    "Quiet Saturdays hence seem to be reasonable.\n",
    "</div>"
   ]
  },
  {
   "cell_type": "markdown",
   "metadata": {},
   "source": [
    "\n",
    "#### Question 4.3\n",
    "How many flights in different days of months and in different hours of days ? Plot  bar charts, and interpret your figures."
   ]
  },
  {
   "cell_type": "code",
   "execution_count": 15,
   "metadata": {
    "collapsed": false
   },
   "outputs": [
    {
     "data": {
      "image/png": "[encoded data removed]",
      "text/plain": [
       "<matplotlib.figure.Figure at 0x7fb5b3139208>"
      ]
     },
     "metadata": {},
     "output_type": "display_data"
    }
   ],
   "source": [
    "statistic_day_of_month = df.select('day_of_month').groupBy('day_of_month').count().orderBy('day_of_month', ascending=1).collect()\n",
    "pdf_flights_per_day = pd.DataFrame(statistic_day_of_month)\n",
    "\n",
    "plt.xlabel(\"Days of month\")\n",
    "plt.ylabel(\"Number of flights\")\n",
    "plt.title('Figure 3: The change of number flights over days of month')\n",
    "plt.grid(True,which=\"both\",ls=\"-\")\n",
    "\n",
    "# plot bar chart\n",
    "plt.bar(pdf_flights_per_day[0], pdf_flights_per_day[1], align=\"center\")\n",
    "\n",
    "plt.show()"
   ]
  },
  {
   "cell_type": "markdown",
   "metadata": {},
   "source": [
    "<div class=\"comment\">\n",
    "<h3>Comment</h3>\n",
    "We can see that the number of flights per day of the month only fluctuate slightly. Of course there are less flights on the 31 because only 7 months have 31 days. Since 1994 was not a leap year, there were the normal 28 days in February. Therefore, no flights on the 29th and 30th in that month leading to slighly lower flight numbers.</h3>\n",
    "</div>"
   ]
  },
  {
   "cell_type": "code",
   "execution_count": 16,
   "metadata": {
    "collapsed": false
   },
   "outputs": [
    {
     "data": {
      "image/png": "[encoded data removed]",
      "text/plain": [
       "<matplotlib.figure.Figure at 0x7fb5b314c240>"
      ]
     },
     "metadata": {},
     "output_type": "display_data"
    }
   ],
   "source": [
    "statistic_hour_of_day = df.select('scheduled_departure_time').rdd.map(lambda x: Row(int(x[0]/100))).toDF(['scheduled_departure_time']) \\\n",
    "                        .groupBy('scheduled_departure_time').count().orderBy('scheduled_departure_time', ascending=1).collect()\n",
    "pdf_flight_per_hour = pd.DataFrame(statistic_hour_of_day)\n",
    "\n",
    "plt.xlabel(\"Hours of day\")\n",
    "plt.ylabel(\"Number of flights\")\n",
    "plt.title('Figure 3: The change of number flights over hours of day')\n",
    "plt.grid(True,which=\"both\",ls=\"-\")\n",
    "\n",
    "# plot bar chart\n",
    "plt.bar(pdf_flight_per_hour[0], pdf_flight_per_hour[1], align=\"center\")\n",
    "\n",
    "plt.show()"
   ]
  },
  {
   "cell_type": "markdown",
   "metadata": {},
   "source": [
    "<div class=\"comment\">\n",
    "<h3>Comment</h3>\n",
    "We see that by far the biggest part of the flights take place between 6AM and 9PM. There are barely any night flights because of less demand on the one hand and surely because of governmental flight policies on the other. Flight numbers around 7AM and 8AM are slightly higher, which also makes sense because of business passengers as well as people who want to arrive early.\n",
    "</div>"
   ]
  },
  {
   "cell_type": "markdown",
   "metadata": {},
   "source": [
    "\n",
    "#### Question 4.4\n",
    "Which are the top 20 busiest airports: compute this in terms of aggregate inbound and outbound number of flights ?"
   ]
  },
  {
   "cell_type": "code",
   "execution_count": 17,
   "metadata": {
    "collapsed": false
   },
   "outputs": [
    {
     "name": "stdout",
     "output_type": "stream",
     "text": [
      "+-------+------+\n",
      "|airport| total|\n",
      "+-------+------+\n",
      "|    ORD|561461|\n",
      "|    DFW|516523|\n",
      "|    ATL|443074|\n",
      "|    LAX|306453|\n",
      "|    STL|304409|\n",
      "|    DEN|285526|\n",
      "|    PHX|280560|\n",
      "|    DTW|276272|\n",
      "|    PIT|262939|\n",
      "|    CLT|259712|\n",
      "|    MSP|247980|\n",
      "|    SFO|235478|\n",
      "|    EWR|233991|\n",
      "|    IAH|208591|\n",
      "|    LGA|203362|\n",
      "|    BOS|199696|\n",
      "|    LAS|189920|\n",
      "|    PHL|186897|\n",
      "|    DCA|176115|\n",
      "|    MCO|153720|\n",
      "+-------+------+\n",
      "only showing top 20 rows\n",
      "\n"
     ]
    }
   ],
   "source": [
    "# consider outbound flights\n",
    "stat_src = (df\n",
    "            .groupBy(df.src_airport)\n",
    "            .agg(func.count('*').alias('count1'))\n",
    "            )\n",
    "    \n",
    "# consider inbound flights\n",
    "stat_dest = (df\n",
    "            .groupBy(df.dest_airport)\n",
    "            .agg(func.count('*').alias('count2'))\n",
    "            )\n",
    "\n",
    "\n",
    "# full join the statistic of inbound flights and outbound flights\n",
    "stat_airports = stat_src.join(stat_dest, stat_src.src_airport == stat_dest.dest_airport)\n",
    "\n",
    "# TOP 20 BUSIEST AIRPORTS\n",
    "stat_airport_traffic = (stat_airports\n",
    "                            # define the new column `total` \n",
    "                            # which has values are equal to the sum of `count1` and `count2`\n",
    "                            .withColumn('total', stat_airports['count1'] + stat_airports['count2'])\n",
    "                            # select top airpoint in termns of number of flights\n",
    "                            .select(col(\"src_airport\").alias(\"airport\"), col(\"total\")).orderBy(desc('total'))\n",
    "                        )\n",
    "stat_airport_traffic.show(20)"
   ]
  },
  {
   "cell_type": "markdown",
   "metadata": {},
   "source": [
    "\n",
    "#### Question 4.5\n",
    "Which are the top 20 busiest carriers: compute this in terms of number of flights? \n"
   ]
  },
  {
   "cell_type": "code",
   "execution_count": 18,
   "metadata": {
    "collapsed": false
   },
   "outputs": [
    {
     "name": "stdout",
     "output_type": "stream",
     "text": [
      "+-------+------+\n",
      "|carrier| count|\n",
      "+-------+------+\n",
      "|     DL|874526|\n",
      "|     US|857906|\n",
      "|     AA|722277|\n",
      "|     UA|638750|\n",
      "|     WN|565426|\n",
      "|     CO|484834|\n",
      "|     NW|482798|\n",
      "|     TW|258205|\n",
      "|     HP|177851|\n",
      "|     AS|117475|\n",
      "+-------+------+\n",
      "\n"
     ]
    }
   ],
   "source": [
    "\n",
    "stat_carrier = (df\n",
    "                .groupBy(df.carrier)\n",
    "                .agg(func.count('*').alias('count'))\n",
    "                .orderBy(desc('count'))\n",
    "                )\n",
    "\n",
    "stat_carrier.show(20)\n"
   ]
  },
  {
   "cell_type": "markdown",
   "metadata": {},
   "source": [
    "![](https://farm2.staticflickr.com/1604/24934700445_833f0a5649_t.jpg)"
   ]
  },
  {
   "cell_type": "markdown",
   "metadata": {},
   "source": [
    "\n",
    "### Question 5 \n",
    "Statistics on the percentage of delayed flights\n",
    "\n",
    "#### Question 5.1\n",
    "What is the percentage of delayed flights for different hours of the day? Plot a bar chart and interpret the figure.\n",
    "Remember: a flight is considered as delayed if it's actual arrival time is more than 15 minutes late than the scheduled arrival time."
   ]
  },
  {
   "cell_type": "code",
   "execution_count": 65,
   "metadata": {
    "collapsed": false
   },
   "outputs": [],
   "source": [
    "\n",
    "# create new column that marks whether the flights are delay\n",
    "df_with_delay = df.withColumn('is_delay', when(df.arrival_delay >= 15, 1).otherwise(0))\n",
    "\n",
    "# create a new column that indicates the scheduled departure time in hour \n",
    "# (ignore the part of minute)\n",
    "delay_per_hour = df_with_delay.withColumn('hour', (df.scheduled_departure_time/100).cast(LongType()))\n",
    "\n",
    "# group by year and hour\n",
    "statistic_delay_hour = delay_per_hour.groupBy(delay_per_hour.hour)\n",
    "\n",
    "# calculate the delay ratio and create a new column\n",
    "delay_ratio_per_hour = statistic_delay_hour.agg(\n",
    "    (func.sum('is_delay')/func.count('*')).alias('delay_ratio')\n",
    ")\n",
    "\n",
    "    \n",
    "# order the result by hour\n",
    "delay_ratio_per_hour = (\n",
    "            delay_ratio_per_hour\n",
    "                .orderBy(asc('hour'))\n",
    "                .select(['hour', 'delay_ratio'])\n",
    "    ).collect()\n"
   ]
  },
  {
   "cell_type": "code",
   "execution_count": 20,
   "metadata": {
    "collapsed": false
   },
   "outputs": [
    {
     "data": {
      "image/png": "[encoded data removed]",
      "text/plain": [
       "<matplotlib.figure.Figure at 0x7fb5b3126860>"
      ]
     },
     "metadata": {},
     "output_type": "display_data"
    }
   ],
   "source": [
    "\n",
    "# plot a bar chart\n",
    "\n",
    "pdf_delay_ratio_per_hour = pd.DataFrame(delay_ratio_per_hour)\n",
    "plt.xlabel(\"Hours of day\")\n",
    "plt.ylabel(\"Ratio of delays\")\n",
    "plt.title('Figure 4: The ratio of delay over hours in day')\n",
    "plt.grid(True,which=\"both\",ls=\"-\")\n",
    "\n",
    "# plot bar chart\n",
    "plt.bar(pdf_delay_ratio_per_hour[0], pdf_delay_ratio_per_hour[1], align=\"center\")\n",
    "\n",
    "plt.show()\n"
   ]
  },
  {
   "cell_type": "markdown",
   "metadata": {},
   "source": [
    "<div class=\"comment\">\n",
    "<h3>Comment</h3>\n",
    "The ratio of delays are the highest in the evening from 5PM-8PM. Taking away the delay proportions between 0AM-3AM and attaching them to the right of the histogram, we obtain a gaussian-like curve, i.e. the further we get away from 5PM-8PM the less likely a delay becomes.\n",
    "</div>"
   ]
  },
  {
   "cell_type": "markdown",
   "metadata": {},
   "source": [
    "\n",
    "#### Question 5.2\n",
    "\n",
    "You will realize that saying \"at 4 A.M. there is a very low chance of a flight being delayed\" is not giving you a full picture of the situation. Indeed, it might be true that there is very little probability for a early flight to be delayed, but if it does, the delay might be huge, like 6 hours! \n",
    "\n",
    "Then, the question is: which hours of the day are characterized by the largest delay? Plot a Bar chart and explain it."
   ]
  },
  {
   "cell_type": "code",
   "execution_count": 21,
   "metadata": {
    "collapsed": false
   },
   "outputs": [
    {
     "data": {
      "image/png": "[encoded data removed]",
      "text/plain": [
       "<matplotlib.figure.Figure at 0x7fb5b307d908>"
      ]
     },
     "metadata": {},
     "output_type": "display_data"
    }
   ],
   "source": [
    "\n",
    "mean_delay_per_hour = statistic_delay_hour.agg(\n",
    "    (func.mean('arrival_delay')).alias('mean_delay')\n",
    ")\n",
    "    \n",
    "mean_delay_per_hour = (\n",
    "    mean_delay_per_hour\n",
    "        .orderBy(asc('hour'))\n",
    "        .select(['hour','mean_delay'])\n",
    "    ).collect()\n",
    "    \n",
    "pdf_mean_delay_per_hour = pd.DataFrame(mean_delay_per_hour)\n",
    "\n",
    "plt.xlabel(\"Hours of day\")\n",
    "plt.ylabel(\"Mean delay\")\n",
    "plt.title('Figure 5: The delay over hours in day')\n",
    "plt.grid(True,which=\"both\",ls=\"-\")\n",
    "\n",
    "# plot bar chart\n",
    "plt.bar(pdf_mean_delay_per_hour[0], pdf_mean_delay_per_hour[1], align=\"center\")\n",
    "\n",
    "plt.show()\n"
   ]
  },
  {
   "cell_type": "markdown",
   "metadata": {},
   "source": [
    "<div class=\"comment\">\n",
    "<h3>Comment</h3>\n",
    "Again we obtain a gaussian-like curve. This time there is a little exception in the distribution: Flights at 2 and 3AM arrive 3 hours earlier on average. Flights at 11PM break the distribution as well. Other than that, the mean hours of delay are pretty much aligned to the ratio of delays.\n",
    "</div>"
   ]
  },
  {
   "cell_type": "markdown",
   "metadata": {},
   "source": [
    "With data of year 1994, the flight from 3AM to 4AM often depart earlier than in their schedule. The flights in the morning have less delay then in the afternoon and evening.\n",
    "\n",
    "So, an attentive student should notice here that we have somehow a problem with the definition of delay! Next, we will improve how to represent and visualize data to overcome this problem."
   ]
  },
  {
   "cell_type": "code",
   "execution_count": 22,
   "metadata": {
    "collapsed": false
   },
   "outputs": [
    {
     "data": {
      "image/png": "[encoded data removed]",
      "text/plain": [
       "<matplotlib.figure.Figure at 0x7fb5b274bda0>"
      ]
     },
     "metadata": {},
     "output_type": "display_data"
    }
   ],
   "source": [
    "#pdf2 = pd.DataFrame(data=mean_delay_per_hour.collect())\n",
    "plt.xlabel(\"Hours\")\n",
    "plt.ylabel(\"Ratio of delay\")\n",
    "plt.title('Figure 6: The radio of delay over hours in day')\n",
    "plt.grid(True,which=\"both\",ls=\"-\")\n",
    "bars = plt.bar(pdf_delay_ratio_per_hour[0], pdf_delay_ratio_per_hour[1], align='center', edgecolor = \"black\")\n",
    "for i in range(0, len(bars)):\n",
    "    color = 'red'\n",
    "    if pdf_mean_delay_per_hour[1][i] < 0:\n",
    "        color = 'lightgreen'\n",
    "    elif pdf_mean_delay_per_hour[1][i] < 2:\n",
    "        color = 'green'\n",
    "    elif pdf_mean_delay_per_hour[1][i] < 4:\n",
    "        color = 'yellow'\n",
    "    elif pdf_mean_delay_per_hour[1][i] < 8:\n",
    "        color = 'orange'\n",
    "\n",
    "    bars[i].set_color(color)\n",
    "        \n",
    "patch1 = mpatches.Patch(color='lightgreen', label='Depart earlier')\n",
    "patch2 = mpatches.Patch(color='green', label='delay < 2 minutes')\n",
    "patch3 = mpatches.Patch(color='yellow', label='delay < 4 minutes')\n",
    "patch4 = mpatches.Patch(color='orange', label='delay < 8 minutes')\n",
    "patch5 = mpatches.Patch(color='red', label='delay >= 8 minutes')\n",
    "\n",
    "plt.legend(handles=[patch1, patch2, patch3, patch4, patch5], bbox_to_anchor=(1.05, 1), loc=2, borderaxespad=0.)\n",
    "\n",
    "plt.show()"
   ]
  },
  {
   "cell_type": "markdown",
   "metadata": {},
   "source": [
    "In the new figure (Figure 6), we have more information in a single plot. The flights in 3AM to 4AM have very low probability of being delayed, and actually depart ealier than their schedule. In contrast, the flights in the 4PM to 8PM range have higher chances of being delayed: in more than 50% of the cases, the delay is 8 minutes or more.\n",
    "\n",
    "This example shows us that the way representing results are also important.\n"
   ]
  },
  {
   "cell_type": "markdown",
   "metadata": {},
   "source": [
    "\n",
    "#### Question 5.3\n",
    "Plot a bar chart to show the percentage of delayed flights over days in a month"
   ]
  },
  {
   "cell_type": "code",
   "execution_count": 66,
   "metadata": {
    "collapsed": false,
    "scrolled": true
   },
   "outputs": [
    {
     "data": {
      "image/png": "[encoded data removed]",
      "text/plain": [
       "<matplotlib.figure.Figure at 0x7fbe2014ff98>"
      ]
     },
     "metadata": {},
     "output_type": "display_data"
    }
   ],
   "source": [
    "####### The changes of delay ratio over days of month ########\n",
    "# calculate the delay ratio in each day of month\n",
    "statistic_day_of_month = (\n",
    "    df_with_delay\n",
    "        .groupBy('day_of_month')\n",
    "        .agg((func.sum('is_delay')/func.count('*')).alias('delay_ratio'))\n",
    "        # order by day_of_month\n",
    "        .orderBy('day_of_month')\n",
    "    ).collect()\n",
    "    \n",
    "# collect data and plot\n",
    "pdf_day_of_month = pd.DataFrame(statistic_day_of_month)\n",
    "plt.xlabel(\"Day of month\")\n",
    "plt.ylabel(\"Delay ratio\")\n",
    "plt.title('Figure 7: The ratio of delay over days of month')\n",
    "plt.bar(pdf_day_of_month[0], pdf_day_of_month[1], align=\"center\")\n",
    "plt.show()\n"
   ]
  },
  {
   "cell_type": "markdown",
   "metadata": {},
   "source": [
    "<div class=\"comment\">\n",
    "<h3>Comment</h3>\n",
    "We observe comparatively low mean delays on: 1, 2, 3, 4, 11 , 19, 24, 30, 31<br />\n",
    "In 1994 on all of these days there was at least one public holiday except for the 2nd. Moreover, almost all of these days had an above average quote of weekend days (Saturday and Sunday) during which there is slightly less airline traffic (as we saw above). We conclude that the drop in traffic causes a drop in mean delays.<br />\n",
    "There are particularly high delay peaks on the 9th, the 21st and the 27th. The 21st and the 27th might be due to a large increase in travels around the Christmas holidays in December.\n",
    "</div>"
   ]
  },
  {
   "cell_type": "markdown",
   "metadata": {},
   "source": [
    "\n",
    "#### Question 5.4\n",
    "Plot a bar chart to show the percentage of delayed flights over days in a week"
   ]
  },
  {
   "cell_type": "code",
   "execution_count": 24,
   "metadata": {
    "collapsed": false
   },
   "outputs": [
    {
     "data": {
      "image/png": "[encoded data removed]",
      "text/plain": [
       "<matplotlib.figure.Figure at 0x7fb5b311b438>"
      ]
     },
     "metadata": {},
     "output_type": "display_data"
    }
   ],
   "source": [
    "\n",
    "####### The changes of delay ratio over days of week ########\n",
    "# calculate the delay ratio in each day of week\n",
    "statistic_day_of_week = (\n",
    "    df_with_delay\n",
    "        .groupBy('day_of_week')\n",
    "        .agg(\n",
    "            (func.mean('arrival_delay')).alias('mean_delay')\n",
    "        )\n",
    "        .orderBy('day_of_week')\n",
    "    ).collect()\n",
    "    \n",
    "# collect data and plot\n",
    "pdf_day_of_week = pd.DataFrame(statistic_day_of_week)\n",
    "map_int_into_day = { 1:\"Mon\", 2:\"Tue\", 3:\"Wed\", 4:\"Thu\", 5:\"Fri\", 6:\"Sat\", 7:\"Sun\" }\n",
    "day_of_week_label = pdf_day_of_week[0].map(lambda i: map_int_into_day[i])\n",
    "\n",
    "plt.xlabel(\"Day of week\")\n",
    "plt.ylabel(\"Mean delay\")\n",
    "plt.bar(pdf_day_of_week[0], pdf_day_of_week[1], align=\"center\")\n",
    "\n",
    "plt.title('Figure 8: The radio of delay over days of week')\n",
    "plt.xticks(pdf_day_of_week[0], day_of_week_label)\n",
    "plt.show()\n"
   ]
  },
  {
   "cell_type": "markdown",
   "metadata": {},
   "source": [
    "<div class=\"comment\">\n",
    "<h3>Comment</h3>\n",
    "The mean delay Saturday and Sunday is lower than during the week which is probably due to the lower number of flights on these days.<br />\n",
    "However, we also see that the delay is centered around Wednesday, Thursday and Friday.\n",
    "</div>"
   ]
  },
  {
   "cell_type": "markdown",
   "metadata": {},
   "source": [
    "\n",
    "#### Question 5.5\n",
    "Plot a bar chart to show the percentage of delayed flights over months in a year"
   ]
  },
  {
   "cell_type": "code",
   "execution_count": 43,
   "metadata": {
    "collapsed": false
   },
   "outputs": [
    {
     "data": {
      "image/png": "[encoded data removed]",
      "text/plain": [
       "<matplotlib.figure.Figure at 0x7fb5b18a9f98>"
      ]
     },
     "metadata": {},
     "output_type": "display_data"
    }
   ],
   "source": [
    "\n",
    "####### The changes of delay ratio over months ########\n",
    "# calculate the delay ratio in month\n",
    "statistic_month = (\n",
    "    df_with_delay\n",
    "        .groupBy('month')\n",
    "        .agg(\n",
    "            func.mean('arrival_delay').alias('mean_delay')\n",
    "            #(func.sum('is_delay')/func.count('*')).alias('delay_ratio')\n",
    "        )\n",
    "        .orderBy('month')\n",
    "    ).collect()\n",
    "\n",
    "# collect data and plot\n",
    "pdf_month = pd.DataFrame(statistic_month)\n",
    "\n",
    "plt.xlabel(\"Month\")\n",
    "plt.ylabel(\"Mean delay\")\n",
    "plt.bar(pdf_month[0], pdf_month[1], align=\"center\")\n",
    "plt.grid(True,which=\"both\",ls=\"-\")\n",
    "\n",
    "plt.title('Figure 9: The ratio of delay over months')\n",
    "plt.show()\n"
   ]
  },
  {
   "cell_type": "markdown",
   "metadata": {},
   "source": [
    "<div class=\"comment\">\n",
    "<h3>Comment</h3>\n",
    "We can see that the mean delay in the beginning of the year and during summer is the highest. The lowest delays are in May and September. According to the US school holiday schedule the summer break is over in September at the latest. Therefore, we can assume that the flight schedule becomes regular again in that month so that delays can be foreseen and prevented more easily. The same goes for the month of May which is just before the summer break.\n",
    "</div>"
   ]
  },
  {
   "cell_type": "markdown",
   "metadata": {},
   "source": [
    "We are ready now to draw some observations from our data, even if we have only looked at data coming from a year worth of flights:\n",
    "\n",
    "- The probability for a flight to be delayed is low at the beginning or at the very end of a given months\n",
    "- Flights on two first weekdays and on the weekend are less likely to be delayed\n",
    "- May and September are very good months for travelling, as the probability of delay is low (remember we're working on US data. Do you think this is also true in France?)\n",
    "\n",
    "Putting things together, we can have a global picture of the whole year!"
   ]
  },
  {
   "cell_type": "code",
   "execution_count": 44,
   "metadata": {
    "collapsed": false
   },
   "outputs": [],
   "source": [
    "df_with_delay = df.withColumn('is_delay', when(df[\"arrival_delay\"] >= 15, 1).otherwise(0))\n",
    "statistic_day = df_with_delay.groupBy(['year','month', 'day_of_month', 'day_of_week'])\\\n",
    "    .agg((func.sum('is_delay')/func.count('*')).alias('delay_ratio'))\n",
    "\n",
    "# assume that we do statistic on year 1994\n",
    "statistic_day = statistic_day\\\n",
    "    .orderBy('year', 'month', 'day_of_month', 'day_of_week')\n",
    "pdf = pd.DataFrame(data=statistic_day.collect())"
   ]
  },
  {
   "cell_type": "code",
   "execution_count": 45,
   "metadata": {
    "collapsed": false
   },
   "outputs": [
    {
     "data": {
      "image/png": "[encoded data removed]",
      "text/plain": [
       "<matplotlib.figure.Figure at 0x7fb5b380a9e8>"
      ]
     },
     "metadata": {},
     "output_type": "display_data"
    }
   ],
   "source": [
    "fig = plt.figure(figsize=(20,10))                                                             \n",
    "ax = fig.add_subplot(1,1,1)     \n",
    "plt.xlabel(\"Weeks/Months in year\")\n",
    "plt.ylabel(\"Day of weeks (1:Monday -> 7 :Sunday)\")\n",
    "plt.title('Figure 10: The change of number flights over days in year')\n",
    "  \n",
    "rec_size = 0.3\n",
    "from matplotlib.patches import Rectangle\n",
    "import datetime\n",
    "num_days = len(pdf[0])\n",
    "ax.patch.set_facecolor('gray')\n",
    "ax.set_aspect('equal', 'box')\n",
    "ax.xaxis.set_major_locator(plt.NullLocator())\n",
    "ax.yaxis.set_major_locator(plt.NullLocator())\n",
    "\n",
    "for i in range(0, num_days):\n",
    "    # extract information from the result\n",
    "    year = pdf[0][i]\n",
    "    month = pdf[1][i]\n",
    "    day_of_month = pdf[2][i]\n",
    "    day_of_week = pdf[3][i]\n",
    "    day_of_year= datetime.date(year=year, month=month, day=day_of_month).timetuple()\n",
    "    week_of_year = datetime.date(year=year, month=month, day=day_of_month).isocalendar()[1]\n",
    "    \n",
    "    # dealing with the week of the previous year\n",
    "    if week_of_year == 52 and month == 1:\n",
    "        week_of_year = 0\n",
    "        \n",
    "    # the coordinate of a day in graph\n",
    "    X = week_of_year*rec_size\n",
    "    Y = day_of_week*rec_size\n",
    "    \n",
    "    # use different colors to show the delay ratio\n",
    "    color = 'white'\n",
    "    if pdf[4][i] <= 0.084:\n",
    "        color = 'lightyellow'\n",
    "    elif pdf[4][i] <= 0.117:\n",
    "        color = 'lightgreen'\n",
    "    elif pdf[4][i] <= 0.152:\n",
    "        color = 'gold'\n",
    "    elif pdf[4][i] <= 0.201:\n",
    "        color = 'orange'\n",
    "    else:\n",
    "        color = 'red'\n",
    "    rect = plt.Rectangle((X - rec_size/2.0, Y - rec_size/2.0), rec_size, rec_size,\n",
    "                      alpha=1, facecolor=color, edgecolor='whitesmoke')\n",
    "\n",
    "    ax.add_patch(rect)\n",
    "    \n",
    "    # drawing boders to separate months\n",
    "    if day_of_month <= 7:\n",
    "        rect2 = plt.Rectangle((X -rec_size/2.0, Y - rec_size/2.0), 0.01, rec_size,\n",
    "                      alpha=1, facecolor='black')\n",
    "        ax.add_patch(rect2)\n",
    "    if day_of_month == 1:\n",
    "        rect2 = plt.Rectangle((X - rec_size/2.0, Y - rec_size/2.0), rec_size, 0.01,\n",
    "                      alpha=1, facecolor='black')\n",
    "        ax.add_patch(rect2)\n",
    "ax.autoscale_view()\n",
    "\n",
    "patch1 = mpatches.Patch(color='lightyellow', label='delay ratio < 8.4%')\n",
    "patch2 = mpatches.Patch(color='lightgreen', label='delay ratio < 11.7%')\n",
    "patch3 = mpatches.Patch(color='gold', label='delay ratio < 15.2%')\n",
    "patch4 = mpatches.Patch(color='orange', label='delay ratio < 20.1%')\n",
    "patch5 = mpatches.Patch(color='red', label='delay ratio >= 20.1%')\n",
    "\n",
    "plt.legend(handles=[patch1, patch2, patch3, patch4, patch5], bbox_to_anchor=(1.05, 1), loc=2, borderaxespad=0.)\n",
    "\n",
    "plt.show()"
   ]
  },
  {
   "cell_type": "markdown",
   "metadata": {},
   "source": [
    "\n",
    "#### Question 5.6\n",
    "Explain figure 10."
   ]
  },
  {
   "cell_type": "markdown",
   "metadata": {},
   "source": [
    "<div class=\"answer\">\n",
    "<h3>Comment</h3>\n",
    "Figure 10 gives us a good summary over the delay statistics seen before. The delay ratio is depicted with respect to every day of the year 1994 categorized into days of the week, weeks and months.<br />\n",
    "We can quickly see that the beginning, the end of the year as well as the summer periods have a high ratio of delays. Before we could only say that the average hours of delays was high in those months.<br />\n",
    "In particular, Wednesday, Thursday and Friday are hit by high delay ratios in this timeframe. Again this is well aligned with the average hours of delay.\n",
    "</div>"
   ]
  },
  {
   "cell_type": "markdown",
   "metadata": {
    "collapsed": true
   },
   "source": [
    "\n",
    "#### Question 5.7\n",
    "\n",
    "What is the delay probability for the top 20 busiest airports?\n",
    "By drawing the flight volume of each airport and the associated delay probability in a single plot, we can observe the relaltionship between aiports, number of flights and the delay.\n",
    "\n",
    "HINT: Function `<df_colum>.isin(<list>)` helps checking whether a value in column belongs to a list."
   ]
  },
  {
   "cell_type": "code",
   "execution_count": 49,
   "metadata": {
    "collapsed": false
   },
   "outputs": [
    {
     "name": "stdout",
     "output_type": "stream",
     "text": [
      "+-----------+-------------------+\n",
      "|src_airport|        delay_ratio|\n",
      "+-----------+-------------------+\n",
      "|        ATL|0.21205403501801467|\n",
      "|        BOS|0.20337767149902855|\n",
      "|        CLT|0.22251161209048542|\n",
      "|        DCA| 0.1599864322460286|\n",
      "|        DEN|0.20354670607451195|\n",
      "|        DFW|0.22524719636014578|\n",
      "|        DTW|0.17069213736050923|\n",
      "|        EWR|0.26439606741573035|\n",
      "|        IAH| 0.1660171622737133|\n",
      "|        LAS|0.17218759213241797|\n",
      "|        LAX|0.16996104082244257|\n",
      "|        LGA|0.19028312259483232|\n",
      "|        MCO|  0.167725622406639|\n",
      "|        MSP|0.15585690866890653|\n",
      "|        ORD|0.16788302771286917|\n",
      "|        PHL|0.21505583159694394|\n",
      "|        PHX|0.17194317278139576|\n",
      "|        PIT|0.21883994899867915|\n",
      "|        SFO|0.16634949633351095|\n",
      "|        STL|0.18877507271995725|\n",
      "+-----------+-------------------+\n",
      "\n"
     ]
    }
   ],
   "source": [
    "\n",
    "####### The delay ratio of the top 20 busiest airports ########\n",
    "K = 20\n",
    "\n",
    "# extract top_20_airports from stat_airport_traffic\n",
    "top_20_airports = [item[0] for item in stat_airport_traffic.take(K)]\n",
    "\n",
    "# select the statistic of source airports\n",
    "statistic_ratio_delay_airport = (\n",
    "    df_with_delay\n",
    "        # select only flights that depart from one of top 20 ariports\n",
    "        .filter(col(\"src_airport\").isin(top_20_airports))\n",
    "        # group by source airport\n",
    "        .groupBy('src_airport')\n",
    "        #  calculate the delay ratio\n",
    "        .agg((func.sum('is_delay')/func.count('*')).alias('delay_ratio'))\n",
    "        # sort by name of airport\n",
    "        .orderBy(['src_airport'])\n",
    "    )\n",
    "statistic_ratio_delay_airport.show(20)\n"
   ]
  },
  {
   "cell_type": "code",
   "execution_count": 50,
   "metadata": {
    "collapsed": false
   },
   "outputs": [
    {
     "data": {
      "image/png": "[encoded data removed]",
      "text/plain": [
       "<matplotlib.figure.Figure at 0x7fb5b185cb70>"
      ]
     },
     "metadata": {},
     "output_type": "display_data"
    }
   ],
   "source": [
    "# collect data and plot\n",
    "pdf_ratio_delay_airport = pd.DataFrame(data=statistic_ratio_delay_airport.collect())\n",
    "pdf_top_20_airport_volume = pd.DataFrame(data=stat_airport_traffic.take(K), columns=['src_airport', 'total'])\n",
    "pdf_top_20_airport_volume = pdf_top_20_airport_volume.sort_values(by='src_airport')\n",
    "#print(pdf_top_20_airport_volume)\n",
    "index = np.arange(len(top_20_airports))\n",
    "bar_width = 0.35\n",
    "opacity = 0.4\n",
    "\n",
    "\n",
    "fig = plt.figure(figsize=(20,10))                                                             \n",
    "ax = fig.add_subplot(1,1,1)\n",
    "\n",
    "ax2 = ax.twinx()\n",
    "plt.axis('normal')\n",
    "ax.set_xlabel(\"Airport\")\n",
    "ax.set_ylabel(\"Flight volume\")\n",
    "ax2.set_ylabel(\"Ratio of delay\")\n",
    "plt.xticks(index + bar_width, top_20_airports)\n",
    "plt.title('Figure 11: The ratio of delay over months')\n",
    "plt.grid(True,which=\"both\",ls=\"-\")\n",
    "bar = ax.bar(index, pdf_top_20_airport_volume['total'], \n",
    "        bar_width, color='b', \n",
    "        label='flight volume')\n",
    "bar2 = ax2.bar(index + 1.5*bar_width, pdf_ratio_delay_airport[1], bar_width, \n",
    "       align='center', color='r', \n",
    "       label='Delay ratio')\n",
    "\n",
    "lines, labels = ax.get_legend_handles_labels()\n",
    "lines2, labels2 = ax2.get_legend_handles_labels()\n",
    "ax2.legend(lines + lines2, labels + labels2, loc=0)\n",
    "\n",
    "plt.tight_layout()\n",
    "plt.show()"
   ]
  },
  {
   "cell_type": "markdown",
   "metadata": {},
   "source": [
    "<div class=\"comment\">\n",
    "<h3>Comment</h3>\n",
    "The flight volume of each airport and the delay ratio seem to have less correlation than one might expect. E.g. LGA has the highest flight volume but only a medium delay ratio. BOS has a low flight volume but an above-average delay ratio.<br />\n",
    "<strong>However, we should also look at the kinds of flights and their impact on delays. Maybe long-distance flights are more prone to delays than short-distance flights or the other way around. Therefore, airports with different kinds of traffic may be affected by the delays in a special way.</strong>\n",
    "</div>"
   ]
  },
  {
   "cell_type": "markdown",
   "metadata": {},
   "source": [
    "\n",
    "#### Question 5.8\n",
    "What is the percentage of delayed flights which belong to one of the top 20 busiest carriers? Comment the figure!"
   ]
  },
  {
   "cell_type": "code",
   "execution_count": 52,
   "metadata": {
    "collapsed": false
   },
   "outputs": [
    {
     "name": "stdout",
     "output_type": "stream",
     "text": [
      "+-------+-------------------+\n",
      "|carrier|        delay_ratio|\n",
      "+-------+-------------------+\n",
      "|     AA| 0.1752444006939166|\n",
      "|     AS| 0.1596424771227921|\n",
      "|     CO| 0.1955576547849367|\n",
      "|     DL|0.18328443065157582|\n",
      "|     HP|0.18625141269939444|\n",
      "|     NW| 0.1294806523639286|\n",
      "|     TW|0.18212273193780135|\n",
      "|     UA| 0.1686528375733855|\n",
      "|     US|0.18422298014001534|\n",
      "|     WN|0.12829795587751536|\n",
      "+-------+-------------------+\n",
      "\n"
     ]
    }
   ],
   "source": [
    "\n",
    "K = 20\n",
    "stat_carrier\n",
    "# extract top_20_carriers from stat_carrier\n",
    "top_20_carriers = [item[0] for item in stat_carrier.take(K)]\n",
    "\n",
    "statistic_ratio_delay_carrier = (\n",
    "    df_with_delay\n",
    "        # select only flights that belong from one of top 20 carriers\n",
    "        .filter(col('carrier').isin(top_20_carriers))\n",
    "        # group by carriers\n",
    "        .groupBy('carrier')\n",
    "        #  calculate the delay ratio\n",
    "        .agg((func.sum('is_delay')/func.count('*')).alias('delay_ratio'))\n",
    "        # sort by name of airport\n",
    "        .orderBy(['carrier'])\n",
    "    )\n",
    "statistic_ratio_delay_carrier.show(20)\n"
   ]
  },
  {
   "cell_type": "code",
   "execution_count": 53,
   "metadata": {
    "collapsed": false
   },
   "outputs": [
    {
     "data": {
      "image/png": "[encoded data removed]",
      "text/plain": [
       "<matplotlib.figure.Figure at 0x7fb5b17cbcf8>"
      ]
     },
     "metadata": {},
     "output_type": "display_data"
    }
   ],
   "source": [
    "# collect data and plot\n",
    "pdf_ratio_delay_carrier = pd.DataFrame(data=statistic_ratio_delay_carrier.collect())\n",
    "pdf_top_20_carrier_volume = pd.DataFrame(data=stat_carrier.take(K), columns=['carrier', 'count'])\n",
    "pdf_top_20_carrier_volume = pdf_top_20_carrier_volume.sort_values(by='carrier')\n",
    "#print(pdf_top_20_carrier_volume)\n",
    "top_20_carriers.sort()\n",
    "index = np.arange(len(top_20_carriers))\n",
    "bar_width = 0.35\n",
    "opacity = 0.4\n",
    "\n",
    "\n",
    "fig = plt.figure(figsize=(20,10))                                                             \n",
    "ax = fig.add_subplot(1,1,1)\n",
    "\n",
    "ax2 = ax.twinx()\n",
    "plt.axis('normal')\n",
    "ax.set_xlabel(\"Carrier\")\n",
    "ax.set_ylabel(\"Flight volume\")\n",
    "ax2.set_ylabel(\"Ratio of delay\")\n",
    "plt.xticks(index + bar_width, top_20_carriers)\n",
    "\n",
    "plt.title('Figure 11: The radio of delay over months')\n",
    "plt.grid(True,which=\"both\",ls=\"-\")\n",
    "bar = ax.bar(index, pdf_top_20_carrier_volume['count'], \n",
    "        bar_width, color='b', \n",
    "        label='flight volume')\n",
    "bar2 = ax2.bar(index + 1.5*bar_width, pdf_ratio_delay_carrier[1], bar_width, \n",
    "       align='center', color='r', \n",
    "       label='Delay ratio')\n",
    "\n",
    "lines, labels = ax.get_legend_handles_labels()\n",
    "lines2, labels2 = ax2.get_legend_handles_labels()\n",
    "ax2.legend(lines + lines2, labels + labels2, loc=0)\n",
    "\n",
    "plt.tight_layout()\n",
    "plt.show()"
   ]
  },
  {
   "cell_type": "markdown",
   "metadata": {},
   "source": [
    "<div class=\"comment\">\n",
    "<h3>Comment</h3>\n",
    "Again delay ratios and flight volumes do not seem to have a high correlation. It is interesting to see though that certain carriers have much less delays than others.<br />\n",
    "<strong>Again we should look at the kinds of flights they offer!</strong>\n",
    "</div>"
   ]
  },
  {
   "cell_type": "markdown",
   "metadata": {},
   "source": [
    "# 4. Building a model of our data\n",
    "Now that we have a good grasp on our data and its features, we will focus on how build a statistic model. Note that the features we can decide to use, to train our model, can be put in two groups:\n",
    "\n",
    "- **Explicit features**: these are features that are present in the original data, or that can be built using additional data sources such as `weather` (for example querying a public API)\n",
    "- **Implicit features**: these are the features that are inferred from other features such as `is_weekend`, `is_holiday`, `season`, `in_winter`,...\n",
    "\n",
    "In this notebook, we will focus on the following predictors: `year`, `month`, `day_of_month`, `day_of_week`, `scheduled_departure_time`, `scheduled_arrival_time`, `carrier`, `is_weekend`, `distance`, `src_airport`, `dest_airport`. Among them, `is_weekend` is an implicit feature. The rest are explicit features.\n",
    "\n",
    "The target feature is `arrival_delay`. \n",
    "\n",
    "Currently, MLLIB only supports building models from RDDs. It is important to read well the documentation and the MLLib API, to make sure to use the algorithms in an appropriate manner:\n",
    "\n",
    "- MLLIB supports both categorical and numerical features. However, for each categorical feature, we have to indicate how many distinct values they can take\n",
    "- Each training record must be a ```LabelledPoint```. This datastructure has 2 components: ```label``` and ```predictor vector```. ```label``` is the value of target feature in the current record. ```predictor vector``` is a vector of values of type ```Double```. As such, we need to map each value of each categorical feature to a number. In this project, we choose a naïve approach: map each value to an unique index. \n",
    "- MLLIB uses a binning technique to find the split point (the predicate in each tree node). In particular, it divides the domain of numerical features into ```maxBins``` bins (32 by default). With categorical features, each distinct value fits in its own bin. **IMPORTANT:** MLLIB requires that no categorical feature have more than `maxBins` distinct values.\n",
    "- We fill up the missing values in each **categorical** feature with it's most common value. The missing values of a **numerical** feature are also replaced by the most common value (however, in some cases, a more sensible approach would be to use the median of this kind of feature).\n"
   ]
  },
  {
   "cell_type": "markdown",
   "metadata": {},
   "source": [
    "## 4.1 Mapping values of each categorical feature to indices"
   ]
  },
  {
   "cell_type": "markdown",
   "metadata": {},
   "source": [
    "![](https://farm2.staticflickr.com/1604/24934700445_833f0a5649_t.jpg)"
   ]
  },
  {
   "cell_type": "markdown",
   "metadata": {},
   "source": [
    "\n",
    "### Question 6 \n",
    "\n",
    "Among the selected features, `src_aiport`, `dest_airport`, `carrier` and `distance` have missing values. Besides, the first three of them are categorical features. That means, in order to use them as input features of MLLIB, the values of these features must be numberical. We can use a naïve approach: map each value of each feature to an unique index.\n",
    "\n",
    "#### Question 6.1\n",
    "Calculate the frequency of each source aiport in the data and build a dictionary that maps each of them to a unique index.\n",
    "\n",
    "Note: we sort the airports by their frequency in descending order, so that we can easily take the most common airport(s) by taking the first element(s) in the result."
   ]
  },
  {
   "cell_type": "code",
   "execution_count": 7,
   "metadata": {
    "collapsed": false
   },
   "outputs": [
    {
     "name": "stdout",
     "output_type": "stream",
     "text": [
      "0\n",
      "2\n"
     ]
    }
   ],
   "source": [
    "# select distinct source airports and map values to index\n",
    "# sort the airport by their frequency descending\n",
    "# so the most common aiport will be on the top\n",
    "stat_src = (\n",
    "    df\n",
    "        .groupBy('src_airport')\n",
    "        .agg(func.count('*').alias('count1'))\n",
    "        .orderBy(desc('count1'))\n",
    "    )\n",
    "\n",
    "# extract the airport names from stat_src\n",
    "src_airports = [item[0] for item in stat_src.collect()]\n",
    "\n",
    "num_src_airports = len(src_airports)\n",
    "src_airports_idx = range(0, num_src_airports)\n",
    "map_src_airport_to_index = dict(zip(src_airports, src_airports_idx))\n",
    "\n",
    "# test the dictionary\n",
    "print(map_src_airport_to_index['ORD'])\n",
    "print(map_src_airport_to_index['ATL'])"
   ]
  },
  {
   "cell_type": "markdown",
   "metadata": {},
   "source": [
    "\n",
    "#### Question 6.2\n",
    "Calculate the frequency of each destination aiport in the data and build a dictionary that maps each of them to a unique index."
   ]
  },
  {
   "cell_type": "code",
   "execution_count": 8,
   "metadata": {
    "collapsed": false
   },
   "outputs": [
    {
     "name": "stdout",
     "output_type": "stream",
     "text": [
      "0\n",
      "2\n"
     ]
    }
   ],
   "source": [
    "# select distinct destination airports and map values to index\n",
    "# sort the airport by their frequency descending\n",
    "# so the most common aiport will be on the top\n",
    "stat_dest = (\n",
    "    df\n",
    "        .groupBy('dest_airport')\n",
    "        .agg(func.count('*').alias('count2'))\n",
    "        .orderBy(desc('count2'))\n",
    "    )\n",
    "\n",
    "dest_airports = [item[0] for item in stat_dest.collect()]\n",
    "\n",
    "num_dest_airports = len(dest_airports)\n",
    "map_dest_airport_to_index = dict(zip(dest_airports, range(0, num_dest_airports)))\n",
    "\n",
    "# test the dictionary\n",
    "print(map_dest_airport_to_index['ORD'])\n",
    "print(map_dest_airport_to_index['ATL'])"
   ]
  },
  {
   "cell_type": "markdown",
   "metadata": {},
   "source": [
    "\n",
    "#### Question 6.3\n",
    "Calculate the frequency of each carrier in the data and build a dictionary that maps each of them to a unique index."
   ]
  },
  {
   "cell_type": "code",
   "execution_count": 9,
   "metadata": {
    "collapsed": false
   },
   "outputs": [
    {
     "name": "stdout",
     "output_type": "stream",
     "text": [
      "0\n",
      "2\n"
     ]
    }
   ],
   "source": [
    "# select distinct carriers and map values to index\n",
    "# sort carriers by their frequency descending\n",
    "# so the most common aiport will be on the top\n",
    "\n",
    "stat_carr = (\n",
    "    df\n",
    "        .groupBy('carrier')\n",
    "        .agg(func.count('*').alias('count'))\n",
    "        .orderBy(desc('count'))\n",
    "    )\n",
    "\n",
    "carriers = [item[0] for item in stat_carr.collect()]\n",
    "\n",
    "num_carriers = len(carriers)\n",
    "map_carriers_to_index = dict(zip(carriers, range(0, num_carriers)))\n",
    "\n",
    "print(map_carriers_to_index['DL'])\n",
    "print(map_carriers_to_index['AA'])"
   ]
  },
  {
   "cell_type": "markdown",
   "metadata": {},
   "source": [
    "## 4.2 Calculating the most common value of each feature\n",
    "We use a simple strategy for filling in the missing values : replacing them with the most common value of the corresponding feature.\n",
    "\n",
    "**IMPORTANT NOTE:** features like ```month```, ```day_of_month```, etc... can be treated as numerical features in general. However, when it comes to build the model, it is much easier considering them as categorical features. In this case, to compute the most common value for such categorical features, we simply use the frequency of occurrence of each `label`, and chose the most frequent."
   ]
  },
  {
   "cell_type": "markdown",
   "metadata": {},
   "source": [
    "![](https://farm2.staticflickr.com/1604/24934700445_833f0a5649_t.jpg)"
   ]
  },
  {
   "cell_type": "markdown",
   "metadata": {},
   "source": [
    "\n",
    "### Question 7\n",
    "In the previous question, when constructing the dictionary for categorical features, we also sort their statistical information in a such way that the most common value of each feature are placed on the top.\n",
    "\n",
    "Note that, feature `is_weekend` has the most common value set to `0` (that is, `no` the day is not a weekend)."
   ]
  },
  {
   "cell_type": "markdown",
   "metadata": {},
   "source": [
    "\n",
    "#### Question 7.1\n",
    "Find the most common value of feature `month` in data.\n",
    "\n"
   ]
  },
  {
   "cell_type": "code",
   "execution_count": 10,
   "metadata": {
    "collapsed": false
   },
   "outputs": [
    {
     "name": "stdout",
     "output_type": "stream",
     "text": [
      "The most common month: 8\n"
     ]
    }
   ],
   "source": [
    "the_most_common_month = (\n",
    "    df\n",
    "        .groupBy('month')\n",
    "        .agg(func.count('*').alias('count'))\n",
    "        .orderBy(desc('count'))\n",
    "    ).first()[0]\n",
    "\n",
    "print(\"The most common month:\", the_most_common_month)"
   ]
  },
  {
   "cell_type": "markdown",
   "metadata": {},
   "source": [
    "\n",
    "#### Question 7.2\n",
    "Find the most common value of features `day_of_month` and `day_of_week`."
   ]
  },
  {
   "cell_type": "code",
   "execution_count": 11,
   "metadata": {
    "collapsed": false
   },
   "outputs": [
    {
     "name": "stdout",
     "output_type": "stream",
     "text": [
      "The most common day of month: 11\n",
      "The most common day of week: 3\n"
     ]
    }
   ],
   "source": [
    "the_most_common_day_of_month = (\n",
    "    df\n",
    "        .groupBy('day_of_month')\n",
    "        .agg(func.count('*').alias('count'))\n",
    "        .orderBy(desc('count'))\n",
    "    ).first()[0]\n",
    "\n",
    "the_most_common_day_of_week = (\n",
    "    df\n",
    "        .groupBy('day_of_week')\n",
    "        .agg(func.count('*').alias('count'))\n",
    "        .orderBy(desc('count'))\n",
    "    ).first()[0]\n",
    "\n",
    "print(\"The most common day of month:\", the_most_common_day_of_month)\n",
    "print(\"The most common day of week:\", the_most_common_day_of_week)"
   ]
  },
  {
   "cell_type": "markdown",
   "metadata": {},
   "source": [
    "\n",
    "#### Question 7.3\n",
    "Find the most common value of features `scheduled_departure_time` and `scheduled_arrival_time`."
   ]
  },
  {
   "cell_type": "code",
   "execution_count": 12,
   "metadata": {
    "collapsed": false
   },
   "outputs": [
    {
     "name": "stdout",
     "output_type": "stream",
     "text": [
      "The most common scheduled departure time: 700\n",
      "The most common scheduled arrival time: 1915\n"
     ]
    }
   ],
   "source": [
    "the_most_common_s_departure_time = (\n",
    "    df\n",
    "        .groupBy('scheduled_departure_time')\n",
    "        .agg(func.count('*').alias('count'))\n",
    "        .orderBy(desc('count'))\n",
    "    ).first()[0]\n",
    "\n",
    "the_most_common_s_arrival_time = (\n",
    "    df\n",
    "        .groupBy('scheduled_arrival_time')\n",
    "        .agg(func.count('*').alias('count'))\n",
    "        .orderBy(desc('count'))\n",
    "    ).first()[0]\n",
    "\n",
    "print(\"The most common scheduled departure time:\", the_most_common_s_departure_time)\n",
    "print(\"The most common scheduled arrival time:\", the_most_common_s_arrival_time)"
   ]
  },
  {
   "cell_type": "markdown",
   "metadata": {},
   "source": [
    "\n",
    "#### Question 7.4\n",
    "Calculate the mean of distance in the data. This value will be used to fill in the missing values of feature `distance` later."
   ]
  },
  {
   "cell_type": "code",
   "execution_count": 13,
   "metadata": {
    "collapsed": false
   },
   "outputs": [
    {
     "name": "stdout",
     "output_type": "stream",
     "text": [
      "mean distance: 670.7402911985982\n"
     ]
    }
   ],
   "source": [
    "# calculate mean distance\n",
    "mean_distance = (\n",
    "    df\n",
    "        .agg(func.avg('distance').alias('avg'))\n",
    "    ).first()[0]\n",
    "\n",
    "print(\"mean distance:\", mean_distance)"
   ]
  },
  {
   "cell_type": "markdown",
   "metadata": {},
   "source": [
    "\n",
    "#### Question 7.5\n",
    "Calculate the mean of arrival delay."
   ]
  },
  {
   "cell_type": "code",
   "execution_count": 14,
   "metadata": {
    "collapsed": false
   },
   "outputs": [
    {
     "name": "stdout",
     "output_type": "stream",
     "text": [
      "mean arrival delay: 5.662489742613603\n"
     ]
    }
   ],
   "source": [
    "# calculate mean arrival delay\n",
    "mean_arrival_delay = (\n",
    "    df\n",
    "        .agg(func.avg('arrival_delay').alias('avg'))\n",
    "    ).first()[0]\n",
    "\n",
    "print(\"mean arrival delay:\", mean_arrival_delay)"
   ]
  },
  {
   "cell_type": "markdown",
   "metadata": {},
   "source": [
    "As known from section 3.4, there are 225 different origin airports and 225 different destination airports, more than the number of bins in default configuration. So, we must set `maxBins` >= 225."
   ]
  },
  {
   "cell_type": "markdown",
   "metadata": {},
   "source": [
    "## 4.3 Preparing training data and testing data\n",
    "Recall, in this project we focus on decision trees. One way to think about our task is that we want to predict the unknown `arrival_delay` as a function combining several features, that is:\n",
    "\n",
    "`arrival_delay = f(year, month, day_of_month, day_of_week, scheduled_departure_time, scheduled_arrival_time, carrier, src_airport, dest_airport, distance, is_weekend)`\n",
    "\n",
    "When categorical features contain corrupt data (e.g., missing values), we proceed by replacing corrupt information with the most common value for the feature. For numerical features, in general, we use the same approach as for categorical features; in some cases, we repair corrupt data using the mean value of the distribution for numerical features (e.g., we found the mean for `delay` and `distance`, by answering questions above).\n",
    "\n",
    "The original data is split randomly into two parts with ratios 70% for **training** and 30% for **testing**."
   ]
  },
  {
   "cell_type": "markdown",
   "metadata": {},
   "source": [
    "![](https://farm2.staticflickr.com/1604/24934700445_833f0a5649_t.jpg)"
   ]
  },
  {
   "cell_type": "markdown",
   "metadata": {},
   "source": [
    "\n",
    "### Question 8\n",
    "- Replace the missing values of each feature in our data by the corresponding most common value or mean.\n",
    "- Divide data into two parts: 70% for training and 30% for testing"
   ]
  },
  {
   "cell_type": "code",
   "execution_count": 15,
   "metadata": {
    "collapsed": true
   },
   "outputs": [],
   "source": [
    "from pyspark.mllib.tree import DecisionTree, DecisionTreeModel\n",
    "from pyspark.mllib.util import MLUtils\n",
    "from pyspark.mllib.regression import LabeledPoint\n",
    "\n",
    "\n",
    "def is_valid(value):\n",
    "    return value != \"NA\" and len(value) > 0\n",
    "\n",
    "data = cleaned_data\\\n",
    "    .map(lambda line: line.split(','))\\\n",
    "    .map(lambda values: \n",
    "        LabeledPoint( \n",
    "            int(values[14]) if is_valid(values[14]) else mean_arrival_delay, # arrival delay\n",
    "            [\n",
    "                int(values[0]), # year\n",
    "                int(values[1]) if is_valid(values[1]) else the_most_common_month, # month\n",
    "                int(values[2]) if is_valid(values[2]) else the_most_common_day_of_month, # day of month\n",
    "                int(values[3]) if is_valid(values[3]) else the_most_common_day_of_week, # day of week\n",
    "                int(values[5]) if is_valid(values[5]) else the_most_common_s_departure_time , # scheduled departure time\n",
    "                int(values[7]) if is_valid(values[7]) else the_most_common_s_arrival_time, # scheduled arrival time\n",
    "                # if the value is valid, map it to the corresponding index\n",
    "                # otherwise, use the most common value\n",
    "                map_carriers_to_index[values[8]] if is_valid(values[8]) \\\n",
    "                    else map_carriers_to_index[carriers[0]], # carrier\n",
    "                map_src_airport_to_index[values[16]] if is_valid(values[16]) \\\n",
    "                    else map_src_airport_to_index[src_airports[0]], # src_airport\n",
    "                map_dest_airport_to_index[values[17]] if is_valid(values[17]) \\\n",
    "                    else map_dest_airport_to_index[dest_airports[0]], # destination_airport\n",
    "                int(values[18]) if is_valid(values[18]) else mean_distance, # distance\n",
    "                1 if is_valid(values[3]) and int(values[3]) >= 6 else 0, # is_weekend\n",
    "            ]\n",
    "        )\n",
    "    )\n",
    "\n",
    "# Split the data into training and test sets (30% held out for testing)\n",
    "(trainingData, testData) = data.randomSplit((0.7,0.3))\n",
    "\n",
    "trainingData = trainingData.cache()\n",
    "testData = testData.cache()"
   ]
  },
  {
   "cell_type": "markdown",
   "metadata": {},
   "source": [
    "## 5.4 Building a decision tree model"
   ]
  },
  {
   "cell_type": "markdown",
   "metadata": {},
   "source": [
    "![](https://farm2.staticflickr.com/1604/24934700445_833f0a5649_t.jpg)"
   ]
  },
  {
   "cell_type": "markdown",
   "metadata": {},
   "source": [
    "\n",
    "### Question 9\n",
    "We can train a decision model by using function `DecisionTree.trainRegressor(<training_data>, categoricalFeaturesInfo=<categorical_info>, impurity=<impurity_function>,  maxDepth=<max_depth>, maxBins=<max_bins>)`.\n",
    "\n",
    "Where,\n",
    "\n",
    "* `training_data` : the data used for training\n",
    "* `categorical_info` : a dictionary that maps the index of each categorical features to its number of distince values\n",
    "* `impurity_function` : the function that is used to calculate impurity of data in order to select the best split\n",
    "* `max_depth`: the maximum depth of the tree\n",
    "* `max_bins`: the maximum number of bins that the algorithm will divide on each feature. Note that, `max_bins` can not smaller than the number distinct values of every categorical features.\n",
    "\n",
    "Complete the code below to train a decision tree model.\n"
   ]
  },
  {
   "cell_type": "code",
   "execution_count": 16,
   "metadata": {
    "collapsed": false
   },
   "outputs": [],
   "source": [
    "# declare information of categorical features\n",
    "# format:  feature_index : number_distinct_values\n",
    "categorical_info = {6: num_carriers, 7: num_src_airports, 8: num_dest_airports, 10: 2}\n",
    "\n",
    "# Train a DecisionTree model.\n",
    "model = DecisionTree.trainRegressor(trainingData, \n",
    "                                    categoricalFeaturesInfo=categorical_info,\n",
    "                                    impurity='variance', maxDepth=12, maxBins=255)"
   ]
  },
  {
   "cell_type": "markdown",
   "metadata": {
    "collapsed": true
   },
   "source": [
    "## 5.5 Testing the decision tree model"
   ]
  },
  {
   "cell_type": "markdown",
   "metadata": {},
   "source": [
    "![](https://farm2.staticflickr.com/1604/24934700445_833f0a5649_t.jpg)"
   ]
  },
  {
   "cell_type": "markdown",
   "metadata": {},
   "source": [
    "\n",
    "### Question 10\n",
    "#### Question 10.1\n",
    "We often use Mean Square Error as a metric to evaluate the quality of a tree model. Complete the code below to calculate the MSE of our trained model."
   ]
  },
  {
   "cell_type": "code",
   "execution_count": 93,
   "metadata": {
    "collapsed": false
   },
   "outputs": [
    {
     "name": "stdout",
     "output_type": "stream",
     "text": [
      "Test Mean Squared Error = 496.3284222804643\n"
     ]
    }
   ],
   "source": [
    "# Evaluate model on test instances and compute test error\n",
    "predictions = model.predict(testData.map(lambda x: x.features))\n",
    "labelsAndPredictions = testData.map(lambda lp: lp.label).zip(predictions)\n",
    "testMSE = labelsAndPredictions.map(\n",
    "    lambda p: (p[0]-p[1])**2).mean()\n",
    "print('Test Mean Squared Error = ' + str(testMSE))"
   ]
  },
  {
   "cell_type": "markdown",
   "metadata": {},
   "source": [
    "\n",
    "### Question 10.2\n",
    "Comment the results you have obtained. Is the MSE value you get from a decision tree indicating that our statistical model is very good in predicting airplane delays? Use your own words to describe and interpret the value you obtained for the MSE."
   ]
  },
  {
   "cell_type": "markdown",
   "metadata": {},
   "source": [
    "<h3>Comment</h3>\n",
    "We obtain a mean squared error value of 496. This value states that on average our predictions are sqrt(496)=22 minutes wrong.\n",
    "Given that our average airplane delay is 5.6 minutes, this prediction error seems quite high.\n",
    "However, when calculating the mean squared error, we do not at all take the variation of prediction errors into account.\n",
    "It might be that we are more accurate on low delays and less accurate on large ones, which would be better than having the same error on all kinds of delays."
   ]
  },
  {
   "cell_type": "markdown",
   "metadata": {},
   "source": [
    "## 5.6 Building random decision forest model (or random forest)\n",
    "Next, we use MLLib to build a more powerful model: random forests. In what follows, use the same predictors defined and computed above to build a decision tree, but this time use them to build a random decision forest."
   ]
  },
  {
   "cell_type": "markdown",
   "metadata": {},
   "source": [
    "![](https://farm2.staticflickr.com/1604/24934700445_833f0a5649_t.jpg)"
   ]
  },
  {
   "cell_type": "markdown",
   "metadata": {},
   "source": [
    "\n",
    "### Question 11\n",
    "Train a random decision forest model and evaluate its quality using MSE metric. Compare to decision tree model and comment the results. Similarly to question 10.2, comment with your own words the MSE value you have obtained."
   ]
  },
  {
   "cell_type": "code",
   "execution_count": 17,
   "metadata": {
    "collapsed": false,
    "scrolled": true
   },
   "outputs": [
    {
     "name": "stdout",
     "output_type": "stream",
     "text": [
      "Test Mean Squared Error = 483.41868021478973\n"
     ]
    }
   ],
   "source": [
    "from pyspark.mllib.tree import RandomForest, RandomForestModel\n",
    "\n",
    "# Train a RandomForest model.\n",
    "forest_model = RandomForest.trainRegressor(trainingData, categoricalFeaturesInfo=categorical_info,\n",
    "                                    numTrees=10, impurity='variance', maxDepth=12, maxBins=255)\n",
    "\n",
    "\n",
    "forest_predictions = forest_model.predict(testData.map(lambda x: x.features))\n",
    "forest_labelsAndPredictions = testData.map(lambda lp: lp.label).zip(forest_predictions)\n",
    "testMSE = forest_labelsAndPredictions.map(\n",
    "    lambda p: (p[0]-p[1])**2).mean()\n",
    "print('Test Mean Squared Error = ' + str(testMSE))"
   ]
  },
  {
   "cell_type": "markdown",
   "metadata": {},
   "source": [
    "<h3>Comment</h3>\n",
    "We could improve the results using a random forest instead of a single decision tree. The MSE went down from 496 to 483.\n",
    "The improvement (3%) is significant but still not very explanatory. Again, we would need to look at the variations of errors w.r.t. different types of delays to do a proper reasoning.\n"
   ]
  },
  {
   "cell_type": "markdown",
   "metadata": {},
   "source": [
    "## 5.7 Parameter tuning\n",
    "In this lecture, we used `maxDepth=12`, `maxBins=255`, `numTrees=10`. Next, we are going to explore the meta-paramter space a little bit.\n",
    "\n",
    "For more information about parameter tunning, please read the documentation of [MLLIB](http://spark.apache.org/docs/latest/mllib-decision-tree.html#tunable-parameters)"
   ]
  },
  {
   "cell_type": "markdown",
   "metadata": {},
   "source": [
    "![](https://farm2.staticflickr.com/1604/24934700445_833f0a5649_t.jpg)"
   ]
  },
  {
   "cell_type": "markdown",
   "metadata": {},
   "source": [
    "\n",
    "\n",
    "### Question 12\n",
    "Train the random forest model using different parameters, to understand their impact on the main performance metric we have used here, that is the MSE. For example, you can try a similar approach to that presented in the Notebook on reccommender systems, that is using nested for loops.\n",
    "\n",
    "**NOTE:** be careful when selecting parameters as some might imply very long training times, or eventually, the typical memory problems that affect Spark!"
   ]
  },
  {
   "cell_type": "code",
   "execution_count": null,
   "metadata": {
    "collapsed": false,
    "scrolled": true
   },
   "outputs": [
    {
     "name": "stdout",
     "output_type": "stream",
     "text": [
      "Test Mean Squared Error for numTrees = 10.000000, maxDepth = 12.000000, maxBins = 255.000000: 484.630389\n",
      "Test Mean Squared Error for numTrees = 10.000000, maxDepth = 12.000000, maxBins = 300.000000: 483.827805\n",
      "Test Mean Squared Error for numTrees = 10.000000, maxDepth = 14.000000, maxBins = 255.000000: 466.717911\n",
      "Test Mean Squared Error for numTrees = 10.000000, maxDepth = 14.000000, maxBins = 300.000000: 466.242683\n",
      "Test Mean Squared Error for numTrees = 10.000000, maxDepth = 16.000000, maxBins = 255.000000: 449.318290\n",
      "Test Mean Squared Error for numTrees = 10.000000, maxDepth = 16.000000, maxBins = 300.000000: 447.459153\n",
      "Test Mean Squared Error for numTrees = 20.000000, maxDepth = 12.000000, maxBins = 255.000000: 483.016950\n",
      "Test Mean Squared Error for numTrees = 20.000000, maxDepth = 12.000000, maxBins = 300.000000: 481.190994\n",
      "Test Mean Squared Error for numTrees = 20.000000, maxDepth = 14.000000, maxBins = 255.000000: 463.866811\n"
     ]
    }
   ],
   "source": [
    "for numTrees in [10,20,30]:\n",
    "    for maxDepth in [12,14,16]:\n",
    "        for maxBins in [255,300]:\n",
    "            forest_model = RandomForest.trainRegressor(trainingData, categoricalFeaturesInfo=categorical_info,\n",
    "                                    numTrees=numTrees, impurity='variance', maxDepth=maxDepth, maxBins=maxBins)\n",
    "            forest_predictions = forest_model.predict(testData.map(lambda x: x.features))\n",
    "            forest_labelsAndPredictions = testData.map(lambda lp: lp.label).zip(forest_predictions)\n",
    "            testMSE = forest_labelsAndPredictions.map(\n",
    "                lambda p: (p[0]-p[1])**2).mean()\n",
    "            print('Test Mean Squared Error for numTrees = %f, maxDepth = %f, maxBins = %f: %f' % (numTrees,maxDepth,maxBins,testMSE))"
   ]
  },
  {
   "cell_type": "markdown",
   "metadata": {},
   "source": [
    "<h1 style='color: blue'>ADDITIONAL WORK</h1>"
   ]
  },
  {
   "cell_type": "markdown",
   "metadata": {},
   "source": [
    "## 5.8. Gradient Boosted Trees"
   ]
  },
  {
   "cell_type": "code",
   "execution_count": 20,
   "metadata": {
    "collapsed": false
   },
   "outputs": [
    {
     "name": "stdout",
     "output_type": "stream",
     "text": [
      "training done\n",
      "Test Mean Squared Error = 448.4503804227904\n"
     ]
    }
   ],
   "source": [
    "from pyspark.mllib.tree import GradientBoostedTrees, GradientBoostedTreesModel\n",
    "\n",
    "categorical_info = {6: num_carriers, 7: num_src_airports, 8: num_dest_airports, 10: 2, 11: 2}\n",
    "\n",
    "# Train a GradientBoostedTrees model.\n",
    "gbt_model = GradientBoostedTrees.trainRegressor(trainingData, categoricalFeaturesInfo=categorical_info, loss=\"leastSquaresError\",\n",
    "                                    learningRate=0.1, numIterations=10, maxDepth=12, maxBins=255)\n",
    "\n",
    "print(\"training done\")\n",
    "gbt_predictions = gbt_model.predict(testData.map(lambda x: x.features))\n",
    "gbt_labelsAndPredictions = testData.map(lambda lp: lp.label).zip(gbt_predictions)\n",
    "testMSE = gbt_labelsAndPredictions.map(\n",
    "    lambda p: (p[0]-p[1])**2).mean()\n",
    "print('Test Mean Squared Error = ' + str(testMSE))"
   ]
  },
  {
   "cell_type": "markdown",
   "metadata": {},
   "source": [
    "We tried another implementation available on the MLLib library which is Gradient boosted trees with some random variables. We notice that it performs a lot better than Random Forest with the same maxDepth (about 8% better) but it takes a lot more time to train the model (about 25minutes for this one), that's why we didn't investigate it more even though the code for parameter tuning is below."
   ]
  },
  {
   "cell_type": "code",
   "execution_count": null,
   "metadata": {
    "collapsed": true
   },
   "outputs": [],
   "source": [
    "for maxDepth in [12,16,20]:\n",
    "    for maxBins in [255,350,450]:\n",
    "        for learningRate in [0.001,0.01,0.1,1]:\n",
    "            for numIterations in [10,50,100]:\n",
    "                gbt_model = GradientBoostedTrees.trainRegressor(trainingData, categoricalFeaturesInfo=categorical_info, loss=\"leastSquaresError\",\n",
    "                                        learningRate=0.1, numIterations=100, maxDepth=12, maxBins=255)\n",
    "                gbt_predictions = gbt_model.predict(testData.map(lambda x: x.features))\n",
    "                gbt_labelsAndPredictions = testData.map(lambda lp: lp.label).zip(gbt_predictions)\n",
    "                testMSE = gbt_labelsAndPredictions.map(\n",
    "                    lambda p: (p[0]-p[1])**2).mean()\n",
    "                print('Test Mean Squared Error for numTrees = %f, maxDepth = %f, maxBins = %f: %f' % (numTrees,maxDepth,maxBins,testMSE))"
   ]
  },
  {
   "cell_type": "markdown",
   "metadata": {},
   "source": [
    "<h3>Comments of the limitations of the current approach (Introduction to additional work):</h3>\n",
    "\n",
    "Up until now we see the following opportunities for improvement of the current model:\n",
    "- Include inter-flight dependencies: A late arrival of one flight may cause a late departure and therefore arrival of another one\n",
    "- Flight delays may depend on the type of aircraft used (old aircrafts might need more last-minute maintenance than new ones or the other way around)\n",
    "- Weather information: Rainy/stormy weather may cause delays\n",
    "- There are different types of delays (also contained in the dataset, e.g. CarrierDelay). Our current features may be suitable only for a few of them\n",
    "- The number passengers and the difference between passenger and cargo flights may have an impact (passengers might be late/unorganized)\n",
    "- We are only looking at a single year (1994), which has a very specific distribution of weekends over days of the month etc. Moreover, we are training our model using a Train/Test-Split with both parts coming from 1994. Predicting flights in 1995 may produce different results."
   ]
  },
  {
   "cell_type": "markdown",
   "metadata": {},
   "source": [
    "## 6.1. Adding a new feature: holidays"
   ]
  },
  {
   "cell_type": "markdown",
   "metadata": {},
   "source": [
    "One of the suggested ideas for additional work in this Lab was to add new features. Inspiring ourselves from the is_weekend feature, we wanted to add a is_holidays feature that should translate the increase of flights during public holidays in the US.\n",
    "\n",
    "For that we prepared a csv document gathering the federal holidays from 1994 to 2020 that we got from a governmental US website: https://catalog.data.gov/dataset/federal-holidays"
   ]
  },
  {
   "cell_type": "code",
   "execution_count": 48,
   "metadata": {
    "collapsed": false
   },
   "outputs": [],
   "source": [
    "!hdfs dfs -copyFromLocal /root/work/data/holidays.csv ./holidays.csv"
   ]
  },
  {
   "cell_type": "markdown",
   "metadata": {},
   "source": [
    "The idea is to also distinguish the days that are around the public holidays because people usually travel 1-2 days before or after the holidays."
   ]
  },
  {
   "cell_type": "code",
   "execution_count": 14,
   "metadata": {
    "collapsed": false
   },
   "outputs": [
    {
     "name": "stdout",
     "output_type": "stream",
     "text": [
      "(1, 1, 1994)\n",
      "(1, 1, 1994)\n",
      "(31, 12, 1993)\n",
      "(2, 1, 1994)\n",
      "(30, 12, 1993)\n",
      "(3, 1, 1994)\n"
     ]
    }
   ],
   "source": [
    "import datetime\n",
    "\n",
    "path_hol = \"holidays.csv\"\n",
    "raw_holidays = sc.textFile(path_hol)\n",
    "header = raw_holidays.first()\n",
    "\n",
    "cleaned_holidays = (raw_holidays\\\n",
    "        # filter out the header\n",
    "        .filter(lambda x: x != header)\n",
    "        # take the date and put it in a tuple\n",
    "        .map(lambda x : tuple([int(y) for y in x.split(\",\")[1].split(\".\")]))\n",
    "        )\n",
    "print(cleaned_holidays.first())\n",
    "\n",
    "hday = cleaned_holidays.collect()\n",
    "print(hday[0])\n",
    "\n",
    "def around_holidays(hday):\n",
    "    hday_m1 = []\n",
    "    hday_p1 = []\n",
    "    hday_m2 = []\n",
    "    hday_p2 = []\n",
    "    for d in hday:\n",
    "        date = datetime.date(d[2],d[1],d[0])\n",
    "        n_d = date-datetime.timedelta(days=1)\n",
    "        hday_m1+=[(n_d.day,n_d.month,n_d.year)]\n",
    "        n_d = date+datetime.timedelta(days=1)\n",
    "        hday_p1+=[(n_d.day,n_d.month,n_d.year)]\n",
    "        n_d = date-datetime.timedelta(days=2)\n",
    "        hday_m2+=[(n_d.day,n_d.month,n_d.year)]\n",
    "        n_d = date+datetime.timedelta(days=2)\n",
    "        hday_p2+=[(n_d.day,n_d.month,n_d.year)]\n",
    "    return(hday_m1,hday_p1,hday_m2,hday_p2)\n",
    "\n",
    "\n",
    "hday_m1,hday_p1,hday_m2,hday_p2 = around_holidays(hday)\n",
    "\n",
    "print(hday_m1[0])\n",
    "print(hday_p1[0])\n",
    "print(hday_m2[0])\n",
    "print(hday_p2[0])\n"
   ]
  },
  {
   "cell_type": "code",
   "execution_count": 19,
   "metadata": {
    "collapsed": false
   },
   "outputs": [],
   "source": [
    "from pyspark.mllib.tree import DecisionTree, DecisionTreeModel\n",
    "from pyspark.mllib.util import MLUtils\n",
    "from pyspark.mllib.regression import LabeledPoint\n",
    "\n",
    "\n",
    "def is_valid(value):\n",
    "    return value != \"NA\" and len(value) > 0\n",
    "\n",
    "def is_holidays(d,m,y):\n",
    "    day = (d,m,y)\n",
    "    if day in hday:\n",
    "        return(1)\n",
    "    elif day in hday_m1:\n",
    "        return(1)\n",
    "    elif day in hday_p1:\n",
    "        return(1)\n",
    "    elif day in hday_m2:\n",
    "        return(1)\n",
    "    elif day in hday_p2:\n",
    "        return(1)\n",
    "    else:\n",
    "        return(0)\n",
    "\n",
    "new_data = cleaned_data\\\n",
    "    .map(lambda line: line.split(','))\\\n",
    "    .map(lambda values: \n",
    "        LabeledPoint( \n",
    "            int(values[14]) if is_valid(values[14]) else mean_arrival_delay, # arrival delay\n",
    "            [\n",
    "                int(values[0]), # year\n",
    "                int(values[1]) if is_valid(values[1]) else the_most_common_month, # month\n",
    "                int(values[2]) if is_valid(values[2]) else the_most_common_day_of_month, # day of month\n",
    "                int(values[3]) if is_valid(values[3]) else the_most_common_day_of_week, # day of week\n",
    "                int(values[5]) if is_valid(values[5]) else the_most_common_s_departure_time , # scheduled departure time\n",
    "                int(values[7]) if is_valid(values[7]) else the_most_common_s_arrival_time, # scheduled arrival time\n",
    "                # if the value is valid, map it to the corresponding index\n",
    "                # otherwise, use the most common value\n",
    "                map_carriers_to_index[values[8]] if is_valid(values[8]) \\\n",
    "                    else map_carriers_to_index[carriers[0]], # carrier\n",
    "                map_src_airport_to_index[values[16]] if is_valid(values[16]) \\\n",
    "                    else map_src_airport_to_index[src_airports[0]], # src_airport\n",
    "                map_dest_airport_to_index[values[17]] if is_valid(values[17]) \\\n",
    "                    else map_dest_airport_to_index[dest_airports[0]], # destination_airport\n",
    "                int(values[18]) if is_valid(values[18]) else mean_distance, # distance\n",
    "                1 if is_valid(values[3]) and int(values[3]) >= 6 else 0, # is_weekend\n",
    "                is_holidays(int(values[2]),int(values[1]),int(values[0]))\n",
    "            ]\n",
    "        )\n",
    "    )\n",
    "\n",
    "# Split the data into training and test sets (30% held out for testing)\n",
    "(trainingData, testData) = new_data.randomSplit((0.7,0.3))\n",
    "\n",
    "trainingData = trainingData.cache()\n",
    "testData = testData.cache()"
   ]
  },
  {
   "cell_type": "markdown",
   "metadata": {},
   "source": [
    "We tried many labellings of the days around holidays, to see how good the model performs for each of them "
   ]
  },
  {
   "cell_type": "markdown",
   "metadata": {},
   "source": [
    "One category for each day in a 2-day interval of the holiday and one category for all the other days:"
   ]
  },
  {
   "cell_type": "code",
   "execution_count": 61,
   "metadata": {
    "collapsed": false
   },
   "outputs": [
    {
     "name": "stdout",
     "output_type": "stream",
     "text": [
      "Test Mean Squared Error = 453.3223789140418\n"
     ]
    }
   ],
   "source": [
    "from pyspark.mllib.tree import RandomForest, RandomForestModel\n",
    "\n",
    "# declare information of categorical features\n",
    "# format:  feature_index : number_distinct_values\n",
    "categorical_info = {6: num_carriers, 7: num_src_airports, 8: num_dest_airports, 10: 2, 11: 6}\n",
    "\n",
    "# Train a DecisionTree model.\n",
    "model = RandomForest.trainRegressor(trainingData, categoricalFeaturesInfo=categorical_info,\n",
    "                                    numTrees=10, impurity='variance', maxDepth=16, maxBins=300)\n",
    "\n",
    "# Evaluate model on test instances and compute test error\n",
    "predictions = model.predict(testData.map(lambda x: x.features))\n",
    "labelsAndPredictions = testData.map(lambda lp: lp.label).zip(predictions)\n",
    "testMSE = labelsAndPredictions.map(\n",
    "    lambda p: (p[0]-p[1])**2).mean()\n",
    "print('Test Mean Squared Error = ' + str(testMSE))"
   ]
  },
  {
   "cell_type": "markdown",
   "metadata": {},
   "source": [
    "One category for the 1-day interval of the holiday and one category for all the other days:"
   ]
  },
  {
   "cell_type": "code",
   "execution_count": 20,
   "metadata": {
    "collapsed": false
   },
   "outputs": [
    {
     "name": "stdout",
     "output_type": "stream",
     "text": [
      "Test Mean Squared Error = 451.32350289545576\n"
     ]
    }
   ],
   "source": [
    "from pyspark.mllib.tree import RandomForest, RandomForestModel\n",
    "\n",
    "# declare information of categorical features\n",
    "# format:  feature_index : number_distinct_values\n",
    "categorical_info = {6: num_carriers, 7: num_src_airports, 8: num_dest_airports, 10: 2, 11: 2}\n",
    "\n",
    "# Train a DecisionTree model.\n",
    "model = RandomForest.trainRegressor(trainingData, categoricalFeaturesInfo=categorical_info,\n",
    "                                    numTrees=10, impurity='variance', maxDepth=16, maxBins=300)\n",
    "\n",
    "# Evaluate model on test instances and compute test error\n",
    "predictions = model.predict(testData.map(lambda x: x.features))\n",
    "labelsAndPredictions = testData.map(lambda lp: lp.label).zip(predictions)\n",
    "testMSE = labelsAndPredictions.map(\n",
    "    lambda p: (p[0]-p[1])**2).mean()\n",
    "print('Test Mean Squared Error = ' + str(testMSE))"
   ]
  },
  {
   "cell_type": "markdown",
   "metadata": {},
   "source": [
    "One category for the 2-day interval of the holiday and one category for all the other days:"
   ]
  },
  {
   "cell_type": "code",
   "execution_count": 22,
   "metadata": {
    "collapsed": false
   },
   "outputs": [
    {
     "name": "stdout",
     "output_type": "stream",
     "text": [
      "Test Mean Squared Error = 447.82285799398477\n"
     ]
    }
   ],
   "source": [
    "from pyspark.mllib.tree import RandomForest, RandomForestModel\n",
    "\n",
    "# declare information of categorical features\n",
    "# format:  feature_index : number_distinct_values\n",
    "categorical_info = {6: num_carriers, 7: num_src_airports, 8: num_dest_airports, 10: 2, 11: 2}\n",
    "\n",
    "# Train a DecisionTree model.\n",
    "model = RandomForest.trainRegressor(trainingData, categoricalFeaturesInfo=categorical_info,\n",
    "                                    numTrees=10, impurity='variance', maxDepth=16, maxBins=300)\n",
    "\n",
    "# Evaluate model on test instances and compute test error\n",
    "predictions = model.predict(testData.map(lambda x: x.features))\n",
    "labelsAndPredictions = testData.map(lambda lp: lp.label).zip(predictions)\n",
    "testMSE = labelsAndPredictions.map(\n",
    "    lambda p: (p[0]-p[1])**2).mean()\n",
    "print('Test Mean Squared Error = ' + str(testMSE))"
   ]
  },
  {
   "cell_type": "markdown",
   "metadata": {},
   "source": [
    "We notice that we get the best performance for the model taking the 2-day interval of the holiday in one category and the normal days in another category. All of these days should be taken equally.\n",
    "The gain in performance is not that high though, that's why we should maybe consider other features, like weather data."
   ]
  },
  {
   "cell_type": "markdown",
   "metadata": {},
   "source": [
    "## 6.2. Adding other new features: weather data"
   ]
  },
  {
   "cell_type": "markdown",
   "metadata": {},
   "source": [
    "Here we use another year of data because it actually has less missing data (especially the CarrierDelay,WeatherDelay,NASDelay,SecurityDelay,LateAircraftDelay features to link with the following part of our work)."
   ]
  },
  {
   "cell_type": "code",
   "execution_count": 18,
   "metadata": {
    "collapsed": false
   },
   "outputs": [],
   "source": [
    "path_04 = \"/datasets/airline/2004.csv\"\n",
    "raw_04 = sc.textFile(path_04)"
   ]
  },
  {
   "cell_type": "code",
   "execution_count": 19,
   "metadata": {
    "collapsed": false,
    "scrolled": false
   },
   "outputs": [
    {
     "name": "stdout",
     "output_type": "stream",
     "text": [
      "['Year,Month,DayofMonth,DayOfWeek,DepTime,CRSDepTime,ArrTime,CRSArrTime,UniqueCarrier,FlightNum,TailNum,ActualElapsedTime,CRSElapsedTime,AirTime,ArrDelay,DepDelay,Origin,Dest,Distance,TaxiIn,TaxiOut,Cancelled,CancellationCode,Diverted,CarrierDelay,WeatherDelay,NASDelay,SecurityDelay,LateAircraftDelay', '2004,1,12,1,623,630,901,915,UA,462,N805UA,98,105,80,-14,-7,ORD,CLT,599,7,11,0,,0,0,0,0,0,0']\n"
     ]
    }
   ],
   "source": [
    "# extract the header\n",
    "header = raw_04.first()\n",
    "print(raw_04.take(2))\n",
    "\n",
    "\n",
    "# replace invalid data with NULL and remove header\n",
    "cleaned_data_04 = (raw_04\\\n",
    "        # filter out the header\n",
    "        .filter(lambda x: x != header)\n",
    "        # replace the missing values with empty characters\n",
    "        .map(lambda x : re.sub(',NA$', ',', x.replace(\",NA,\",\",,\").replace(\",NA,\",\",,\")))\n",
    "        )"
   ]
  },
  {
   "cell_type": "code",
   "execution_count": 20,
   "metadata": {
    "collapsed": true
   },
   "outputs": [],
   "source": [
    "sqlContext = SQLContext(sc)\n",
    "\n",
    "\n",
    "# Declare the data schema\n",
    "# see http://stat-computing.org/dataexpo/2009/the-data.html\n",
    "# for more information\n",
    "airline_data_schema_04 = StructType([ \\\n",
    "    #StructField( name, dataType, nullable)\n",
    "    StructField(\"year\",                     IntegerType(), True), \\\n",
    "    StructField(\"month\",                    IntegerType(), True), \\\n",
    "    StructField(\"day_of_month\",             IntegerType(), True), \\\n",
    "    StructField(\"day_of_week\",              IntegerType(), True), \\\n",
    "    StructField(\"departure_time\",           IntegerType(), True), \\\n",
    "    StructField(\"scheduled_departure_hour\", StringType(), True), \\\n",
    "    StructField(\"arrival_time\",             IntegerType(), True), \\\n",
    "    StructField(\"scheduled_arrival_hour\",   StringType(), True), \\\n",
    "    StructField(\"carrier\",                  StringType(),  True), \\\n",
    "    StructField(\"flight_number\",            StringType(),  True), \\\n",
    "    StructField(\"tail_number\",              StringType(), True), \\\n",
    "    StructField(\"actual_elapsed_time\",      IntegerType(), True), \\\n",
    "    StructField(\"scheduled_elapsed_time\",   IntegerType(), True), \\\n",
    "    StructField(\"air_time\",                 IntegerType(), True), \\\n",
    "    StructField(\"arrival_delay\",            IntegerType(), True), \\\n",
    "    StructField(\"departure_delay\",          IntegerType(), True), \\\n",
    "    StructField(\"src_airport\",              StringType(),  True), \\\n",
    "    StructField(\"dest_airport\",             StringType(),  True), \\\n",
    "    StructField(\"distance\",                 IntegerType(), True), \\\n",
    "    StructField(\"taxi_in_time\",             IntegerType(), True), \\\n",
    "    StructField(\"taxi_out_time\",            IntegerType(), True), \\\n",
    "    StructField(\"cancelled\",                StringType(),  True), \\\n",
    "    StructField(\"cancellation_code\",        StringType(),  True), \\\n",
    "    StructField(\"diverted\",                 StringType(),  True), \\\n",
    "    StructField(\"carrier_delay\",            IntegerType(), False), \\\n",
    "    StructField(\"weather_delay\",            IntegerType(), False), \\\n",
    "    StructField(\"nas_delay\",                IntegerType(), False), \\\n",
    "    StructField(\"security_delay\",           IntegerType(), False), \\\n",
    "    StructField(\"late_aircraft_delay\",      IntegerType(), False)\\\n",
    "])"
   ]
  },
  {
   "cell_type": "code",
   "execution_count": 21,
   "metadata": {
    "collapsed": true
   },
   "outputs": [],
   "source": [
    "# convert each line into a tuple of features (columns)\n",
    "cleaned_data_to_columns_04 = cleaned_data_04.map(lambda l: l.split(\",\"))\\\n",
    "    .map(lambda cols: \n",
    "         (\n",
    "            int(cols[0])  if cols[0] else None,\n",
    "            int(cols[1])  if cols[1] else None,\n",
    "            int(cols[2])  if cols[2] else None,\n",
    "            int(cols[3])  if cols[3] else None,\n",
    "            int(cols[4])  if cols[4] else None,\n",
    "            cols[5][:-2]  if cols[5] else None,\n",
    "            int(cols[6])  if cols[6] else None,\n",
    "            cols[7][:-2]  if cols[7] else None,\n",
    "            cols[8]       if cols[8] else None,\n",
    "            cols[9]       if cols[9] else None,\n",
    "            cols[10]      if cols[10] else None,\n",
    "            int(cols[11]) if cols[11] else None,\n",
    "            int(cols[12]) if cols[12] else None,\n",
    "            int(cols[13]) if cols[13] else None,\n",
    "            int(cols[14]) if cols[14] else None,\n",
    "            int(cols[15]) if cols[15] else None,\n",
    "            cols[16]      if cols[16] else None,\n",
    "            cols[17]      if cols[17] else None,\n",
    "            int(cols[18]) if cols[18] else None,\n",
    "            int(cols[19]) if cols[19] else None,\n",
    "            int(cols[20]) if cols[20] else None,\n",
    "            cols[21]      if cols[21] else None,\n",
    "            cols[22]      if cols[22] else None,\n",
    "            cols[23]      if cols[23] else None,\n",
    "            int(cols[24]) if cols[24] else None,\n",
    "            int(cols[25]) if cols[25] else None,\n",
    "            int(cols[26]) if cols[26] else None,\n",
    "            int(cols[27]) if cols[27] else None,\n",
    "            int(cols[28]) if cols[28] else None\n",
    "         ))"
   ]
  },
  {
   "cell_type": "code",
   "execution_count": 22,
   "metadata": {
    "collapsed": true
   },
   "outputs": [],
   "source": [
    "# create dataframe df\n",
    "df_04 = (sqlContext.createDataFrame(cleaned_data_to_columns_04, airline_data_schema_04)\\\n",
    "    .select(['year', 'month', 'day_of_month', 'day_of_week',\n",
    "            'scheduled_departure_hour','scheduled_arrival_hour',\n",
    "            'arrival_delay', 'departure_delay', 'distance', \n",
    "            'src_airport', 'dest_airport', 'carrier', 'carrier_delay', 'weather_delay',\n",
    "             'nas_delay', 'security_delay', 'late_aircraft_delay'])\\\n",
    "    .cache()\n",
    "    )"
   ]
  },
  {
   "cell_type": "markdown",
   "metadata": {},
   "source": [
    "We get the list of the airports with most traffic to gather weather data for, because we cannot do it for all the aiports (limitations of the API we are using to get the data)."
   ]
  },
  {
   "cell_type": "code",
   "execution_count": 19,
   "metadata": {
    "collapsed": false,
    "scrolled": false
   },
   "outputs": [
    {
     "name": "stdout",
     "output_type": "stream",
     "text": [
      "+-------+------+\n",
      "|airport| total|\n",
      "+-------+------+\n",
      "|    ATL|835061|\n",
      "|    ORD|752376|\n",
      "|    DFW|688856|\n",
      "|    LAX|465353|\n",
      "|    CVG|415948|\n",
      "|    IAH|404126|\n",
      "|    PHX|340445|\n",
      "|    LAS|316334|\n",
      "|    EWR|316287|\n",
      "|    DEN|310407|\n",
      "|    MSP|293879|\n",
      "|    DTW|293193|\n",
      "|    SLC|277594|\n",
      "|    IAD|265615|\n",
      "|    BOS|264705|\n",
      "|    SFO|260118|\n",
      "|    LGA|255074|\n",
      "|    PHL|243476|\n",
      "|    SEA|218807|\n",
      "|    MCO|217525|\n",
      "|    CLT|215308|\n",
      "|    BWI|212118|\n",
      "|    DCA|186777|\n",
      "|    CLE|186518|\n",
      "|    MDW|183454|\n",
      "|    JFK|183009|\n",
      "|    SAN|172177|\n",
      "|    TPA|143553|\n",
      "|    OAK|141687|\n",
      "|    FLL|133023|\n",
      "+-------+------+\n",
      "only showing top 30 rows\n",
      "\n"
     ]
    }
   ],
   "source": [
    "# consider outbound flights\n",
    "stat_src_04 = (df_04\n",
    "            .groupBy(df_04.src_airport)\n",
    "            .agg(func.count('*').alias('count1'))\n",
    "            )\n",
    "    \n",
    "# consider inbound flights\n",
    "stat_dest_04 = (df_04\n",
    "            .groupBy(df_04.dest_airport)\n",
    "            .agg(func.count('*').alias('count2'))\n",
    "            )\n",
    "\n",
    "\n",
    "# full join the statistic of inbound flights and outbound flights\n",
    "stat_airports_04 = stat_src_04.join(stat_dest_04, stat_src_04.src_airport == stat_dest_04.dest_airport)\n",
    "\n",
    "# TOP 30 BUSIEST AIRPORTS\n",
    "stat_airport_traffic_04 = (stat_airports_04\n",
    "                            # define the new column `total` \n",
    "                            # which has values are equal to the sum of `count1` and `count2`\n",
    "                            .withColumn('total', stat_airports_04['count1'] + stat_airports_04['count2'])\n",
    "                            # select top airpoint in termns of number of flights\n",
    "                            .select(col(\"src_airport\").alias(\"airport\"), col(\"total\")).orderBy(desc('total'))\n",
    "                        )\n",
    "stat_airport_traffic_04.show(30)"
   ]
  },
  {
   "cell_type": "code",
   "execution_count": 20,
   "metadata": {
    "collapsed": false,
    "scrolled": false
   },
   "outputs": [
    {
     "data": {
      "text/plain": [
       "['ATL',\n",
       " 'ORD',\n",
       " 'DFW',\n",
       " 'LAX',\n",
       " 'CVG',\n",
       " 'IAH',\n",
       " 'PHX',\n",
       " 'LAS',\n",
       " 'EWR',\n",
       " 'DEN',\n",
       " 'MSP',\n",
       " 'DTW',\n",
       " 'SLC',\n",
       " 'IAD',\n",
       " 'BOS',\n",
       " 'SFO',\n",
       " 'LGA',\n",
       " 'PHL',\n",
       " 'SEA',\n",
       " 'MCO',\n",
       " 'CLT',\n",
       " 'BWI',\n",
       " 'DCA',\n",
       " 'CLE',\n",
       " 'MDW',\n",
       " 'JFK',\n",
       " 'SAN',\n",
       " 'TPA',\n",
       " 'OAK',\n",
       " 'FLL',\n",
       " 'MIA',\n",
       " 'SJC',\n",
       " 'PIT',\n",
       " 'RDU',\n",
       " 'STL',\n",
       " 'BNA',\n",
       " 'MCI',\n",
       " 'HOU',\n",
       " 'PDX',\n",
       " 'MSY',\n",
       " 'MEM',\n",
       " 'SMF',\n",
       " 'SNA',\n",
       " 'DAL',\n",
       " 'IND',\n",
       " 'AUS',\n",
       " 'CMH',\n",
       " 'SAT',\n",
       " 'ABQ',\n",
       " 'ONT']"
      ]
     },
     "execution_count": 20,
     "metadata": {},
     "output_type": "execute_result"
    }
   ],
   "source": [
    "[x[0] for x in stat_airport_traffic_04.take(50)]"
   ]
  },
  {
   "cell_type": "markdown",
   "metadata": {},
   "source": [
    "This little piece of code gather the weather data from the API for the list of aiports we want info on (we actually used it outside the cluster)."
   ]
  },
  {
   "cell_type": "code",
   "execution_count": null,
   "metadata": {
    "collapsed": true
   },
   "outputs": [],
   "source": [
    "#Code to gather weather data from api.wunderground.com\n",
    "import requests\n",
    "import datetime\n",
    "\n",
    "def format(num):\n",
    "    if len(num)==1:\n",
    "        return('0'+num)\n",
    "    else:\n",
    "        return(num)\n",
    "\n",
    "#API_Key = \"Enter API Key Here\"\n",
    "\n",
    "csv = open(\"weather.csv\",\"a+\")\n",
    "arpts=['ATL','DFW','CVG','IAH','PHX','EWR','MSP','DTW','SLC','IAD','SFO','LGA','PHL','MCO','CLT','BWI','DCA','CLE','MDW','JFK','TPA','FLL','SJC','PIT','RDU','STL','BNA','MCI','PDX','MSY','SMF','SNA','IND','CMH','ABQ','ONT']\n",
    "arpt_dic={'ORD':'Chicago-O\\'Hare International', 'LAX':'Los Angeles International', 'LAS':'McCarran International', 'DEN':'Denver International', 'BOS':'Logan International', 'SEA':'Seattle-Tacoma International', 'SAN':'San Diego International-Lindbergh', 'OAK':'Metro Oakland International', 'MIA':'Miami International', 'HOU':'TX/Hobby', 'MEM':'Memphis International', 'DAL':'Dallas Love', 'AUS':'Austin Bergstrom International', 'SAT':'San Antonio International'}\n",
    "for arpt in arpts:\n",
    "    arpt_dic[arpt]=arpt\n",
    "arpts = ['ATL','ORD','DFW','LAX','CVG','IAH','PHX','LAS','EWR','DEN','MSP','DTW','SLC','IAD','BOS','SFO','LGA','PHL','SEA','MCO','CLT','BWI','DCA','CLE','MDW','JFK','SAN','TPA','OAK','FLL','MIA','SJC','PIT','RDU','STL','BNA','MCI','HOU','PDX','MSY','MEM','SMF','SNA','DAL','IND','AUS','CMH','SAT','ABQ','ONT']\n",
    "for arpt in arpts:\n",
    "    print(arpt)\n",
    "    date = datetime.date(2004,1,1)\n",
    "    while (date!=datetime.date(2005,1,1)):\n",
    "        d=str(date.year)+format(str(date.month))+format(str(date.day))\n",
    "        url = 'http://api.wunderground.com/api/'+API_Key+'/history_'+d+'/q/'+arpt_dic[arpt]+'.json'\n",
    "        while True:\n",
    "            try:\n",
    "                day = requests.get(url).json()\n",
    "                break\n",
    "            except KeyboardInterrupt:\n",
    "                break\n",
    "            except:\n",
    "                print(\"URL request failed.\")\n",
    "        hours = day['history']['observations']\n",
    "        header = arpt+\",\"+str(date.year)+\",\"+format(str(date.month))+\",\"+format(str(date.day))\n",
    "        for x in hours:\n",
    "            features = ['icon','tornado','thunder','fog','hail','snow','rain','precipm','vism','wspdm']\n",
    "            line = header+\",\"+x['date']['hour']+\",\"+x['date']['min']\n",
    "            for i in features:\n",
    "                line+=\",\"+x[i]\n",
    "            csv.write(line+'\\n')\n",
    "        date = date+datetime.timedelta(days=1)"
   ]
  },
  {
   "cell_type": "markdown",
   "metadata": {},
   "source": [
    "We process this data to create DFs/RDDs."
   ]
  },
  {
   "cell_type": "code",
   "execution_count": 23,
   "metadata": {
    "collapsed": true
   },
   "outputs": [],
   "source": [
    "path_wthr = \"weather.csv\"\n",
    "path_wthr2 = \"weather2.csv\"\n",
    "raw_wthr = sc.textFile(path_wthr) + sc.textFile(path_wthr2)\n",
    "\n",
    "sqlContext = SQLContext(sc)\n",
    "\n",
    "# Declare the data schema\n",
    "wthr_data_schema = StructType([ \\\n",
    "    #StructField( name, dataType, nullable)\n",
    "    StructField(\"airport\",                  StringType(), True), \\\n",
    "    StructField(\"year\",                     IntegerType(), True), \\\n",
    "    StructField(\"month\",                    IntegerType(),  True), \\\n",
    "    StructField(\"day\",                      IntegerType(),  True), \\\n",
    "    StructField(\"hour\",                     IntegerType(),  True), \\\n",
    "    StructField(\"minutes\",                  IntegerType(),  True), \\\n",
    "    StructField(\"label\",                    StringType(), True), \\\n",
    "    StructField(\"tornado\",                  IntegerType(), True), \\\n",
    "    StructField(\"thunder\",                  IntegerType(),  True), \\\n",
    "    StructField(\"fog\",                      IntegerType(),  True), \\\n",
    "    StructField(\"hail\",                     IntegerType(),  True), \\\n",
    "    StructField(\"snow\",                     IntegerType(), True), \\\n",
    "    StructField(\"rain\",                     IntegerType(), True), \\\n",
    "    StructField(\"precipitation\",            FloatType(), True), \\\n",
    "    StructField(\"visibility\",               FloatType(), True), \\\n",
    "    StructField(\"wind_speed\",               FloatType(), True)\\\n",
    "])\n",
    "\n",
    "# convert each line into a tuple of features (columns)\n",
    "cleaned_wthr_to_columns = raw_wthr.map(lambda l: l.split(\",\"))\\\n",
    "    .map(lambda cols: \n",
    "         (\n",
    "            cols[0]         if cols[0] else None,\n",
    "            int(cols[1])    if cols[1] else None,\n",
    "            int(cols[2])    if cols[2] else None,\n",
    "            int(cols[3])    if cols[3] else None,\n",
    "            int(cols[4])    if cols[4] else None,\n",
    "            int(cols[5])    if cols[5] else None,\n",
    "            cols[6]    if cols[6] else None,\n",
    "            int(cols[7])  if cols[7] else None,\n",
    "            int(cols[8])  if cols[8] else None,\n",
    "            int(cols[9])  if cols[9] else None,\n",
    "            int(cols[10])  if cols[10] else None,\n",
    "            int(cols[11])  if cols[11] else None,\n",
    "            int(cols[12])  if cols[12] else None,\n",
    "            float(cols[13])  if cols[13] else None,\n",
    "            float(cols[14])  if cols[14] else None,\n",
    "            float(cols[15])  if cols[15] else None\n",
    "         ))\n",
    "\n",
    "# create dataframe df\n",
    "df_wthr = (sqlContext.createDataFrame(cleaned_wthr_to_columns, wthr_data_schema)\\\n",
    "    .cache()\n",
    "    )"
   ]
  },
  {
   "cell_type": "code",
   "execution_count": 24,
   "metadata": {
    "collapsed": false
   },
   "outputs": [],
   "source": [
    "df_wthr_src = df_wthr.select(*(col(x).alias(x + '_src') for x in df_wthr.columns))\n",
    "df_wthr_dest = df_wthr.select(*(col(x).alias(x + '_dest') for x in df_wthr.columns))\n",
    "\n",
    "df_04_wthr_src = df_04.join(df_wthr_src, (df_04.src_airport==df_wthr_src.airport_src) & (df_04.month==df_wthr_src.month_src) \\\n",
    "                            & (df_04.day_of_month==df_wthr_src.day_src) & (df_04.scheduled_departure_hour==df_wthr_src.hour_src))\n",
    "\n",
    "df_04_wthr_dest = df_04.join(df_wthr_dest, (df_04.dest_airport==df_wthr_dest.airport_dest) & (df_04.month==df_wthr_dest.month_dest) \\\n",
    "                             & (df_04.day_of_month==df_wthr_dest.day_dest) & (df_04.scheduled_arrival_hour==df_wthr_dest.hour_dest))\n",
    "\n",
    "df_04_wthr_all = df_04_wthr_src.join(df_wthr_dest, (df_04_wthr_src.dest_airport==df_wthr_dest.airport_dest) & (df_04_wthr_src.month==df_wthr_dest.month_dest) \\\n",
    "                             & (df_04_wthr_src.day_of_month==df_wthr_dest.day_dest) & (df_04_wthr_src.scheduled_arrival_hour==df_wthr_dest.hour_dest))"
   ]
  },
  {
   "cell_type": "markdown",
   "metadata": {},
   "source": [
    "We distinguish three DFs:\n",
    "    - One were weather data is only user for the source airport\n",
    "    - One were weather data is only user for the destination airport\n",
    "    - One were weather data is only user for both source and destination airports"
   ]
  },
  {
   "cell_type": "code",
   "execution_count": 38,
   "metadata": {
    "collapsed": false,
    "scrolled": true
   },
   "outputs": [
    {
     "name": "stdout",
     "output_type": "stream",
     "text": [
      "6610791\n",
      "6532588\n",
      "5753276\n"
     ]
    }
   ],
   "source": [
    "print(df_04_wthr_src.select(['label_src']).count())\n",
    "print(df_04_wthr_dest.select(['label_dest']).count())\n",
    "print(df_04_wthr_all.select(['label_src']).count())"
   ]
  },
  {
   "cell_type": "markdown",
   "metadata": {},
   "source": [
    "We notice that the flights for which we have weather data for both aiports at the same time is quite a lot (81% of all the flights). Which means that taking only the top 50 busiest aiports for the weather data was enough, and that 81% of the flights happen between only 50 airports."
   ]
  },
  {
   "cell_type": "code",
   "execution_count": 34,
   "metadata": {
    "collapsed": false,
    "scrolled": true
   },
   "outputs": [],
   "source": [
    "rdd_04_wthr_src = df_04_wthr_src.select(['month', 'day_of_month', 'day_of_week',\n",
    "            'scheduled_departure_hour','scheduled_arrival_hour',\n",
    "            'arrival_delay', 'departure_delay', 'distance', \n",
    "            'src_airport', 'dest_airport', 'carrier', 'label_src',\n",
    "            'tornado_src', 'thunder_src', 'fog_src', 'hail_src',\n",
    "            'snow_src', 'rain_src', 'precipitation_src', 'visibility_src',\n",
    "            'wind_speed_src']).rdd"
   ]
  },
  {
   "cell_type": "code",
   "execution_count": 35,
   "metadata": {
    "collapsed": false
   },
   "outputs": [],
   "source": [
    "rdd_04_wthr_dest = df_04_wthr_dest.select(['month', 'day_of_month', 'day_of_week',\n",
    "            'scheduled_departure_hour','scheduled_arrival_hour',\n",
    "            'arrival_delay', 'departure_delay', 'distance', \n",
    "            'src_airport', 'dest_airport', 'carrier', 'label_dest', 'tornado_dest', 'thunder_dest',\n",
    "            'fog_dest', 'hail_dest', 'snow_dest', 'rain_dest',\n",
    "            'precipitation_dest', 'visibility_dest', 'wind_speed_dest']).rdd"
   ]
  },
  {
   "cell_type": "code",
   "execution_count": 36,
   "metadata": {
    "collapsed": false,
    "scrolled": true
   },
   "outputs": [],
   "source": [
    "rdd_04_wthr_all = df_04_wthr_all.select(['month', 'day_of_month', 'day_of_week',\n",
    "            'scheduled_departure_hour','scheduled_arrival_hour',\n",
    "            'arrival_delay', 'departure_delay', 'distance', \n",
    "            'src_airport', 'dest_airport', 'carrier', 'label_src',\n",
    "            'tornado_src', 'thunder_src', 'fog_src', 'hail_src',\n",
    "            'snow_src', 'rain_src', 'precipitation_src', 'visibility_src',\n",
    "            'wind_speed_src', 'label_dest', 'tornado_dest', 'thunder_dest',\n",
    "            'fog_dest', 'hail_dest', 'snow_dest', 'rain_dest',\n",
    "            'precipitation_dest', 'visibility_dest', 'wind_speed_dest']).rdd"
   ]
  },
  {
   "cell_type": "code",
   "execution_count": 26,
   "metadata": {
    "collapsed": false
   },
   "outputs": [
    {
     "name": "stdout",
     "output_type": "stream",
     "text": [
      "The number of weather labels: 11\n"
     ]
    }
   ],
   "source": [
    "num_labels = (\n",
    "    df_04_wthr_src\n",
    "        .select(['label_src'])\n",
    "        .distinct()\n",
    "        .count()\n",
    "    )\n",
    "\n",
    "print(\"The number of weather labels:\", num_labels)"
   ]
  },
  {
   "cell_type": "code",
   "execution_count": 27,
   "metadata": {
    "collapsed": false
   },
   "outputs": [
    {
     "name": "stdout",
     "output_type": "stream",
     "text": [
      "fog\n",
      "0\n"
     ]
    }
   ],
   "source": [
    "labels = (\n",
    "    df_04_wthr_src\n",
    "        .select(['label_src'])\n",
    "        .distinct()\n",
    "    ).rdd.collect()\n",
    "\n",
    "labels=[x[0] for x in labels]\n",
    "\n",
    "print(labels[0])\n",
    "\n",
    "map_label_to_index={}\n",
    "\n",
    "for i in range(len(labels)):\n",
    "    map_label_to_index[labels[i]]=i\n",
    "\n",
    "print(map_label_to_index['fog'])"
   ]
  },
  {
   "cell_type": "code",
   "execution_count": 28,
   "metadata": {
    "collapsed": false
   },
   "outputs": [
    {
     "name": "stdout",
     "output_type": "stream",
     "text": [
      "1\n",
      "0\n"
     ]
    }
   ],
   "source": [
    "# select distinct source airports and map values to index\n",
    "# sort the airport by their frequency descending\n",
    "# so the most common aiport will be on the top\n",
    "stat_src_04 = (\n",
    "    df_04\n",
    "        .groupBy('src_airport')\n",
    "        .agg(func.count('*').alias('count1'))\n",
    "        .orderBy(desc('count1'))\n",
    "    )\n",
    "\n",
    "# extract the airport names from stat_src\n",
    "src_airports_04 = [item[0] for item in stat_src_04.collect()]\n",
    "\n",
    "num_src_airports_04 = len(src_airports_04)\n",
    "src_airports_idx_04 = range(0, num_src_airports_04)\n",
    "map_src_airport_to_index_04 = dict(zip(src_airports_04, src_airports_idx_04))\n",
    "\n",
    "# test the dictionary\n",
    "print(map_src_airport_to_index_04['ORD'])\n",
    "print(map_src_airport_to_index_04['ATL'])"
   ]
  },
  {
   "cell_type": "code",
   "execution_count": 29,
   "metadata": {
    "collapsed": false
   },
   "outputs": [
    {
     "name": "stdout",
     "output_type": "stream",
     "text": [
      "1\n",
      "0\n"
     ]
    }
   ],
   "source": [
    "# select distinct destination airports and map values to index\n",
    "# sort the airport by their frequency descending\n",
    "# so the most common aiport will be on the top\n",
    "stat_dest_04 = (\n",
    "    df_04\n",
    "        .groupBy('dest_airport')\n",
    "        .agg(func.count('*').alias('count2'))\n",
    "        .orderBy(desc('count2'))\n",
    "    )\n",
    "\n",
    "dest_airports_04 = [item[0] for item in stat_dest_04.collect()]\n",
    "\n",
    "num_dest_airports_04 = len(dest_airports_04)\n",
    "map_dest_airport_to_index_04 = dict(zip(dest_airports_04, range(0, num_dest_airports_04)))\n",
    "\n",
    "# test the dictionary\n",
    "print(map_dest_airport_to_index_04['ORD'])\n",
    "print(map_dest_airport_to_index_04['ATL'])"
   ]
  },
  {
   "cell_type": "code",
   "execution_count": 30,
   "metadata": {
    "collapsed": false
   },
   "outputs": [
    {
     "name": "stdout",
     "output_type": "stream",
     "text": [
      "2\n",
      "1\n"
     ]
    }
   ],
   "source": [
    "# select distinct carriers and map values to index\n",
    "# sort carriers by their frequency descending\n",
    "# so the most common aiport will be on the top\n",
    "\n",
    "stat_carr_04 = (\n",
    "    df_04\n",
    "        .groupBy('carrier')\n",
    "        .agg(func.count('*').alias('count'))\n",
    "        .orderBy(desc('count'))\n",
    "    )\n",
    "\n",
    "carriers_04 = [item[0] for item in stat_carr_04.collect()]\n",
    "\n",
    "num_carriers_04 = len(carriers_04)\n",
    "map_carriers_to_index_04 = dict(zip(carriers_04, range(0, num_carriers_04)))\n",
    "\n",
    "print(map_carriers_to_index_04['DL'])\n",
    "print(map_carriers_to_index_04['AA'])"
   ]
  },
  {
   "cell_type": "code",
   "execution_count": 41,
   "metadata": {
    "collapsed": false
   },
   "outputs": [],
   "source": [
    "the_most_common_month_04 = (\n",
    "    df_04\n",
    "        .groupBy('month')\n",
    "        .agg(func.count('*').alias('count'))\n",
    "        .orderBy(desc('count'))\n",
    "    ).first()[0]\n",
    "\n",
    "the_most_common_day_of_month_04 = (\n",
    "    df_04\n",
    "        .groupBy('day_of_month')\n",
    "        .agg(func.count('*').alias('count'))\n",
    "        .orderBy(desc('count'))\n",
    "    ).first()[0]\n",
    "\n",
    "the_most_common_day_of_week_04 = (\n",
    "    df_04\n",
    "        .groupBy('day_of_week')\n",
    "        .agg(func.count('*').alias('count'))\n",
    "        .orderBy(desc('count'))\n",
    "    ).first()[0]\n",
    "\n",
    "the_most_common_s_departure_hour_04 = (\n",
    "    df_04\n",
    "        .groupBy('scheduled_departure_hour')\n",
    "        .agg(func.count('*').alias('count'))\n",
    "        .orderBy(desc('count'))\n",
    "    ).first()[0]\n",
    "\n",
    "the_most_common_s_arrival_hour_04 = (\n",
    "    df_04\n",
    "        .groupBy('scheduled_arrival_hour')\n",
    "        .agg(func.count('*').alias('count'))\n",
    "        .orderBy(desc('count'))\n",
    "    ).first()[0]\n",
    "\n",
    "mean_distance_04 = (\n",
    "    df_04\n",
    "        .agg(func.avg('distance').alias('avg'))\n",
    "    ).first()[0]\n",
    "\n",
    "mean_arrival_delay_04 = (\n",
    "    df_04\n",
    "        .agg(func.avg('arrival_delay').alias('avg'))\n",
    "    ).first()[0]"
   ]
  },
  {
   "cell_type": "markdown",
   "metadata": {},
   "source": [
    "After gathering the default values of our features, we train a Random Forest model for each of our 4 datasets (1 without weather info and 3 with different weather info)."
   ]
  },
  {
   "cell_type": "markdown",
   "metadata": {},
   "source": [
    "Without weather info:"
   ]
  },
  {
   "cell_type": "code",
   "execution_count": 37,
   "metadata": {
    "collapsed": false
   },
   "outputs": [],
   "source": [
    "from pyspark.mllib.tree import DecisionTree, DecisionTreeModel\n",
    "from pyspark.mllib.util import MLUtils\n",
    "from pyspark.mllib.regression import LabeledPoint\n",
    "\n",
    "\n",
    "def is_valid(value):\n",
    "    return value != \"NA\" and value != None and (type(value)!=str or len(value)>0)\n",
    "\n",
    "data = rdd_04_wthr_src\\\n",
    "    .map(lambda values: \n",
    "        LabeledPoint( \n",
    "            int(values[5]) if is_valid(values[5]) else mean_arrival_delay_04, # arrival delay\n",
    "            [\n",
    "                int(values[0]) if is_valid(values[0]) else the_most_common_month_04, # month\n",
    "                int(values[1]) if is_valid(values[1]) else the_most_common_day_of_month_04, # day of month\n",
    "                int(values[2]) if is_valid(values[2]) else the_most_common_day_of_week_04, # day of week\n",
    "                int(values[3]) if is_valid(values[3]) else the_most_common_s_departure_hour_04 , # scheduled departure hour\n",
    "                int(values[4]) if is_valid(values[4]) else the_most_common_s_arrival_hour_04, # scheduled arrival hour\n",
    "                # if the value is valid, map it to the corresponding index\n",
    "                # otherwise, use the most common value\n",
    "                map_carriers_to_index_04[values[10]] if is_valid(values[10]) \\\n",
    "                    else map_carriers_to_index_04[carriers_04[0]], # carrier\n",
    "                map_src_airport_to_index_04[values[8]] if is_valid(values[8]) \\\n",
    "                    else map_src_airport_to_index_04[src_airports_04[0]], # src_airport\n",
    "                map_dest_airport_to_index_04[values[9]] if is_valid(values[9]) \\\n",
    "                    else map_dest_airport_to_index_04[dest_airports_04[0]], # destination_airport\n",
    "                int(values[7]) if is_valid(values[7]) else mean_distance, # distance\n",
    "                1 if is_valid(values[2]) and int(values[2]) >= 6 else 0, # is_weekend\n",
    "            ]\n",
    "        )\n",
    "    )\n",
    "\n",
    "# Split the data into training and test sets (30% held out for testing)\n",
    "(trainingData, testData) = data.randomSplit((0.7,0.3))\n",
    "\n",
    "trainingData = trainingData.cache()\n",
    "testData = testData.cache()"
   ]
  },
  {
   "cell_type": "code",
   "execution_count": 33,
   "metadata": {
    "collapsed": false,
    "scrolled": true
   },
   "outputs": [
    {
     "name": "stdout",
     "output_type": "stream",
     "text": [
      "Test Mean Squared Error = 957.7855834423592\n"
     ]
    }
   ],
   "source": [
    "from pyspark.mllib.tree import RandomForest, RandomForestModel\n",
    "\n",
    "# declare information of categorical features\n",
    "# format:  feature_index : number_distinct_values\n",
    "categorical_info = {5: num_carriers_04, 6: num_src_airports_04, 7: num_dest_airports_04, 9: 2}\n",
    "\n",
    "# Train a DecisionTree model.\n",
    "model = RandomForest.trainRegressor(trainingData, categoricalFeaturesInfo=categorical_info,\n",
    "                                    numTrees=10, impurity='variance', maxDepth=16, maxBins=300)\n",
    "\n",
    "# Evaluate model on test instances and compute test error\n",
    "predictions = model.predict(testData.map(lambda x: x.features))\n",
    "labelsAndPredictions = testData.map(lambda lp: lp.label).zip(predictions)\n",
    "testMSE = labelsAndPredictions.map(\n",
    "    lambda p: (p[0]-p[1])**2).mean()\n",
    "print('Test Mean Squared Error = ' + str(testMSE))"
   ]
  },
  {
   "cell_type": "markdown",
   "metadata": {},
   "source": [
    "Source aiport weather info."
   ]
  },
  {
   "cell_type": "code",
   "execution_count": 30,
   "metadata": {
    "collapsed": false
   },
   "outputs": [],
   "source": [
    "from pyspark.mllib.tree import DecisionTree, DecisionTreeModel\n",
    "from pyspark.mllib.util import MLUtils\n",
    "from pyspark.mllib.regression import LabeledPoint\n",
    "\n",
    "\n",
    "def is_valid(value):\n",
    "    return value != \"NA\" and value != None and (type(value)!=str or len(value)>0)\n",
    "\n",
    "data = rdd_04_wthr_src\\\n",
    "    .map(lambda values: \n",
    "        LabeledPoint( \n",
    "            int(values[5]) if is_valid(values[5]) else mean_arrival_delay_04, # arrival delay\n",
    "            [\n",
    "                int(values[0]) if is_valid(values[0]) else the_most_common_month_04, # month\n",
    "                int(values[1]) if is_valid(values[1]) else the_most_common_day_of_month_04, # day of month\n",
    "                int(values[2]) if is_valid(values[2]) else the_most_common_day_of_week_04, # day of week\n",
    "                int(values[3]) if is_valid(values[3]) else the_most_common_s_departure_hour_04 , # scheduled departure hour\n",
    "                int(values[4]) if is_valid(values[4]) else the_most_common_s_arrival_hour_04, # scheduled arrival hour\n",
    "                # if the value is valid, map it to the corresponding index\n",
    "                # otherwise, use the most common value\n",
    "                map_carriers_to_index_04[values[10]] if is_valid(values[10]) \\\n",
    "                    else map_carriers_to_index_04[carriers_04[0]], # carrier\n",
    "                map_src_airport_to_index_04[values[8]] if is_valid(values[8]) \\\n",
    "                    else map_src_airport_to_index_04[src_airports_04[0]], # src_airport\n",
    "                map_dest_airport_to_index_04[values[9]] if is_valid(values[9]) \\\n",
    "                    else map_dest_airport_to_index_04[dest_airports_04[0]], # destination_airport\n",
    "                int(values[7]) if is_valid(values[7]) else mean_distance, # distance\n",
    "                1 if is_valid(values[2]) and int(values[2]) >= 6 else 0, # is_weekend\n",
    "                map_label_to_index[values[11]], #label\n",
    "                int(values[12]), #tornado_src\n",
    "                int(values[13]), #thunder_src\n",
    "                int(values[14]), #fog_src\n",
    "                int(values[15]), #hail_src\n",
    "                int(values[16]), #snow_src\n",
    "                int(values[17]), #rain_src\n",
    "                float(values[18]), #precipitation_src\n",
    "                float(values[19]), #visibility_src\n",
    "                float(values[20]) #wind_speed_src\n",
    "            ]\n",
    "        )\n",
    "    )\n",
    "\n",
    "# Split the data into training and test sets (30% held out for testing)\n",
    "(trainingData, testData) = data.randomSplit((0.7,0.3))\n",
    "\n",
    "trainingData = trainingData.cache()\n",
    "testData = testData.cache()"
   ]
  },
  {
   "cell_type": "code",
   "execution_count": 31,
   "metadata": {
    "collapsed": false
   },
   "outputs": [
    {
     "name": "stdout",
     "output_type": "stream",
     "text": [
      "Test Mean Squared Error = 930.3449856182239\n"
     ]
    }
   ],
   "source": [
    "from pyspark.mllib.tree import RandomForest, RandomForestModel\n",
    "\n",
    "# declare information of categorical features\n",
    "# format:  feature_index : number_distinct_values\n",
    "categorical_info = {5: num_carriers_04, 6: num_src_airports_04, 7: num_dest_airports_04, 9: 2, 10: num_labels, 11: 2, 12: 2, 13: 2, 14: 2, 15: 2, 16: 2}\n",
    "\n",
    "# Train a DecisionTree model.\n",
    "model = RandomForest.trainRegressor(trainingData, categoricalFeaturesInfo=categorical_info,\n",
    "                                    numTrees=10, impurity='variance', maxDepth=16, maxBins=300)\n",
    "\n",
    "# Evaluate model on test instances and compute test error\n",
    "predictions = model.predict(testData.map(lambda x: x.features))\n",
    "labelsAndPredictions = testData.map(lambda lp: lp.label).zip(predictions)\n",
    "testMSE = labelsAndPredictions.map(\n",
    "    lambda p: (p[0]-p[1])**2).mean()\n",
    "print('Test Mean Squared Error = ' + str(testMSE))"
   ]
  },
  {
   "cell_type": "markdown",
   "metadata": {},
   "source": [
    "Destination weather info."
   ]
  },
  {
   "cell_type": "code",
   "execution_count": 41,
   "metadata": {
    "collapsed": false
   },
   "outputs": [],
   "source": [
    "from pyspark.mllib.tree import DecisionTree, DecisionTreeModel\n",
    "from pyspark.mllib.util import MLUtils\n",
    "from pyspark.mllib.regression import LabeledPoint\n",
    "\n",
    "\n",
    "def is_valid(value):\n",
    "    return value != \"NA\" and value != None and (type(value)!=str or len(value)>0)\n",
    "\n",
    "data = rdd_04_wthr_dest\\\n",
    "    .map(lambda values: \n",
    "        LabeledPoint( \n",
    "            int(values[5]) if is_valid(values[5]) else mean_arrival_delay_04, # arrival delay\n",
    "            [\n",
    "                int(values[0]) if is_valid(values[0]) else the_most_common_month_04, # month\n",
    "                int(values[1]) if is_valid(values[1]) else the_most_common_day_of_month_04, # day of month\n",
    "                int(values[2]) if is_valid(values[2]) else the_most_common_day_of_week_04, # day of week\n",
    "                int(values[3]) if is_valid(values[3]) else the_most_common_s_departure_hour_04 , # scheduled departure hour\n",
    "                int(values[4]) if is_valid(values[4]) else the_most_common_s_arrival_hour_04, # scheduled arrival hour\n",
    "                # if the value is valid, map it to the corresponding index\n",
    "                # otherwise, use the most common value\n",
    "                map_carriers_to_index_04[values[10]] if is_valid(values[10]) \\\n",
    "                    else map_carriers_to_index_04[carriers_04[0]], # carrier\n",
    "                map_src_airport_to_index_04[values[8]] if is_valid(values[8]) \\\n",
    "                    else map_src_airport_to_index_04[src_airports_04[0]], # src_airport\n",
    "                map_dest_airport_to_index_04[values[9]] if is_valid(values[9]) \\\n",
    "                    else map_dest_airport_to_index_04[dest_airports_04[0]], # destination_airport\n",
    "                int(values[7]) if is_valid(values[7]) else mean_distance, # distance\n",
    "                1 if is_valid(values[2]) and int(values[2]) >= 6 else 0, # is_weekend\n",
    "                map_label_to_index[values[11]], #label_dest\n",
    "                int(values[12]), #tornado_dest\n",
    "                int(values[13]), #thunder_dest\n",
    "                int(values[14]), #fog_dest\n",
    "                int(values[15]), #hail_dest\n",
    "                int(values[16]), #snow_dest\n",
    "                int(values[17]), #rain_dest\n",
    "                float(values[18]), #precipitation_dest\n",
    "                float(values[19]), #visibility_dest\n",
    "                float(values[20]) #wind_speed_dest\n",
    "            ]\n",
    "        )\n",
    "    )\n",
    "\n",
    "# Split the data into training and test sets (30% held out for testing)\n",
    "(trainingData, testData) = data.randomSplit((0.7,0.3))\n",
    "\n",
    "trainingData = trainingData.cache()\n",
    "testData = testData.cache()"
   ]
  },
  {
   "cell_type": "code",
   "execution_count": 42,
   "metadata": {
    "collapsed": false
   },
   "outputs": [
    {
     "name": "stdout",
     "output_type": "stream",
     "text": [
      "Test Mean Squared Error = 999.165524587104\n"
     ]
    }
   ],
   "source": [
    "from pyspark.mllib.tree import RandomForest, RandomForestModel\n",
    "\n",
    "# declare information of categorical features\n",
    "# format:  feature_index : number_distinct_values\n",
    "categorical_info = {5: num_carriers_04, 6: num_src_airports_04, 7: num_dest_airports_04, 9: 2, 10: num_labels, 11: 2, 12: 2, 13: 2, 14: 2, 15: 2, 16: 2}\n",
    "\n",
    "# Train a DecisionTree model.\n",
    "model = RandomForest.trainRegressor(trainingData, categoricalFeaturesInfo=categorical_info,\n",
    "                                    numTrees=10, impurity='variance', maxDepth=16, maxBins=300)\n",
    "\n",
    "# Evaluate model on test instances and compute test error\n",
    "predictions = model.predict(testData.map(lambda x: x.features))\n",
    "labelsAndPredictions = testData.map(lambda lp: lp.label).zip(predictions)\n",
    "testMSE = labelsAndPredictions.map(\n",
    "    lambda p: (p[0]-p[1])**2).mean()\n",
    "print('Test Mean Squared Error = ' + str(testMSE))"
   ]
  },
  {
   "cell_type": "markdown",
   "metadata": {},
   "source": [
    "Both source and destination weather info."
   ]
  },
  {
   "cell_type": "code",
   "execution_count": 35,
   "metadata": {
    "collapsed": false
   },
   "outputs": [],
   "source": [
    "from pyspark.mllib.tree import DecisionTree, DecisionTreeModel\n",
    "from pyspark.mllib.util import MLUtils\n",
    "from pyspark.mllib.regression import LabeledPoint\n",
    "\n",
    "\n",
    "def is_valid(value):\n",
    "    return value != \"NA\" and value != None and (type(value)!=str or len(value)>0)\n",
    "\n",
    "data = rdd_04_wthr_all\\\n",
    "    .map(lambda values: \n",
    "        LabeledPoint( \n",
    "            int(values[5]) if is_valid(values[5]) else mean_arrival_delay_04, # arrival delay\n",
    "            [\n",
    "                int(values[0]) if is_valid(values[0]) else the_most_common_month_04, # month\n",
    "                int(values[1]) if is_valid(values[1]) else the_most_common_day_of_month_04, # day of month\n",
    "                int(values[2]) if is_valid(values[2]) else the_most_common_day_of_week_04, # day of week\n",
    "                int(values[3]) if is_valid(values[3]) else the_most_common_s_departure_hour_04 , # scheduled departure hour\n",
    "                int(values[4]) if is_valid(values[4]) else the_most_common_s_arrival_hour_04, # scheduled arrival hour\n",
    "                # if the value is valid, map it to the corresponding index\n",
    "                # otherwise, use the most common value\n",
    "                map_carriers_to_index_04[values[10]] if is_valid(values[10]) \\\n",
    "                    else map_carriers_to_index_04[carriers_04[0]], # carrier\n",
    "                map_src_airport_to_index_04[values[8]] if is_valid(values[8]) \\\n",
    "                    else map_src_airport_to_index_04[src_airports_04[0]], # src_airport\n",
    "                map_dest_airport_to_index_04[values[9]] if is_valid(values[9]) \\\n",
    "                    else map_dest_airport_to_index_04[dest_airports_04[0]], # destination_airport\n",
    "                int(values[7]) if is_valid(values[7]) else mean_distance, # distance\n",
    "                1 if is_valid(values[2]) and int(values[2]) >= 6 else 0, # is_weekend\n",
    "                map_label_to_index[values[11]], #label_src\n",
    "                int(values[12]), #tornado_src\n",
    "                int(values[13]), #thunder_src\n",
    "                int(values[14]), #fog_src\n",
    "                int(values[15]), #hail_src\n",
    "                int(values[16]), #snow_src\n",
    "                int(values[17]), #rain_src\n",
    "                float(values[18]), #precipitation_src\n",
    "                float(values[19]), #visibility_src\n",
    "                float(values[20]), #wind_speed_src\n",
    "                map_label_to_index[values[21]], #label_dest\n",
    "                int(values[22]), #tornado_dest\n",
    "                int(values[23]), #thunder_dest\n",
    "                int(values[24]), #fog_dest\n",
    "                int(values[25]), #hail_dest\n",
    "                int(values[26]), #snow_dest\n",
    "                int(values[27]), #rain_dest\n",
    "                float(values[28]), #precipitation_dest\n",
    "                float(values[29]), #visibility_dest\n",
    "                float(values[30]) #wind_speed_dest\n",
    "            ]\n",
    "        )\n",
    "    )\n",
    "\n",
    "# Split the data into training and test sets (30% held out for testing)\n",
    "(trainingData, testData) = data.randomSplit((0.7,0.3))\n",
    "\n",
    "trainingData = trainingData.cache()\n",
    "testData = testData.cache()"
   ]
  },
  {
   "cell_type": "code",
   "execution_count": 37,
   "metadata": {
    "collapsed": false,
    "scrolled": true
   },
   "outputs": [
    {
     "name": "stdout",
     "output_type": "stream",
     "text": [
      "Test Mean Squared Error = 921.7168624816965\n"
     ]
    }
   ],
   "source": [
    "from pyspark.mllib.tree import RandomForest, RandomForestModel\n",
    "\n",
    "# declare information of categorical features\n",
    "# format:  feature_index : number_distinct_values\n",
    "categorical_info = {5: num_carriers_04, 6: num_src_airports_04, 7: num_dest_airports_04, 9: 2, 10: num_labels, 11: 2, 12: 2, 13: 2, 14: 2, 15: 2, 16: 2, 20: num_labels, 21: 2, 22: 2, 23: 2, 24: 2, 25: 2, 26: 2}\n",
    "\n",
    "# Train a DecisionTree model.\n",
    "model = RandomForest.trainRegressor(trainingData, categoricalFeaturesInfo=categorical_info,\n",
    "                                    numTrees=10, impurity='variance', maxDepth=16, maxBins=300)\n",
    "\n",
    "# Evaluate model on test instances and compute test error\n",
    "predictions = model.predict(testData.map(lambda x: x.features))\n",
    "labelsAndPredictions = testData.map(lambda lp: lp.label).zip(predictions)\n",
    "testMSE = labelsAndPredictions.map(\n",
    "    lambda p: (p[0]-p[1])**2).mean()\n",
    "print('Test Mean Squared Error = ' + str(testMSE))"
   ]
  },
  {
   "cell_type": "markdown",
   "metadata": {},
   "source": [
    "We notice that except for the one with destination weather info, all the models perform better with weather info by at least 3%."
   ]
  },
  {
   "cell_type": "markdown",
   "metadata": {},
   "source": [
    "Now we try a final model where we only put the weater label additional feature to test it: "
   ]
  },
  {
   "cell_type": "code",
   "execution_count": 38,
   "metadata": {
    "collapsed": false
   },
   "outputs": [],
   "source": [
    "from pyspark.mllib.tree import DecisionTree, DecisionTreeModel\n",
    "from pyspark.mllib.util import MLUtils\n",
    "from pyspark.mllib.regression import LabeledPoint\n",
    "\n",
    "\n",
    "def is_valid(value):\n",
    "    return value != \"NA\" and value != None and (type(value)!=str or len(value)>0)\n",
    "\n",
    "data = rdd_04_wthr_all\\\n",
    "    .map(lambda values: \n",
    "        LabeledPoint( \n",
    "            int(values[5]) if is_valid(values[5]) else mean_arrival_delay_04, # arrival delay\n",
    "            [\n",
    "                int(values[0]) if is_valid(values[0]) else the_most_common_month_04, # month\n",
    "                int(values[1]) if is_valid(values[1]) else the_most_common_day_of_month_04, # day of month\n",
    "                int(values[2]) if is_valid(values[2]) else the_most_common_day_of_week_04, # day of week\n",
    "                int(values[3]) if is_valid(values[3]) else the_most_common_s_departure_hour_04 , # scheduled departure hour\n",
    "                int(values[4]) if is_valid(values[4]) else the_most_common_s_arrival_hour_04, # scheduled arrival hour\n",
    "                # if the value is valid, map it to the corresponding index\n",
    "                # otherwise, use the most common value\n",
    "                map_carriers_to_index_04[values[10]] if is_valid(values[10]) \\\n",
    "                    else map_carriers_to_index_04[carriers_04[0]], # carrier\n",
    "                map_src_airport_to_index_04[values[8]] if is_valid(values[8]) \\\n",
    "                    else map_src_airport_to_index_04[src_airports_04[0]], # src_airport\n",
    "                map_dest_airport_to_index_04[values[9]] if is_valid(values[9]) \\\n",
    "                    else map_dest_airport_to_index_04[dest_airports_04[0]], # destination_airport\n",
    "                int(values[7]) if is_valid(values[7]) else mean_distance, # distance\n",
    "                1 if is_valid(values[2]) and int(values[2]) >= 6 else 0, # is_weekend\n",
    "                map_label_to_index[values[11]], #label_src\n",
    "                map_label_to_index[values[21]], #label_dest\n",
    "            ]\n",
    "        )\n",
    "    )\n",
    "\n",
    "# Split the data into training and test sets (30% held out for testing)\n",
    "(trainingData, testData) = data.randomSplit((0.7,0.3))\n",
    "\n",
    "trainingData = trainingData.cache()\n",
    "testData = testData.cache()"
   ]
  },
  {
   "cell_type": "code",
   "execution_count": 42,
   "metadata": {
    "collapsed": false,
    "scrolled": false
   },
   "outputs": [
    {
     "name": "stdout",
     "output_type": "stream",
     "text": [
      "Test Mean Squared Error = 884.3568103166388\n"
     ]
    }
   ],
   "source": [
    "from pyspark.mllib.tree import RandomForest, RandomForestModel\n",
    "\n",
    "# declare information of categorical features\n",
    "# format:  feature_index : number_distinct_values\n",
    "categorical_info = {5: num_carriers_04, 6: num_src_airports_04, 7: num_dest_airports_04, 9: 2, 10: num_labels, 11: num_labels}\n",
    "\n",
    "# Train a DecisionTree model.\n",
    "model = RandomForest.trainRegressor(trainingData, categoricalFeaturesInfo=categorical_info,\n",
    "                                    numTrees=10, impurity='variance', maxDepth=16, maxBins=300)\n",
    "\n",
    "# Evaluate model on test instances and compute test error\n",
    "predictions = model.predict(testData.map(lambda x: x.features))\n",
    "labelsAndPredictions = testData.map(lambda lp: lp.label).zip(predictions)\n",
    "testMSE = labelsAndPredictions.map(\n",
    "    lambda p: (p[0]-p[1])**2).mean()\n",
    "print('Test Mean Squared Error = ' + str(testMSE))"
   ]
  },
  {
   "cell_type": "markdown",
   "metadata": {},
   "source": [
    "We finally notice that this last model performs better that all of the previous ones with a 8% improvement, maybe because adding too many features makes it harder to have a simple decision tree because it has to handle many features that could be regrouped in one only (the weather label)."
   ]
  },
  {
   "cell_type": "markdown",
   "metadata": {},
   "source": [
    "## 6.3. Inspecting delays factors"
   ]
  },
  {
   "cell_type": "markdown",
   "metadata": {},
   "source": [
    "Another idea we had was to inspect these detailled delay factors in our data suggested earlier, try to train a model for each of these delays seperatly and sum them up at the end."
   ]
  },
  {
   "cell_type": "markdown",
   "metadata": {},
   "source": [
    "We start inspecting these detailled delays to check if their sum is a lot different from the arrival delay."
   ]
  },
  {
   "cell_type": "code",
   "execution_count": 7,
   "metadata": {
    "collapsed": false
   },
   "outputs": [],
   "source": [
    "delays = df_04.select('arrival_delay', 'carrier_delay', 'weather_delay', 'nas_delay', 'security_delay', 'late_aircraft_delay') \\\n",
    "       .rdd.map(lambda x : (x[0],x[1]+x[2]+x[3]+x[4]+x[5])).collect()"
   ]
  },
  {
   "cell_type": "code",
   "execution_count": 21,
   "metadata": {
    "collapsed": false,
    "scrolled": true
   },
   "outputs": [
    {
     "name": "stdout",
     "output_type": "stream",
     "text": [
      "(141541, 3682560, 0, 1284352, 7.624754740133546, 3.399931247857694)\n"
     ]
    }
   ],
   "source": [
    "import math\n",
    "\n",
    "def inspect(l):\n",
    "    neg=0\n",
    "    neg2=0\n",
    "    diff=0\n",
    "    diff_mean=0\n",
    "    diff_deviation=0\n",
    "    diff\n",
    "    none=0\n",
    "    for x in l:\n",
    "        if x[0]==None:\n",
    "            none+=1\n",
    "        else:\n",
    "            if x[0]<0:\n",
    "                neg+=1\n",
    "            else:\n",
    "                if (x[0]-x[1])>2 or x[1]-x[0]>2:\n",
    "                    diff_mean+=(x[0]-x[1])\n",
    "                    diff+=1\n",
    "                if x[1]<0:\n",
    "                    neg2+=1\n",
    "    diff_mean=diff_mean/diff\n",
    "    for x in l:\n",
    "        if x[0]!=None and x[0]>=0 and ((x[0]-x[1])>2 or (x[1]-x[0])>2):\n",
    "            diff_deviation+=(x[0]-x[1]-diff_mean)**2\n",
    "    diff_deviation=math.sqrt(diff_deviation/diff)\n",
    "    return(none,neg,neg2,diff,diff_mean,diff_deviation)\n",
    "\n",
    "print(inspect(delays))\n"
   ]
  },
  {
   "cell_type": "code",
   "execution_count": 47,
   "metadata": {
    "collapsed": false,
    "scrolled": true
   },
   "outputs": [
    {
     "name": "stdout",
     "output_type": "stream",
     "text": [
      "7129270\n"
     ]
    }
   ],
   "source": [
    "print(len(delays))"
   ]
  },
  {
   "cell_type": "markdown",
   "metadata": {},
   "source": [
    "We find that half our dataset has negative delays (the planes arrive earlier than scheduled), which is not taken into account into the detailled delays (no negative values there).\n",
    "Also on the remaining positive delays, about half of them are the sum of the detailled delays, which means that the other half has other delays that add up to it that are not listed.\n",
    "\n",
    "To try and compensate this non-listed delay, we want to add a random (gaussian) noise that should compensate this lack of information. For that we investigate more the data we have."
   ]
  },
  {
   "cell_type": "code",
   "execution_count": 51,
   "metadata": {
    "collapsed": false
   },
   "outputs": [
    {
     "name": "stdout",
     "output_type": "stream",
     "text": [
      "(141541, 0, 0, 6987729, -3.9514586212487632, 9.04358135067758)\n"
     ]
    }
   ],
   "source": [
    "import math\n",
    "\n",
    "def inspect(l, limit):\n",
    "    neg=0\n",
    "    neg2=0\n",
    "    diff=0\n",
    "    diff_mean=0\n",
    "    diff_deviation=0\n",
    "    none=0\n",
    "    for x in l:\n",
    "        if x[0]==None:\n",
    "            none+=1\n",
    "        else:\n",
    "            if (x[0]-x[1])<limit or (x[1]-x[0])<limit:\n",
    "                diff_mean+=(x[0]-x[1])\n",
    "                diff+=1\n",
    "            if x[1]<0:\n",
    "                neg2+=1\n",
    "    diff_mean=diff_mean/diff\n",
    "    for x in l:\n",
    "        if x[0]!=None and ((x[0]-x[1])<limit or (x[1]-x[0])<limit):\n",
    "            diff_deviation+=(x[0]-x[1]-diff_mean)**2\n",
    "    diff_deviation=math.sqrt(diff_deviation/diff)\n",
    "    return(none,neg,neg2,diff,diff_mean,diff_deviation)\n",
    "\n",
    "print(inspect(delays,3))\n"
   ]
  },
  {
   "cell_type": "code",
   "execution_count": 40,
   "metadata": {
    "collapsed": false
   },
   "outputs": [],
   "source": [
    "import random\n",
    "diff_mean, diff_deviation = inspect(delays,3)[-2:]\n",
    "delays_noisy = [(x[0],x[1]+random.gauss(diff_mean,diff_deviation)) for x in delays]"
   ]
  },
  {
   "cell_type": "code",
   "execution_count": 45,
   "metadata": {
    "collapsed": false
   },
   "outputs": [
    {
     "name": "stdout",
     "output_type": "stream",
     "text": [
      "15.405049061051184\n"
     ]
    }
   ],
   "source": [
    "def error(l):\n",
    "    diff=0\n",
    "    err=0\n",
    "    for x in l:\n",
    "        if x[0]!=None:\n",
    "            err+=math.sqrt((x[0]-x[1])**2)\n",
    "            diff+=1\n",
    "    err=err/diff\n",
    "    return(err)\n",
    "\n",
    "print(error(delays_noisy))"
   ]
  },
  {
   "cell_type": "code",
   "execution_count": 52,
   "metadata": {
    "collapsed": false,
    "scrolled": true
   },
   "outputs": [
    {
     "name": "stdout",
     "output_type": "stream",
     "text": [
      "0 10.772905651136071\n",
      "1 10.074826050077156\n",
      "2 10.07013277165687\n",
      "3 10.073577398201913\n",
      "4 10.078077980715598\n",
      "5 10.07233474776637\n",
      "6 10.073523793676456\n",
      "7 10.079427379073604\n",
      "8 10.072567572568357\n",
      "9 10.076845683749784\n"
     ]
    }
   ],
   "source": [
    "for limit in range(10):\n",
    "    diff_mean, diff_deviation = inspect(delays,limit)[-2:]\n",
    "    delays_noisy = [(x[0],x[1]+random.gauss(diff_mean,diff_deviation)) for x in delays]\n",
    "    print(limit,error(delays_noisy))"
   ]
  },
  {
   "cell_type": "code",
   "execution_count": 48,
   "metadata": {
    "collapsed": false,
    "scrolled": true
   },
   "outputs": [
    {
     "name": "stdout",
     "output_type": "stream",
     "text": [
      "6.8898006777309195\n"
     ]
    }
   ],
   "source": [
    "print(error(delays))"
   ]
  },
  {
   "cell_type": "markdown",
   "metadata": {},
   "source": [
    "The error (difference between sum of detailled delays and arrival delay) without difference is 6.8 minutes. The one with the noise is 10.7. So the noise doesn't really help this way..."
   ]
  },
  {
   "cell_type": "code",
   "execution_count": 54,
   "metadata": {
    "collapsed": false,
    "scrolled": false
   },
   "outputs": [
    {
     "name": "stdout",
     "output_type": "stream",
     "text": [
      "0 9.497295691191288\n",
      "1 9.274689810451902\n",
      "2 9.163458449500615\n",
      "3 9.096585597378274\n",
      "4 9.05122025208043\n",
      "5 9.019404600559232\n",
      "----------------------------------------\n",
      "Exception happened during processing of request from ('127.0.0.1', 60540)\n"
     ]
    },
    {
     "name": "stderr",
     "output_type": "stream",
     "text": [
      "Traceback (most recent call last):\n",
      "  File \"/opt/conda/lib/python3.5/socketserver.py\", line 313, in _handle_request_noblock\n",
      "    self.process_request(request, client_address)\n",
      "  File \"/opt/conda/lib/python3.5/socketserver.py\", line 341, in process_request\n",
      "    self.finish_request(request, client_address)\n",
      "  File \"/opt/conda/lib/python3.5/socketserver.py\", line 354, in finish_request\n",
      "    self.RequestHandlerClass(request, client_address, self)\n",
      "  File \"/opt/conda/lib/python3.5/socketserver.py\", line 681, in __init__\n",
      "    self.handle()\n",
      "  File \"/opt/spark/python/pyspark/accumulators.py\", line 235, in handle\n",
      "    num_updates = read_int(self.rfile)\n",
      "  File \"/opt/spark/python/pyspark/serializers.py\", line 557, in read_int\n",
      "    raise EOFError\n",
      "EOFError\n"
     ]
    },
    {
     "name": "stdout",
     "output_type": "stream",
     "text": [
      "----------------------------------------\n",
      "6 8.995320836051693\n",
      "7 8.976934682492821\n"
     ]
    },
    {
     "ename": "KeyboardInterrupt",
     "evalue": "",
     "output_type": "error",
     "traceback": [
      "\u001b[0;31m---------------------------------------------------------------------------\u001b[0m",
      "\u001b[0;31mKeyboardInterrupt\u001b[0m                         Traceback (most recent call last)",
      "\u001b[0;32m<ipython-input-54-f782a4871b76>\u001b[0m in \u001b[0;36m<module>\u001b[0;34m()\u001b[0m\n\u001b[1;32m     39\u001b[0m \u001b[0;34m\u001b[0m\u001b[0m\n\u001b[1;32m     40\u001b[0m \u001b[0;32mfor\u001b[0m \u001b[0mlimit\u001b[0m \u001b[0;32min\u001b[0m \u001b[0mrange\u001b[0m\u001b[0;34m(\u001b[0m\u001b[0;36m10\u001b[0m\u001b[0;34m)\u001b[0m\u001b[0;34m:\u001b[0m\u001b[0;34m\u001b[0m\u001b[0m\n\u001b[0;32m---> 41\u001b[0;31m     \u001b[0mdiff_mean_neg\u001b[0m\u001b[0;34m,\u001b[0m \u001b[0mdiff_deviation_neg\u001b[0m \u001b[0;34m=\u001b[0m \u001b[0minspect_neg\u001b[0m\u001b[0;34m(\u001b[0m\u001b[0mdelays\u001b[0m\u001b[0;34m,\u001b[0m\u001b[0mlimit\u001b[0m\u001b[0;34m)\u001b[0m\u001b[0;34m[\u001b[0m\u001b[0;34m-\u001b[0m\u001b[0;36m2\u001b[0m\u001b[0;34m:\u001b[0m\u001b[0;34m]\u001b[0m\u001b[0;34m\u001b[0m\u001b[0m\n\u001b[0m\u001b[1;32m     42\u001b[0m     \u001b[0mdiff_mean_pos\u001b[0m\u001b[0;34m,\u001b[0m \u001b[0mdiff_deviation_pos\u001b[0m \u001b[0;34m=\u001b[0m \u001b[0minspect_pos\u001b[0m\u001b[0;34m(\u001b[0m\u001b[0mdelays\u001b[0m\u001b[0;34m,\u001b[0m\u001b[0mlimit\u001b[0m\u001b[0;34m)\u001b[0m\u001b[0;34m[\u001b[0m\u001b[0;34m-\u001b[0m\u001b[0;36m2\u001b[0m\u001b[0;34m:\u001b[0m\u001b[0;34m]\u001b[0m\u001b[0;34m\u001b[0m\u001b[0m\n\u001b[1;32m     43\u001b[0m     \u001b[0;32mfor\u001b[0m \u001b[0mx\u001b[0m \u001b[0;32min\u001b[0m \u001b[0mdelays\u001b[0m\u001b[0;34m:\u001b[0m\u001b[0;34m\u001b[0m\u001b[0m\n",
      "\u001b[0;32m<ipython-input-54-f782a4871b76>\u001b[0m in \u001b[0;36minspect_neg\u001b[0;34m(l, limit)\u001b[0m\n\u001b[1;32m     14\u001b[0m     \u001b[0;32mfor\u001b[0m \u001b[0mx\u001b[0m \u001b[0;32min\u001b[0m \u001b[0ml\u001b[0m\u001b[0;34m:\u001b[0m\u001b[0;34m\u001b[0m\u001b[0m\n\u001b[1;32m     15\u001b[0m         \u001b[0;32mif\u001b[0m \u001b[0mx\u001b[0m\u001b[0;34m[\u001b[0m\u001b[0;36m0\u001b[0m\u001b[0;34m]\u001b[0m\u001b[0;34m!=\u001b[0m\u001b[0;32mNone\u001b[0m \u001b[0;32mand\u001b[0m \u001b[0mx\u001b[0m\u001b[0;34m[\u001b[0m\u001b[0;36m1\u001b[0m\u001b[0;34m]\u001b[0m\u001b[0;34m==\u001b[0m\u001b[0;36m0\u001b[0m \u001b[0;32mand\u001b[0m \u001b[0;34m(\u001b[0m\u001b[0;34m(\u001b[0m\u001b[0mx\u001b[0m\u001b[0;34m[\u001b[0m\u001b[0;36m0\u001b[0m\u001b[0;34m]\u001b[0m\u001b[0;34m-\u001b[0m\u001b[0mx\u001b[0m\u001b[0;34m[\u001b[0m\u001b[0;36m1\u001b[0m\u001b[0;34m]\u001b[0m\u001b[0;34m)\u001b[0m\u001b[0;34m<\u001b[0m\u001b[0mlimit\u001b[0m \u001b[0;32mor\u001b[0m \u001b[0;34m(\u001b[0m\u001b[0mx\u001b[0m\u001b[0;34m[\u001b[0m\u001b[0;36m1\u001b[0m\u001b[0;34m]\u001b[0m\u001b[0;34m-\u001b[0m\u001b[0mx\u001b[0m\u001b[0;34m[\u001b[0m\u001b[0;36m0\u001b[0m\u001b[0;34m]\u001b[0m\u001b[0;34m)\u001b[0m\u001b[0;34m<\u001b[0m\u001b[0mlimit\u001b[0m\u001b[0;34m)\u001b[0m\u001b[0;34m:\u001b[0m\u001b[0;34m\u001b[0m\u001b[0m\n\u001b[0;32m---> 16\u001b[0;31m             \u001b[0mdiff_deviation\u001b[0m\u001b[0;34m+=\u001b[0m\u001b[0;34m(\u001b[0m\u001b[0mx\u001b[0m\u001b[0;34m[\u001b[0m\u001b[0;36m0\u001b[0m\u001b[0;34m]\u001b[0m\u001b[0;34m-\u001b[0m\u001b[0mx\u001b[0m\u001b[0;34m[\u001b[0m\u001b[0;36m1\u001b[0m\u001b[0;34m]\u001b[0m\u001b[0;34m-\u001b[0m\u001b[0mdiff_mean\u001b[0m\u001b[0;34m)\u001b[0m\u001b[0;34m**\u001b[0m\u001b[0;36m2\u001b[0m\u001b[0;34m\u001b[0m\u001b[0m\n\u001b[0m\u001b[1;32m     17\u001b[0m     \u001b[0;32mif\u001b[0m \u001b[0mdiff\u001b[0m\u001b[0;34m!=\u001b[0m\u001b[0;36m0\u001b[0m\u001b[0;34m:\u001b[0m\u001b[0;34m\u001b[0m\u001b[0m\n\u001b[1;32m     18\u001b[0m         \u001b[0mdiff_deviation\u001b[0m\u001b[0;34m=\u001b[0m\u001b[0mmath\u001b[0m\u001b[0;34m.\u001b[0m\u001b[0msqrt\u001b[0m\u001b[0;34m(\u001b[0m\u001b[0mdiff_deviation\u001b[0m\u001b[0;34m/\u001b[0m\u001b[0mdiff\u001b[0m\u001b[0;34m)\u001b[0m\u001b[0;34m\u001b[0m\u001b[0m\n",
      "\u001b[0;31mKeyboardInterrupt\u001b[0m: "
     ]
    }
   ],
   "source": [
    "import math\n",
    "\n",
    "def inspect_neg(l, limit):\n",
    "    diff=0\n",
    "    diff_mean=0\n",
    "    diff_deviation=0\n",
    "    for x in l:\n",
    "        if x[0]!=None and x[1]==0:\n",
    "            if (x[0]-x[1])<limit or (x[1]-x[0])<limit:\n",
    "                diff_mean+=(x[0]-x[1])\n",
    "                diff+=1\n",
    "    if diff!=0:\n",
    "        diff_mean=diff_mean/diff\n",
    "    for x in l:\n",
    "        if x[0]!=None and x[1]==0 and ((x[0]-x[1])<limit or (x[1]-x[0])<limit):\n",
    "            diff_deviation+=(x[0]-x[1]-diff_mean)**2\n",
    "    if diff!=0:\n",
    "        diff_deviation=math.sqrt(diff_deviation/diff)\n",
    "    return(diff,diff_mean,diff_deviation)\n",
    "\n",
    "\n",
    "def inspect_pos(l, limit):\n",
    "    diff=0\n",
    "    diff_mean=0\n",
    "    diff_deviation=0\n",
    "    for x in l:\n",
    "        if x[0]!=None and x[1]!=0:\n",
    "            if (x[0]-x[1])<limit or (x[1]-x[0])<limit:\n",
    "                diff_mean+=(x[0]-x[1])\n",
    "                diff+=1\n",
    "    if diff!=0:\n",
    "        diff_mean=diff_mean/diff\n",
    "    for x in l:\n",
    "        if x[0]!=None and x[1]!=0 and ((x[0]-x[1])<limit or (x[1]-x[0])<limit):\n",
    "            diff_deviation+=(x[0]-x[1]-diff_mean)**2\n",
    "    if diff!=0:\n",
    "        diff_deviation=math.sqrt(diff_deviation/diff)\n",
    "    return(diff,diff_mean,diff_deviation)\n",
    "\n",
    "for limit in range(10):\n",
    "    diff_mean_neg, diff_deviation_neg = inspect_neg(delays,limit)[-2:]\n",
    "    diff_mean_pos, diff_deviation_pos = inspect_pos(delays,limit)[-2:]\n",
    "    for x in delays:\n",
    "        if x[1]==0:\n",
    "            delays_noisy += [(x[0],x[1]+random.gauss(diff_mean_neg,diff_deviation_neg))]\n",
    "        else:\n",
    "            delays_noisy += [(x[0],x[1]+random.gauss(diff_mean_pos,diff_deviation_pos))]\n",
    "    print(limit,error(delays_noisy))"
   ]
  },
  {
   "cell_type": "markdown",
   "metadata": {},
   "source": [
    "We tried to distinguish detailled delays of all zeros from the other in the predictions, which improves a little bit the error but we are not there yet. That's why we keep the results without noise."
   ]
  },
  {
   "cell_type": "markdown",
   "metadata": {},
   "source": [
    "Now time to train the models:"
   ]
  },
  {
   "cell_type": "code",
   "execution_count": 43,
   "metadata": {
    "collapsed": true
   },
   "outputs": [],
   "source": [
    "mean_carrier_delay_04 = (\n",
    "    df_04\n",
    "        .agg(func.avg('carrier_delay').alias('avg'))\n",
    "    ).first()[0]\n",
    "mean_weather_delay_04 = (\n",
    "    df_04\n",
    "        .agg(func.avg('weather_delay').alias('avg'))\n",
    "    ).first()[0]\n",
    "mean_nas_delay_04 = (\n",
    "    df_04\n",
    "        .agg(func.avg('nas_delay').alias('avg'))\n",
    "    ).first()[0]\n",
    "mean_security_delay_04 = (\n",
    "    df_04\n",
    "        .agg(func.avg('security_delay').alias('avg'))\n",
    "    ).first()[0]\n",
    "mean_late_aircraft_delay_04 = (\n",
    "    df_04\n",
    "        .agg(func.avg('late_aircraft_delay').alias('avg'))\n",
    "    ).first()[0]"
   ]
  },
  {
   "cell_type": "code",
   "execution_count": 44,
   "metadata": {
    "collapsed": true
   },
   "outputs": [],
   "source": [
    "rdd_04_wthr_all_delays = df_04_wthr_all.select(['month', 'day_of_month', 'day_of_week',\n",
    "            'scheduled_departure_hour','scheduled_arrival_hour',\n",
    "            'arrival_delay', 'departure_delay', 'distance', \n",
    "            'src_airport', 'dest_airport', 'carrier', 'label_src',\n",
    "            'label_dest','carrier_delay', 'weather_delay',\n",
    "             'nas_delay', 'security_delay', 'late_aircraft_delay']).rdd"
   ]
  },
  {
   "cell_type": "code",
   "execution_count": 46,
   "metadata": {
    "collapsed": false,
    "scrolled": false
   },
   "outputs": [
    {
     "name": "stdout",
     "output_type": "stream",
     "text": [
      "Carrier ready\n",
      "Weather ready\n",
      "NAS ready\n",
      "Security ready\n",
      "Late aircraft ready\n"
     ]
    }
   ],
   "source": [
    "from pyspark.mllib.tree import RandomForest, RandomForestModel\n",
    "from pyspark.mllib.tree import DecisionTree, DecisionTreeModel\n",
    "from pyspark.mllib.util import MLUtils\n",
    "from pyspark.mllib.regression import LabeledPoint\n",
    "\n",
    "\n",
    "def is_valid(value):\n",
    "    return value != \"NA\" and value != None and (type(value)!=str or len(value)>0)\n",
    "\n",
    "categorical_info = {5: num_carriers_04, 6: num_src_airports_04, 7: num_dest_airports_04, 9: 2, 10: num_labels, 11: num_labels}\n",
    "\n",
    "data_carrier = rdd_04_wthr_all_delays\\\n",
    "    .map(lambda values: \n",
    "        LabeledPoint( \n",
    "            int(values[13]) if is_valid(values[13]) else mean_carrier_delay_04, # carrier_delay\n",
    "            [\n",
    "                int(values[0]) if is_valid(values[0]) else the_most_common_month_04, # month\n",
    "                int(values[1]) if is_valid(values[1]) else the_most_common_day_of_month_04, # day of month\n",
    "                int(values[2]) if is_valid(values[2]) else the_most_common_day_of_week_04, # day of week\n",
    "                int(values[3]) if is_valid(values[3]) else the_most_common_s_departure_hour_04 , # scheduled departure hour\n",
    "                int(values[4]) if is_valid(values[4]) else the_most_common_s_arrival_hour_04, # scheduled arrival hour\n",
    "                # if the value is valid, map it to the corresponding index\n",
    "                # otherwise, use the most common value\n",
    "                map_carriers_to_index_04[values[10]] if is_valid(values[10]) \\\n",
    "                    else map_carriers_to_index_04[carriers_04[0]], # carrier\n",
    "                map_src_airport_to_index_04[values[8]] if is_valid(values[8]) \\\n",
    "                    else map_src_airport_to_index_04[src_airports_04[0]], # src_airport\n",
    "                map_dest_airport_to_index_04[values[9]] if is_valid(values[9]) \\\n",
    "                    else map_dest_airport_to_index_04[dest_airports_04[0]], # destination_airport\n",
    "                int(values[7]) if is_valid(values[7]) else mean_distance, # distance\n",
    "                1 if is_valid(values[2]) and int(values[2]) >= 6 else 0, # is_weekend\n",
    "                map_label_to_index[values[11]], #label_src\n",
    "                map_label_to_index[values[12]], #label_dest\n",
    "\n",
    "            ]\n",
    "        )\n",
    "    )\n",
    "\n",
    "# Split the data into training and test sets (30% held out for testing)\n",
    "(trainingData_carrier, testData_carrier) = data.randomSplit((0.7,0.3),seed=0)\n",
    "\n",
    "# Train a DecisionTree model.\n",
    "model_carrier = RandomForest.trainRegressor(trainingData_carrier, categoricalFeaturesInfo=categorical_info,\n",
    "                                    numTrees=10, impurity='variance', maxDepth=12, maxBins=300)\n",
    "\n",
    "print(\"Carrier ready\")\n",
    "\n",
    "data_weather = rdd_04_wthr_all_delays\\\n",
    "    .map(lambda values: \n",
    "        LabeledPoint( \n",
    "            int(values[14]) if is_valid(values[14]) else mean_weather_delay_04, # weather_delay\n",
    "            [\n",
    "                int(values[0]) if is_valid(values[0]) else the_most_common_month_04, # month\n",
    "                int(values[1]) if is_valid(values[1]) else the_most_common_day_of_month_04, # day of month\n",
    "                int(values[2]) if is_valid(values[2]) else the_most_common_day_of_week_04, # day of week\n",
    "                int(values[3]) if is_valid(values[3]) else the_most_common_s_departure_hour_04 , # scheduled departure hour\n",
    "                int(values[4]) if is_valid(values[4]) else the_most_common_s_arrival_hour_04, # scheduled arrival hour\n",
    "                # if the value is valid, map it to the corresponding index\n",
    "                # otherwise, use the most common value\n",
    "                map_carriers_to_index_04[values[10]] if is_valid(values[10]) \\\n",
    "                    else map_carriers_to_index_04[carriers_04[0]], # carrier\n",
    "                map_src_airport_to_index_04[values[8]] if is_valid(values[8]) \\\n",
    "                    else map_src_airport_to_index_04[src_airports_04[0]], # src_airport\n",
    "                map_dest_airport_to_index_04[values[9]] if is_valid(values[9]) \\\n",
    "                    else map_dest_airport_to_index_04[dest_airports_04[0]], # destination_airport\n",
    "                int(values[7]) if is_valid(values[7]) else mean_distance, # distance\n",
    "                1 if is_valid(values[2]) and int(values[2]) >= 6 else 0, # is_weekend\n",
    "                map_label_to_index[values[11]], #label_src\n",
    "                map_label_to_index[values[12]], #label_dest\n",
    "\n",
    "            ]\n",
    "        )\n",
    "    )\n",
    "\n",
    "# Split the data into training and test sets (30% held out for testing)\n",
    "(trainingData_weather, testData_weather) = data.randomSplit((0.7,0.3),seed=0)\n",
    "\n",
    "# Train a DecisionTree model.\n",
    "model_weather = RandomForest.trainRegressor(trainingData_weather, categoricalFeaturesInfo=categorical_info,\n",
    "                                    numTrees=10, impurity='variance', maxDepth=12, maxBins=300)\n",
    "\n",
    "print(\"Weather ready\")\n",
    "\n",
    "data_nas = rdd_04_wthr_all_delays\\\n",
    "    .map(lambda values: \n",
    "        LabeledPoint( \n",
    "            int(values[15]) if is_valid(values[15]) else mean_nas_delay_04, # nas_delay\n",
    "            [\n",
    "                int(values[0]) if is_valid(values[0]) else the_most_common_month_04, # month\n",
    "                int(values[1]) if is_valid(values[1]) else the_most_common_day_of_month_04, # day of month\n",
    "                int(values[2]) if is_valid(values[2]) else the_most_common_day_of_week_04, # day of week\n",
    "                int(values[3]) if is_valid(values[3]) else the_most_common_s_departure_hour_04 , # scheduled departure hour\n",
    "                int(values[4]) if is_valid(values[4]) else the_most_common_s_arrival_hour_04, # scheduled arrival hour\n",
    "                # if the value is valid, map it to the corresponding index\n",
    "                # otherwise, use the most common value\n",
    "                map_carriers_to_index_04[values[10]] if is_valid(values[10]) \\\n",
    "                    else map_carriers_to_index_04[carriers_04[0]], # carrier\n",
    "                map_src_airport_to_index_04[values[8]] if is_valid(values[8]) \\\n",
    "                    else map_src_airport_to_index_04[src_airports_04[0]], # src_airport\n",
    "                map_dest_airport_to_index_04[values[9]] if is_valid(values[9]) \\\n",
    "                    else map_dest_airport_to_index_04[dest_airports_04[0]], # destination_airport\n",
    "                int(values[7]) if is_valid(values[7]) else mean_distance, # distance\n",
    "                1 if is_valid(values[2]) and int(values[2]) >= 6 else 0, # is_weekend\n",
    "                map_label_to_index[values[11]], #label_src\n",
    "                map_label_to_index[values[12]], #label_dest\n",
    "\n",
    "            ]\n",
    "        )\n",
    "    )\n",
    "\n",
    "# Split the data into training and test sets (30% held out for testing)\n",
    "(trainingData_nas, testData_nas) = data.randomSplit((0.7,0.3),seed=0)\n",
    "\n",
    "# Train a DecisionTree model.\n",
    "model_nas = RandomForest.trainRegressor(trainingData_weather, categoricalFeaturesInfo=categorical_info,\n",
    "                                    numTrees=10, impurity='variance', maxDepth=12, maxBins=300)\n",
    "\n",
    "print(\"NAS ready\")\n",
    "\n",
    "data_security = rdd_04_wthr_all_delays\\\n",
    "    .map(lambda values: \n",
    "        LabeledPoint( \n",
    "            int(values[16]) if is_valid(values[16]) else mean_security_delay_04, # security_delay\n",
    "            [\n",
    "                int(values[0]) if is_valid(values[0]) else the_most_common_month_04, # month\n",
    "                int(values[1]) if is_valid(values[1]) else the_most_common_day_of_month_04, # day of month\n",
    "                int(values[2]) if is_valid(values[2]) else the_most_common_day_of_week_04, # day of week\n",
    "                int(values[3]) if is_valid(values[3]) else the_most_common_s_departure_hour_04 , # scheduled departure hour\n",
    "                int(values[4]) if is_valid(values[4]) else the_most_common_s_arrival_hour_04, # scheduled arrival hour\n",
    "                # if the value is valid, map it to the corresponding index\n",
    "                # otherwise, use the most common value\n",
    "                map_carriers_to_index_04[values[10]] if is_valid(values[10]) \\\n",
    "                    else map_carriers_to_index_04[carriers_04[0]], # carrier\n",
    "                map_src_airport_to_index_04[values[8]] if is_valid(values[8]) \\\n",
    "                    else map_src_airport_to_index_04[src_airports_04[0]], # src_airport\n",
    "                map_dest_airport_to_index_04[values[9]] if is_valid(values[9]) \\\n",
    "                    else map_dest_airport_to_index_04[dest_airports_04[0]], # destination_airport\n",
    "                int(values[7]) if is_valid(values[7]) else mean_distance, # distance\n",
    "                1 if is_valid(values[2]) and int(values[2]) >= 6 else 0, # is_weekend\n",
    "                map_label_to_index[values[11]], #label_src\n",
    "                map_label_to_index[values[12]], #label_dest\n",
    "\n",
    "            ]\n",
    "        )\n",
    "    )\n",
    "\n",
    "# Split the data into training and test sets (30% held out for testing)\n",
    "(trainingData_security, testData_security) = data.randomSplit((0.7,0.3),seed=0)\n",
    "\n",
    "# Train a DecisionTree model.\n",
    "model_security = RandomForest.trainRegressor(trainingData_security, categoricalFeaturesInfo=categorical_info,\n",
    "                                    numTrees=10, impurity='variance', maxDepth=12, maxBins=300)\n",
    "\n",
    "print(\"Security ready\")\n",
    "\n",
    "data_late_aircraft = rdd_04_wthr_all_delays\\\n",
    "    .map(lambda values: \n",
    "        LabeledPoint( \n",
    "            int(values[17]) if is_valid(values[17]) else mean_late_aircraft_delay_04, # late_aircraft_delay\n",
    "            [\n",
    "                int(values[0]) if is_valid(values[0]) else the_most_common_month_04, # month\n",
    "                int(values[1]) if is_valid(values[1]) else the_most_common_day_of_month_04, # day of month\n",
    "                int(values[2]) if is_valid(values[2]) else the_most_common_day_of_week_04, # day of week\n",
    "                int(values[3]) if is_valid(values[3]) else the_most_common_s_departure_hour_04 , # scheduled departure hour\n",
    "                int(values[4]) if is_valid(values[4]) else the_most_common_s_arrival_hour_04, # scheduled arrival hour\n",
    "                # if the value is valid, map it to the corresponding index\n",
    "                # otherwise, use the most common value\n",
    "                map_carriers_to_index_04[values[10]] if is_valid(values[10]) \\\n",
    "                    else map_carriers_to_index_04[carriers_04[0]], # carrier\n",
    "                map_src_airport_to_index_04[values[8]] if is_valid(values[8]) \\\n",
    "                    else map_src_airport_to_index_04[src_airports_04[0]], # src_airport\n",
    "                map_dest_airport_to_index_04[values[9]] if is_valid(values[9]) \\\n",
    "                    else map_dest_airport_to_index_04[dest_airports_04[0]], # destination_airport\n",
    "                int(values[7]) if is_valid(values[7]) else mean_distance, # distance\n",
    "                1 if is_valid(values[2]) and int(values[2]) >= 6 else 0, # is_weekend\n",
    "                map_label_to_index[values[11]], #label_src\n",
    "                map_label_to_index[values[12]], #label_dest\n",
    "\n",
    "            ]\n",
    "        )\n",
    "    )\n",
    "\n",
    "# Split the data into training and test sets (30% held out for testing)\n",
    "(trainingData_late_aircraft, testData_late_aircraft) = data.randomSplit((0.7,0.3),seed=0)\n",
    "\n",
    "# Train a DecisionTree model.\n",
    "model_late_aircraft = RandomForest.trainRegressor(trainingData_late_aircraft, categoricalFeaturesInfo=categorical_info,\n",
    "                                    numTrees=10, impurity='variance', maxDepth=12, maxBins=300)\n",
    "\n",
    "print(\"Late aircraft ready\")"
   ]
  },
  {
   "cell_type": "code",
   "execution_count": 62,
   "metadata": {
    "collapsed": true
   },
   "outputs": [],
   "source": [
    "(trainingData, testData) = data.randomSplit((0.7,0.3),seed=0)"
   ]
  },
  {
   "cell_type": "code",
   "execution_count": 63,
   "metadata": {
    "collapsed": false
   },
   "outputs": [
    {
     "name": "stdout",
     "output_type": "stream",
     "text": [
      "40.39540839389009\n",
      "(8.0, 40.39540839389009)\n",
      "Test Mean Squared Error = 5788.909455673849\n"
     ]
    }
   ],
   "source": [
    "# Evaluate model on test instances and compute test error\n",
    "predictions_carrier = model_carrier.predict(testData_carrier.map(lambda x: x.features))\n",
    "predictions_weather = model_weather.predict(testData_weather.map(lambda x: x.features))\n",
    "predictions_nas = model_nas.predict(testData_nas.map(lambda x: x.features))\n",
    "predictions_security = model_security.predict(testData_security.map(lambda x: x.features))\n",
    "predictions_late_aircraft = model_late_aircraft.predict(testData_late_aircraft.map(lambda x: x.features))\n",
    "\n",
    "predictions = predictions_carrier.zip(predictions_weather).map(lambda x: x[0]+x[1]).zip(predictions_nas).map(lambda x: x[0]+x[1]).zip(predictions_security).map(lambda x: x[0]+x[1]).zip(predictions_late_aircraft).map(lambda x: x[0]+x[1])\n",
    "\n",
    "print(predictions.first())\n",
    "\n",
    "labelsAndPredictions = testData.map(lambda lp: lp.label).zip(predictions)\n",
    "print(labelsAndPredictions.first())\n",
    "testMSE = labelsAndPredictions.map(\n",
    "    lambda p: (p[0]-p[1])**2).mean()\n",
    "print('Test Mean Squared Error = ' + str(testMSE))"
   ]
  },
  {
   "cell_type": "code",
   "execution_count": 64,
   "metadata": {
    "collapsed": false
   },
   "outputs": [
    {
     "name": "stdout",
     "output_type": "stream",
     "text": [
      "Test Mean Squared Error ON CARRIER = 1081.3042529088343\n",
      "Test Mean Squared Error ON WEATHER = 1092.95267203052\n",
      "Test Mean Squared Error ON NAS = 1097.6571362046282\n",
      "Test Mean Squared Error ON SECURITY = 1091.3285849315062\n",
      "Test Mean Squared Error ON LATE AIRCRAFT = 1088.0459394743846\n"
     ]
    }
   ],
   "source": [
    "labelsAndPredictions = testData_carrier.map(lambda lp: lp.label).zip(predictions_carrier)\n",
    "testMSE = labelsAndPredictions.map(\n",
    "    lambda p: (p[0]-p[1])**2).mean()\n",
    "print('Test Mean Squared Error ON CARRIER = ' + str(testMSE))\n",
    "\n",
    "labelsAndPredictions = testData_weather.map(lambda lp: lp.label).zip(predictions_weather)\n",
    "testMSE = labelsAndPredictions.map(\n",
    "    lambda p: (p[0]-p[1])**2).mean()\n",
    "print('Test Mean Squared Error ON WEATHER = ' + str(testMSE))\n",
    "\n",
    "labelsAndPredictions = testData_nas.map(lambda lp: lp.label).zip(predictions_nas)\n",
    "testMSE = labelsAndPredictions.map(\n",
    "    lambda p: (p[0]-p[1])**2).mean()\n",
    "print('Test Mean Squared Error ON NAS = ' + str(testMSE))\n",
    "\n",
    "labelsAndPredictions = testData_security.map(lambda lp: lp.label).zip(predictions_security)\n",
    "testMSE = labelsAndPredictions.map(\n",
    "    lambda p: (p[0]-p[1])**2).mean()\n",
    "print('Test Mean Squared Error ON SECURITY = ' + str(testMSE))\n",
    "\n",
    "labelsAndPredictions = testData_late_aircraft.map(lambda lp: lp.label).zip(predictions_late_aircraft)\n",
    "testMSE = labelsAndPredictions.map(\n",
    "    lambda p: (p[0]-p[1])**2).mean()\n",
    "print('Test Mean Squared Error ON LATE AIRCRAFT = ' + str(testMSE))"
   ]
  },
  {
   "cell_type": "markdown",
   "metadata": {},
   "source": [
    "We notice that the MES we get is very big compared to the ones we got before. We tried to investigated if one of the detailled delays was causing that but it appears that they all contribute the same way, which is wierd because the delay caused by weather should be well predicted with the weather information.\n",
    "The only explanation we have is that our prediction method is not good at prediction precise information that depends on precise factors, maybe because our features are not directly linked to these types of delays."
   ]
  },
  {
   "cell_type": "markdown",
   "metadata": {},
   "source": [
    "# 7. Influence of aircraft models on delay predictions"
   ]
  },
  {
   "cell_type": "markdown",
   "metadata": {},
   "source": [
    "In this section we are going to investigate on the impact of certain types of airplanes on delay predictions. Our intuition is that old airplanes may require different maintenance compared to new airplanes. Moreover, certain models may be troublesome and certain manufacturers may produce less reliable models than others.\n",
    "\n",
    "In order for this to work, we need to use a different year of the airplane dataset from the one we have used so far because the 1994 data does not include any tailnumber information that is needed to match flights to airplane models. Therefore, we will use the 2000 dataset in this section and preprocess it in the same way as we did for 1994."
   ]
  },
  {
   "cell_type": "code",
   "execution_count": null,
   "metadata": {
    "collapsed": false,
    "scrolled": true
   },
   "outputs": [],
   "source": [
    "! hdfs dfs -ls /user/user4"
   ]
  },
  {
   "cell_type": "code",
   "execution_count": 2,
   "metadata": {
    "collapsed": true
   },
   "outputs": [],
   "source": [
    "# to start testing, we can focus on a single year\n",
    "# we need to load a different year from 1994 since 1994 does not have any aircraft information\n",
    "year_2000 = \"/datasets/airline/2000.csv\"\n",
    "raw_data_2000 = sc.textFile(year_2000)\n",
    "\n",
    "plane_data_csv = \"/user/user4/plane-data.csv\"\n",
    "plane_raw_data = sc.textFile(plane_data_csv)"
   ]
  },
  {
   "cell_type": "code",
   "execution_count": 7,
   "metadata": {
    "collapsed": false
   },
   "outputs": [
    {
     "name": "stdout",
     "output_type": "stream",
     "text": [
      "number of rows after cleaning: 5683047\n"
     ]
    }
   ],
   "source": [
    "# extract the header\n",
    "header = raw_data_2000.first()\n",
    "\n",
    "# replace invalid data with NULL and remove header\n",
    "cleaned_data_2000 = (raw_data_2000\\\n",
    "        # filter out the header\n",
    "        .filter(lambda x: x != header)\n",
    "        # replace the missing values with empty characters\n",
    "        .map(lambda x : re.sub(',NA$', ',', x.replace(\",NA,\",\",,\").replace(\",NA,\",\",,\")))\n",
    "        )\n",
    "        \n",
    "print(\"number of rows after cleaning:\", cleaned_data_2000.count())"
   ]
  },
  {
   "cell_type": "code",
   "execution_count": 8,
   "metadata": {
    "collapsed": true
   },
   "outputs": [],
   "source": [
    "# convert each line into a tuple of features (columns)\n",
    "cleaned_data_to_columns = cleaned_data_2000.map(lambda l: l.split(\",\"))\\\n",
    "    .map(lambda cols: \n",
    "         (\n",
    "            int(cols[0])  if cols[0] else None,\n",
    "            int(cols[1])  if cols[1] else None,\n",
    "            int(cols[2])  if cols[2] else None,\n",
    "            int(cols[3])  if cols[3] else None,\n",
    "            int(cols[4])  if cols[4] else None,\n",
    "            int(cols[5])  if cols[5] else None,\n",
    "            int(cols[6])  if cols[6] else None,\n",
    "            int(cols[7])  if cols[7] else None,\n",
    "            cols[8]       if cols[8] else None,\n",
    "            cols[9]       if cols[9] else None,\n",
    "            cols[10]      if cols[10] else None,\n",
    "            int(cols[11]) if cols[11] else None,\n",
    "            int(cols[12]) if cols[12] else None,\n",
    "            int(cols[13]) if cols[13] else None,\n",
    "            int(cols[14]) if cols[14] else None,\n",
    "            int(cols[15]) if cols[15] else None,\n",
    "            cols[16]      if cols[16] else None,\n",
    "            cols[17]      if cols[17] else None,\n",
    "            int(cols[18]) if cols[18] else None,\n",
    "            int(cols[19]) if cols[19] else None,\n",
    "            int(cols[20]) if cols[20] else None,\n",
    "            cols[21]      if cols[21] else None,\n",
    "            cols[22]      if cols[22] else None,\n",
    "            cols[23]      if cols[23] else None,\n",
    "            int(cols[24]) if cols[24] else None,\n",
    "            int(cols[25]) if cols[25] else None,\n",
    "            int(cols[26]) if cols[26] else None,\n",
    "            int(cols[27]) if cols[27] else None,\n",
    "            int(cols[28]) if cols[28] else None\n",
    "         ))"
   ]
  },
  {
   "cell_type": "code",
   "execution_count": 9,
   "metadata": {
    "collapsed": false
   },
   "outputs": [],
   "source": [
    "# create dataframe df\n",
    "\n",
    "df_2000 = (sqlContext.createDataFrame(cleaned_data_to_columns, airline_data_schema)\\\n",
    "    .select(['year', 'month', 'day_of_month', 'day_of_week',\n",
    "            'scheduled_departure_time','scheduled_arrival_time',\n",
    "            'arrival_delay', 'distance', \n",
    "            'src_airport', 'dest_airport', 'carrier', 'tail_number'])\\\n",
    "    .cache()\n",
    "    )"
   ]
  },
  {
   "cell_type": "code",
   "execution_count": null,
   "metadata": {
    "collapsed": false
   },
   "outputs": [],
   "source": [
    "df_2000.where(col(\"tail_number\").isNotNull()).count()"
   ]
  },
  {
   "cell_type": "code",
   "execution_count": null,
   "metadata": {
    "collapsed": false
   },
   "outputs": [],
   "source": [
    "df_2000.where(col(\"tail_number\").isNull()).count()"
   ]
  },
  {
   "cell_type": "code",
   "execution_count": 10,
   "metadata": {
    "collapsed": false
   },
   "outputs": [],
   "source": [
    "# create new column that marks whether the flights are delay\n",
    "df_2000 = df_2000.withColumn('is_delay', when(df_2000.arrival_delay >= 15, 1).otherwise(0))"
   ]
  },
  {
   "cell_type": "code",
   "execution_count": 11,
   "metadata": {
    "collapsed": false
   },
   "outputs": [],
   "source": [
    "# cleaning the aircraft dataset\n",
    "header = plane_raw_data.first()\n",
    "num_features = len(header.split(\",\"))\n",
    "\n",
    "def fill_gaps(row):\n",
    "    split = row.split(\",\")\n",
    "    missing_vals = num_features - len(split)\n",
    "    for i in range(missing_vals):\n",
    "        split.append(\"\")\n",
    "    return \",\".join(split)\n",
    "    \n",
    "\n",
    "# replace invalid data with NULL and remove header\n",
    "cleaned_data_airplanes = (plane_raw_data\\\n",
    "        # filter out the header\n",
    "        .filter(lambda x: x != header)\n",
    "        # replace the missing values with empty characters\n",
    "        .map(lambda x : fill_gaps(x))\n",
    "        )\n"
   ]
  },
  {
   "cell_type": "code",
   "execution_count": null,
   "metadata": {
    "collapsed": false
   },
   "outputs": [],
   "source": [
    "print(cleaned_data_airplanes.first())"
   ]
  },
  {
   "cell_type": "code",
   "execution_count": 12,
   "metadata": {
    "collapsed": true
   },
   "outputs": [],
   "source": [
    "\n",
    "airplanes_data_schema = StructType([ \\\n",
    "    #StructField( name, dataType, nullable)\n",
    "    StructField(\"tailnum\", StringType(), True), \\\n",
    "    StructField(\"type\", StringType(), True), \\\n",
    "    StructField(\"manufacturer\", StringType(), True), \\\n",
    "    StructField(\"issue_date\", StringType(), True), \\\n",
    "    StructField(\"model\", StringType(), True), \\\n",
    "    StructField(\"status\", StringType(), True), \\\n",
    "    StructField(\"aircraft_type\", StringType(), True), \\\n",
    "    StructField(\"engine_type\", StringType(), True), \\\n",
    "    StructField(\"constr_year\", IntegerType(),  True) \\\n",
    "])"
   ]
  },
  {
   "cell_type": "code",
   "execution_count": 13,
   "metadata": {
    "collapsed": false
   },
   "outputs": [],
   "source": [
    "manuf_mapping = {\n",
    "    'ASP': 'AEROSPATIALE',\n",
    "    'PME': 'PAIR MIKE E',\n",
    "    'AGS': 'AGUSTA SPA',\n",
    "    'ACM': 'AERO COMMANDER',\n",
    "    'AAI': 'AVIAT AIRCRAFT INC',\n",
    "    'BR': 'BAUMAN RANDY',\n",
    "    'MGJ': 'MORSE GEORGE JR',\n",
    "    'WWR': 'WOBIG WAYNE R',\n",
    "    'DV': 'DEHAVILLAND',\n",
    "    'HL': 'HELIO',\n",
    "    'BL': 'BELL',\n",
    "    'FCK': 'FREDERICK CHRIS K',\n",
    "    'LGT': 'LEBLANC GLENN T',\n",
    "    'SR': 'STINNETT RON',\n",
    "    'MB': 'MARZ BARRY',\n",
    "    'FJ': 'FRIEDEMANN JON',\n",
    "    'DAI': 'DIAMOND AIRCRAFT IND INC',\n",
    "    'BC': 'BEECH',\n",
    "    'RV': 'RAVEN',\n",
    "    'PP': 'PIPER',\n",
    "    'CS': 'CESSNA',\n",
    "    'MDC': 'MCDONNELL DOUGLAS CORPORATION',\n",
    "    'DG': 'DOUGLAS',\n",
    "    'MDA': 'MCDONNELL DOUGLAS AIRCRAFT CO',\n",
    "    'AI': 'AIRBUS INDUSTRIE',\n",
    "    'MD': 'MCDONNELL DOUGLAS',\n",
    "    'BG': 'BOEING',\n",
    "    'EM': 'EMBRAER',\n",
    "    'AB': 'AIRBUS',\n",
    "    'BB': 'BOMBARDIER INC',\n",
    "    'CA': 'CANADAIR',\n",
    "    'AA': 'AEROSPATIALE/ALENIA',\n",
    "    'SS': 'SAAB-SCANIA',\n",
    "    'SK': 'SIKORSKY',\n",
    "    'GA': 'GULFSTREAM AEROSPACE',\n",
    "    'BGA': 'BOEING OF CANADA LTD',\n",
    "    'CIRI': 'COBB INTL/DBA ROTORWAY INTL IN',\n",
    "    'AR': 'AERONCA',\n",
    "    'ME': 'MAULE'\n",
    "}\n",
    "\n",
    "inv_manuf_mapping = {v: k for k, v in manuf_mapping.items()}\n",
    "\n",
    "# clean manufacturer format\n",
    "def convert_manuf(man):\n",
    "    if man == '':\n",
    "        return 'Unknown'     \n",
    "    else:\n",
    "        return inv_manuf_mapping[man]\n",
    "    \n",
    "# clean year format\n",
    "def convert_year(year):\n",
    "    if not year or year == 'None' or int(year) == 0:\n",
    "        return None\n",
    "    else:\n",
    "        return int(year)"
   ]
  },
  {
   "cell_type": "code",
   "execution_count": 14,
   "metadata": {
    "collapsed": false
   },
   "outputs": [],
   "source": [
    "cleaned_data_to_columns = cleaned_data_airplanes.map(lambda l: l.split(\",\"))\\\n",
    "    .map(lambda cols: \n",
    "         (\n",
    "            cols[0]  if cols[0] else None,\n",
    "            cols[1]  if cols[1] else None,\n",
    "            convert_manuf(cols[2]),\n",
    "            cols[3]  if cols[3] else None,\n",
    "            cols[4]  if cols[4] else None,\n",
    "            cols[5]  if cols[5] else None,\n",
    "            cols[6]  if cols[6] else None,\n",
    "            cols[7]  if cols[7] else None,\n",
    "            convert_year(cols[8])\n",
    "         ))"
   ]
  },
  {
   "cell_type": "code",
   "execution_count": null,
   "metadata": {
    "collapsed": false
   },
   "outputs": [],
   "source": [
    "cleaned_data_to_columns.take(5)"
   ]
  },
  {
   "cell_type": "code",
   "execution_count": 15,
   "metadata": {
    "collapsed": false
   },
   "outputs": [],
   "source": [
    "# create dataframe df\n",
    "df_airplanes = (sqlContext.createDataFrame(cleaned_data_to_columns, airplanes_data_schema)\\\n",
    "    .select(['tailnum', 'type', 'manufacturer', 'issue_date',\n",
    "            'model','status',\n",
    "            'aircraft_type', 'engine_type', \n",
    "            'constr_year'])\\\n",
    "    .cache()\n",
    "    )"
   ]
  },
  {
   "cell_type": "code",
   "execution_count": null,
   "metadata": {
    "collapsed": false
   },
   "outputs": [],
   "source": [
    "df_airplanes.first()"
   ]
  },
  {
   "cell_type": "code",
   "execution_count": 17,
   "metadata": {
    "collapsed": false
   },
   "outputs": [
    {
     "data": {
      "text/plain": [
       "2407586"
      ]
     },
     "execution_count": 17,
     "metadata": {},
     "output_type": "execute_result"
    }
   ],
   "source": [
    "df_2000_with_aircraft = df_2000.join(df_airplanes, df_2000.tail_number == df_airplanes.tailnum)\n",
    "df_2000_with_aircraft.count()"
   ]
  },
  {
   "cell_type": "markdown",
   "metadata": {},
   "source": [
    "<h3>Comment</h3>\n",
    "We only find matching airplanes for 2407686 out of 5683047 samples. Therefore, the size of our dataset is reduced to about a half when analyzing the impact of aircrafts on delays."
   ]
  },
  {
   "cell_type": "code",
   "execution_count": 18,
   "metadata": {
    "collapsed": false
   },
   "outputs": [
    {
     "data": {
      "text/plain": [
       "194667"
      ]
     },
     "execution_count": 18,
     "metadata": {},
     "output_type": "execute_result"
    }
   ],
   "source": [
    "df_2000_with_aircraft.where(col(\"model\").isNull()).count()"
   ]
  },
  {
   "cell_type": "code",
   "execution_count": 19,
   "metadata": {
    "collapsed": false
   },
   "outputs": [
    {
     "data": {
      "image/png": "[encoded data removed]",
      "text/plain": [
       "<matplotlib.figure.Figure at 0x7f1e0301e358>"
      ]
     },
     "metadata": {},
     "output_type": "display_data"
    }
   ],
   "source": [
    "construction_year_stats = df_2000_with_aircraft.groupBy('constr_year').count().orderBy('constr_year', ascending=1).collect()\n",
    "\n",
    "pdf_year_construction = pd.DataFrame(construction_year_stats)\n",
    "plt.xlabel(\"Year of construction of resp. airplane\")\n",
    "plt.ylabel(\"Number of flights\")\n",
    "plt.title('Figure: Flights by airplane construction year')\n",
    "plt.grid(True,which=\"both\",ls=\"-\")\n",
    "\n",
    "# plot bar chart\n",
    "plt.bar(pdf_year_construction[0], pdf_year_construction[1], align=\"center\")\n",
    "plt.show()"
   ]
  },
  {
   "cell_type": "code",
   "execution_count": 20,
   "metadata": {
    "collapsed": false
   },
   "outputs": [
    {
     "name": "stdout",
     "output_type": "stream",
     "text": [
      "[(None, 205731), (1956, 206), (1959, 2465), (1962, 1341), (1963, 1567), (1964, 1276), (1965, 1427), (1967, 25506), (1968, 40900), (1969, 19767), (1970, 3606), (1971, 1455), (1972, 247), (1973, 4263), (1974, 1551), (1975, 12902), (1976, 14288), (1977, 7444), (1978, 11579), (1979, 18145), (1980, 12100), (1982, 2605), (1983, 14114), (1984, 31548), (1985, 74396), (1986, 90595), (1987, 167939), (1988, 179382), (1989, 167356), (1990, 191164), (1991, 188186), (1992, 180379), (1993, 71331), (1994, 70282), (1995, 55594), (1996, 45127), (1997, 69255), (1998, 176166), (1999, 173777), (2000, 68260), (2001, 325), (2007, 2039)]\n"
     ]
    }
   ],
   "source": [
    "print([(x[0], x[1]) for x in construction_year_stats])"
   ]
  },
  {
   "cell_type": "markdown",
   "metadata": {},
   "source": [
    "<h3>Comment</h3>\n",
    "We see that by far most of the aircrafts used in 2000 were constructed between 1982 and 2000. We also have some outliers in the data (year of construction 2001 and 2007 respectively)."
   ]
  },
  {
   "cell_type": "code",
   "execution_count": 21,
   "metadata": {
    "collapsed": true
   },
   "outputs": [],
   "source": [
    "statistic_year_delay = (\n",
    "    df_2000_with_aircraft\n",
    "        .groupBy('constr_year')\n",
    "        .agg(\n",
    "            (func.mean('arrival_delay')).alias('mean_delay')\n",
    "        )\n",
    "        # order by constr_year\n",
    "        .orderBy('constr_year')\n",
    "    ).collect()"
   ]
  },
  {
   "cell_type": "code",
   "execution_count": 22,
   "metadata": {
    "collapsed": false
   },
   "outputs": [
    {
     "data": {
      "image/png": "[encoded data removed]",
      "text/plain": [
       "<matplotlib.figure.Figure at 0x7f1e00c29cf8>"
      ]
     },
     "metadata": {},
     "output_type": "display_data"
    }
   ],
   "source": [
    "pdf_year_delay = pd.DataFrame(statistic_year_delay)\n",
    "plt.xlabel(\"Year of construction of resp. airplane\")\n",
    "plt.ylabel(\"Mean arrival delay\")\n",
    "plt.title('Figure: Mean arrival delay vs. year of construction')\n",
    "plt.grid(True,which=\"both\",ls=\"-\")\n",
    "\n",
    "# plot bar chart\n",
    "plt.bar(pdf_year_delay[0], pdf_year_delay[1], align=\"center\")\n",
    "plt.show()"
   ]
  },
  {
   "cell_type": "code",
   "execution_count": 23,
   "metadata": {
    "collapsed": false
   },
   "outputs": [
    {
     "name": "stdout",
     "output_type": "stream",
     "text": [
      "8.5171403781\n",
      "[Row(constr_year=None, mean_delay=9.983307983117244), Row(constr_year=1956, mean_delay=17.08252427184466), Row(constr_year=1959, mean_delay=8.69215128100854), Row(constr_year=1962, mean_delay=8.13089005235602), Row(constr_year=1963, mean_delay=8.186255619781631), Row(constr_year=1964, mean_delay=10.2748031496063), Row(constr_year=1965, mean_delay=4.174157303370786), Row(constr_year=1967, mean_delay=4.300121408336706), Row(constr_year=1968, mean_delay=5.2020048986187915), Row(constr_year=1969, mean_delay=4.575416361160574), Row(constr_year=1970, mean_delay=4.872529361214552), Row(constr_year=1971, mean_delay=2.713471133285816), Row(constr_year=1972, mean_delay=7.634146341463414), Row(constr_year=1973, mean_delay=5.018295618680789), Row(constr_year=1974, mean_delay=10.564766839378239), Row(constr_year=1975, mean_delay=6.455961844197138), Row(constr_year=1976, mean_delay=7.083333333333333), Row(constr_year=1977, mean_delay=6.582350492576661), Row(constr_year=1978, mean_delay=6.655973059198866), Row(constr_year=1979, mean_delay=6.867545904155534), Row(constr_year=1980, mean_delay=6.353519932145886), Row(constr_year=1982, mean_delay=9.906707787201233), Row(constr_year=1983, mean_delay=8.300917039880572), Row(constr_year=1984, mean_delay=11.159513590844062), Row(constr_year=1985, mean_delay=9.24018362160833), Row(constr_year=1986, mean_delay=9.78140289984885), Row(constr_year=1987, mean_delay=10.076128024413283), Row(constr_year=1988, mean_delay=10.34404023451232), Row(constr_year=1989, mean_delay=12.77544618383383), Row(constr_year=1990, mean_delay=12.80169046210583), Row(constr_year=1991, mean_delay=10.949238688584929), Row(constr_year=1992, mean_delay=11.75360700305707), Row(constr_year=1993, mean_delay=10.65957629176726), Row(constr_year=1994, mean_delay=10.904339997427726), Row(constr_year=1995, mean_delay=10.124608078622638), Row(constr_year=1996, mean_delay=12.31435995932663), Row(constr_year=1997, mean_delay=9.660035456870496), Row(constr_year=1998, mean_delay=9.00217387563596), Row(constr_year=1999, mean_delay=8.292848988910633), Row(constr_year=2000, mean_delay=8.94854556048586), Row(constr_year=2001, mean_delay=3.147692307692308), Row(constr_year=2007, mean_delay=6.173313638601674)]\n"
     ]
    }
   ],
   "source": [
    "mean_delays = np.mean([row[1] for row in statistic_year_delay])\n",
    "print(mean_delays)\n",
    "\n",
    "print(statistic_year_delay)"
   ]
  },
  {
   "cell_type": "code",
   "execution_count": 24,
   "metadata": {
    "collapsed": false,
    "scrolled": true
   },
   "outputs": [
    {
     "data": {
      "image/png": "[encoded data removed]",
      "text/plain": [
       "<matplotlib.figure.Figure at 0x7f1e00647d68>"
      ]
     },
     "metadata": {},
     "output_type": "display_data"
    }
   ],
   "source": [
    "statistic_year_delay_ratio = (\n",
    "    df_2000_with_aircraft\n",
    "        .groupBy('constr_year')\n",
    "        .agg(\n",
    "            (func.sum('is_delay')/func.count('*')).alias('delay_ratio')\n",
    "        )\n",
    "        # order by constr_year\n",
    "        .orderBy('constr_year')\n",
    "    ).collect()\n",
    "\n",
    "pdf_year_delay = pd.DataFrame(statistic_year_delay_ratio)\n",
    "plt.xlabel(\"Year of construction of resp. airplane\")\n",
    "plt.ylabel(\"Delay Ratio\")\n",
    "plt.title('Figure: Delay ratio vs. year of construction')\n",
    "plt.grid(True,which=\"both\",ls=\"-\")\n",
    "\n",
    "# plot bar chart\n",
    "plt.bar(pdf_year_delay[0], pdf_year_delay[1], align=\"center\")\n",
    "plt.show()"
   ]
  },
  {
   "cell_type": "code",
   "execution_count": 25,
   "metadata": {
    "collapsed": false
   },
   "outputs": [
    {
     "name": "stdout",
     "output_type": "stream",
     "text": [
      "[Row(constr_year=None, delay_ratio=0.24465928809950857), Row(constr_year=1956, delay_ratio=0.2961165048543689), Row(constr_year=1959, delay_ratio=0.22880324543610547), Row(constr_year=1962, delay_ratio=0.22893363161819538), Row(constr_year=1963, delay_ratio=0.23037651563497127), Row(constr_year=1964, delay_ratio=0.22727272727272727), Row(constr_year=1965, delay_ratio=0.16608269096005607), Row(constr_year=1967, delay_ratio=0.16745079589116285), Row(constr_year=1968, delay_ratio=0.1804156479217604), Row(constr_year=1969, delay_ratio=0.1696767339505236), Row(constr_year=1970, delay_ratio=0.1719356627842485), Row(constr_year=1971, delay_ratio=0.1676975945017182), Row(constr_year=1972, delay_ratio=0.24696356275303644), Row(constr_year=1973, delay_ratio=0.18836500117288293), Row(constr_year=1974, delay_ratio=0.22823984526112184), Row(constr_year=1975, delay_ratio=0.19260579755076732), Row(constr_year=1976, delay_ratio=0.19953807390817468), Row(constr_year=1977, delay_ratio=0.195996775926921), Row(constr_year=1978, delay_ratio=0.19164003799982726), Row(constr_year=1979, delay_ratio=0.19856709837420777), Row(constr_year=1980, delay_ratio=0.19008264462809918), Row(constr_year=1982, delay_ratio=0.2345489443378119), Row(constr_year=1983, delay_ratio=0.2121298001983846), Row(constr_year=1984, delay_ratio=0.2565931279320401), Row(constr_year=1985, delay_ratio=0.23697510618850476), Row(constr_year=1986, delay_ratio=0.2450245598542966), Row(constr_year=1987, delay_ratio=0.24121258314030689), Row(constr_year=1988, delay_ratio=0.24310688920850476), Row(constr_year=1989, delay_ratio=0.2751738808288917), Row(constr_year=1990, delay_ratio=0.27480592580192925), Row(constr_year=1991, delay_ratio=0.24994420413845875), Row(constr_year=1992, delay_ratio=0.2639054435383276), Row(constr_year=1993, delay_ratio=0.2512091517012239), Row(constr_year=1994, delay_ratio=0.25865797786061867), Row(constr_year=1995, delay_ratio=0.24043961578587617), Row(constr_year=1996, delay_ratio=0.27360560196777983), Row(constr_year=1997, delay_ratio=0.24844415565663128), Row(constr_year=1998, delay_ratio=0.24139731843829115), Row(constr_year=1999, delay_ratio=0.23682650753551965), Row(constr_year=2000, delay_ratio=0.24121007910928802), Row(constr_year=2001, delay_ratio=0.2), Row(constr_year=2007, delay_ratio=0.2108876900441393)]\n"
     ]
    }
   ],
   "source": [
    "print(statistic_year_delay_ratio)"
   ]
  },
  {
   "cell_type": "markdown",
   "metadata": {},
   "source": [
    "<h3>Comment</h3>\n",
    "The delay ratio as well as the mean arrival delay statistics have a similar shape w.r.t. the aircraft construction year. It seems that aircrafts constructed between 1965 and 1980 were less prone to delays in 2000 than aircrafts constructed before or after (exception 1972, 1974). However, we have much less data in that range than for newer aircrafts.<br />\n",
    "In the next step we should investigate on the impact of certain models to delays."
   ]
  },
  {
   "cell_type": "code",
   "execution_count": 26,
   "metadata": {
    "collapsed": false
   },
   "outputs": [],
   "source": [
    "statistic_volume_manuf = df_2000_with_aircraft.groupBy('manufacturer').count() \\\n",
    "                        .orderBy('manufacturer').collect()\n",
    "\n",
    "statistic_ratio_delay_manuf = df_2000_with_aircraft.groupBy('manufacturer') \\\n",
    "                        .agg(\n",
    "                            (func.sum('is_delay')/func.count('*')).alias('delay_ratio')\n",
    "                        ) \\\n",
    "                        .orderBy('manufacturer').collect()"
   ]
  },
  {
   "cell_type": "code",
   "execution_count": 27,
   "metadata": {
    "collapsed": false
   },
   "outputs": [
    {
     "name": "stdout",
     "output_type": "stream",
     "text": [
      "0.228781080307\n"
     ]
    }
   ],
   "source": [
    "avg_delay = np.mean([x[1] for x in statistic_ratio_delay_manuf])\n",
    "print(avg_delay)"
   ]
  },
  {
   "cell_type": "code",
   "execution_count": 28,
   "metadata": {
    "collapsed": false
   },
   "outputs": [
    {
     "name": "stdout",
     "output_type": "stream",
     "text": [
      "[Row(manufacturer='BG', count=1198090), Row(manufacturer='MD', count=361883), Row(manufacturer='AI', count=309941), Row(manufacturer='MDA', count=211914), Row(manufacturer='Unknown', count=194667), Row(manufacturer='DG', count=61178), Row(manufacturer='MDC', count=29519), Row(manufacturer='CS', count=11098), Row(manufacturer='PP', count=4308), Row(manufacturer='RV', count=3894), Row(manufacturer='BC', count=3521), Row(manufacturer='DAI', count=1630), Row(manufacturer='FJ', count=1418), Row(manufacturer='MB', count=1411), Row(manufacturer='SR', count=1377), Row(manufacturer='LGT', count=1373), Row(manufacturer='FCK', count=1319), Row(manufacturer='BL', count=1304), Row(manufacturer='HL', count=1276), Row(manufacturer='DV', count=1274), Row(manufacturer='WWR', count=1207), Row(manufacturer='MGJ', count=1043), Row(manufacturer='BR', count=1035), Row(manufacturer='AAI', count=621), Row(manufacturer='ACM', count=496), Row(manufacturer='AGS', count=325), Row(manufacturer='PME', count=239), Row(manufacturer='ASP', count=225)]\n"
     ]
    }
   ],
   "source": [
    "so = sorted(statistic_volume_manuf, key=lambda x: x[1], reverse=True)\n",
    "print(so)"
   ]
  },
  {
   "cell_type": "code",
   "execution_count": 29,
   "metadata": {
    "collapsed": false
   },
   "outputs": [
    {
     "data": {
      "image/png": "[encoded data removed]",
      "text/plain": [
       "<matplotlib.figure.Figure at 0x7f1e1e26fc18>"
      ]
     },
     "metadata": {},
     "output_type": "display_data"
    }
   ],
   "source": [
    "# collect data and plot\n",
    "pdf_volume_manuf = pd.DataFrame(statistic_volume_manuf)\n",
    "pdf_ratio_delay_manuf = pd.DataFrame(statistic_ratio_delay_manuf)\n",
    "#print(pdf_top_20_airport_volume)\n",
    "index = np.arange(len(pdf_volume_manuf))\n",
    "bar_width = 0.35\n",
    "opacity = 0.4\n",
    "\n",
    "\n",
    "fig = plt.figure(figsize=(20,10))                                                             \n",
    "ax = fig.add_subplot(1,1,1)\n",
    "\n",
    "ax2 = ax.twinx()\n",
    "plt.axis('normal')\n",
    "ax.set_xlabel(\"Manufacturer\")\n",
    "ax.set_ylabel(\"Flight volume\")\n",
    "ax2.set_ylabel(\"Ratio of delay\")\n",
    "plt.xticks(index + bar_width, pdf_volume_manuf[0])\n",
    "plt.title('Figure: The ratio of delay vs. Manufacturer')\n",
    "plt.grid(True,which=\"both\",ls=\"-\")\n",
    "bar = ax.bar(index, pdf_volume_manuf[1], \n",
    "        bar_width, color='b', \n",
    "        label='flight volume')\n",
    "bar2 = ax2.bar(index + 1.5*bar_width, pdf_ratio_delay_manuf[1], bar_width, \n",
    "       align='center', color='r', \n",
    "       label='Delay ratio')\n",
    "\n",
    "lines, labels = ax.get_legend_handles_labels()\n",
    "lines2, labels2 = ax2.get_legend_handles_labels()\n",
    "ax2.legend(lines + lines2, labels + labels2, loc=0)\n",
    "\n",
    "# draw threshold line\n",
    "threshold = avg_delay\n",
    "ax2.plot([0., len(pdf_volume_manuf)], [threshold, threshold], \"k--\")\n",
    "\n",
    "plt.tight_layout()\n",
    "plt.show()"
   ]
  },
  {
   "cell_type": "markdown",
   "metadata": {
    "collapsed": true
   },
   "source": [
    "<h3>Comment</h3>\n",
    "In general, we see that the delays as well as the flight volume among manufacturers varies strongly. Boeing (\"BG\") aircrafts have by far been used the most. Their delay ratio is about 3% above average (dashed line). \"MD\", \"MDA\", \"MDC\" and \"DG\" all refer to McDonnell Douglas Corporation. There were fused with Boeing in 1997. There was even another fusion in 1967. Therefore, we have different aircraft brands that today all belong to Boeing. However, it is interesting to see that taken together, the McDonnell Douglas planes have an even bigger market share than Boeing. Moreover, they seem to be much less hit by delays than Boeing flights. Airbus airplanes (\"AI\") are the third most used ones in our dataset and seem to produce slightly less delays than Boeing aircrafts."
   ]
  },
  {
   "cell_type": "markdown",
   "metadata": {},
   "source": [
    "In the next section, we will investigate wether there are certain aircraft models that are particularly prone to delays."
   ]
  },
  {
   "cell_type": "code",
   "execution_count": 30,
   "metadata": {
    "collapsed": false
   },
   "outputs": [],
   "source": [
    "statistic_ratio_delay_model = df_2000_with_aircraft \\\n",
    "                        .groupBy(['manufacturer', 'model']) \\\n",
    "                        .agg(\n",
    "                            (func.sum('is_delay')/func.count('*')).alias('delay_ratio')\n",
    "                        ) \\\n",
    "                        .orderBy('delay_ratio', ascending=0).take(20)"
   ]
  },
  {
   "cell_type": "code",
   "execution_count": 31,
   "metadata": {
    "collapsed": true
   },
   "outputs": [],
   "source": [
    "statistic_volume_model = df_2000_with_aircraft \\\n",
    "                        .groupBy(['manufacturer', 'model']) \\\n",
    "                        .count() \\\n",
    "                        .orderBy('count', ascending=0).collect()"
   ]
  },
  {
   "cell_type": "code",
   "execution_count": 32,
   "metadata": {
    "collapsed": false
   },
   "outputs": [
    {
     "data": {
      "text/plain": [
       "2407586"
      ]
     },
     "execution_count": 32,
     "metadata": {},
     "output_type": "execute_result"
    }
   ],
   "source": [
    "df_2000_with_aircraft.select('constr_year').count()"
   ]
  },
  {
   "cell_type": "code",
   "execution_count": 33,
   "metadata": {
    "collapsed": false
   },
   "outputs": [],
   "source": [
    "model_volume_dict = {}\n",
    "for row in statistic_volume_model:\n",
    "    model_volume_dict[row[1]] = row[2]"
   ]
  },
  {
   "cell_type": "code",
   "execution_count": 34,
   "metadata": {
    "collapsed": false
   },
   "outputs": [
    {
     "data": {
      "image/png": "[encoded data removed]",
      "text/plain": [
       "<matplotlib.figure.Figure at 0x7f1e00527f28>"
      ]
     },
     "metadata": {},
     "output_type": "display_data"
    }
   ],
   "source": [
    "statistic_ratio_delay_model_reversed = list(reversed(statistic_ratio_delay_model))\n",
    "\n",
    "y_pos = range(len(statistic_ratio_delay_model_reversed))\n",
    "avg_delays = [w[2] for w in statistic_ratio_delay_model_reversed]\n",
    "models = [\" \".join((w[0], w[1])) for w in statistic_ratio_delay_model_reversed]\n",
    "\n",
    "plt.barh(y_pos, avg_delays, align='center', alpha=0.4)\n",
    "plt.yticks(y_pos, models)\n",
    "plt.xlabel('Delay Ratop')\n",
    "plt.ylabel('Model')\n",
    "plt.title('Top-20 delayed airplanes')\n",
    "plt.show()"
   ]
  },
  {
   "cell_type": "code",
   "execution_count": 35,
   "metadata": {
    "collapsed": false
   },
   "outputs": [
    {
     "data": {
      "text/plain": [
       "[('BG 767-424ER', 95),\n",
       " ('BG 737-73A', 183),\n",
       " ('BG 777-224', 129),\n",
       " ('BG 757-225', 4414),\n",
       " ('BG 757-2G7', 5064),\n",
       " ('BG 757-2S7', 9220),\n",
       " ('AI A320-231', 23263),\n",
       " ('BG 747-451', 51),\n",
       " ('AI A320-232', 89623),\n",
       " ('BG 767-322', 18344),\n",
       " ('BG 747-422', 1692),\n",
       " ('AI A319-131', 33544),\n",
       " ('BG 737-322', 120316),\n",
       " ('BG 757-222', 111290),\n",
       " ('BG 737-522', 64549),\n",
       " ('BG 767-224', 93),\n",
       " ('MGJ F85P-1', 1043),\n",
       " ('BG 777-222', 12889),\n",
       " ('PP PA-32RT-300', 260),\n",
       " ('MDA MD 83', 3004)]"
      ]
     },
     "execution_count": 35,
     "metadata": {},
     "output_type": "execute_result"
    }
   ],
   "source": [
    "[(\" \".join((x[0], x[1])), model_volume_dict[x[1]]) for x in statistic_ratio_delay_model]"
   ]
  },
  {
   "cell_type": "markdown",
   "metadata": {},
   "source": [
    "<h3>Comment</h3>\n",
    "Indeed, we see a lot of Boeing airplanes in the top 20 of the most delay-prone airplanes. The boeing 767-424ER  has almost the double delay ratio as the MacDunnell Douglas 83.<br />\n",
    "However, the 767-424ER is hardly ever used (only 95 flights). Looking also at the flight volume, we find that the A320-231, A320-232, 737-322, 757-222 and the 737-522 have a strong weight in causing the high delay ratios of Airbus and Boeing. They are all small to medium distance airplanes."
   ]
  },
  {
   "cell_type": "markdown",
   "metadata": {},
   "source": [
    "In the next step we want to retrain the random forest along with the new data that we obtained to see if we can improve prediction performance.<br />\n",
    "For this we need to preprocess the augmented year 2000 dataset in the same way as before."
   ]
  },
  {
   "cell_type": "markdown",
   "metadata": {
    "collapsed": true
   },
   "source": [
    "Calculate the frequency of each source aiport in the data and build a dictionary that maps each of them to a unique index."
   ]
  },
  {
   "cell_type": "code",
   "execution_count": 36,
   "metadata": {
    "collapsed": false
   },
   "outputs": [
    {
     "name": "stdout",
     "output_type": "stream",
     "text": [
      "1\n",
      "0\n"
     ]
    }
   ],
   "source": [
    "# select distinct source airports and map values to index\n",
    "# sort the airport by their frequency descending\n",
    "# so the most common aiport will be on the top\n",
    "stat_src = (\n",
    "    df_2000_with_aircraft\n",
    "        .groupBy('src_airport')\n",
    "        .agg(func.count('*').alias('count1'))\n",
    "        .orderBy(desc('count1'))\n",
    "    )\n",
    "\n",
    "# extract the airport names from stat_src\n",
    "src_airports = [item[0] for item in stat_src.collect()]\n",
    "\n",
    "num_src_airports = len(src_airports)\n",
    "src_airports_idx = range(0, num_src_airports)\n",
    "map_src_airport_to_index = dict(zip(src_airports, src_airports_idx))\n",
    "\n",
    "# test the dictionary\n",
    "print(map_src_airport_to_index['ORD'])\n",
    "print(map_src_airport_to_index['ATL'])"
   ]
  },
  {
   "cell_type": "markdown",
   "metadata": {},
   "source": [
    "Calculate the frequency of each destination aiport in the data and build a dictionary that maps each of them to a unique index."
   ]
  },
  {
   "cell_type": "code",
   "execution_count": 37,
   "metadata": {
    "collapsed": false
   },
   "outputs": [
    {
     "name": "stdout",
     "output_type": "stream",
     "text": [
      "1\n",
      "0\n"
     ]
    }
   ],
   "source": [
    "# select distinct destination airports and map values to index\n",
    "# sort the airport by their frequency descending\n",
    "# so the most common aiport will be on the top\n",
    "stat_dest = (\n",
    "    df_2000_with_aircraft\n",
    "        .groupBy('dest_airport')\n",
    "        .agg(func.count('*').alias('count2'))\n",
    "        .orderBy(desc('count2'))\n",
    "    )\n",
    "\n",
    "dest_airports = [item[0] for item in stat_dest.collect()]\n",
    "\n",
    "num_dest_airports = len(dest_airports)\n",
    "map_dest_airport_to_index = dict(zip(dest_airports, range(0, num_dest_airports)))\n",
    "\n",
    "# test the dictionary\n",
    "print(map_dest_airport_to_index['ORD'])\n",
    "print(map_dest_airport_to_index['ATL'])"
   ]
  },
  {
   "cell_type": "markdown",
   "metadata": {},
   "source": [
    "Calculate the frequency of each carrier in the data and build a dictionary that maps each of them to a unique index."
   ]
  },
  {
   "cell_type": "code",
   "execution_count": 38,
   "metadata": {
    "collapsed": false
   },
   "outputs": [
    {
     "name": "stdout",
     "output_type": "stream",
     "text": [
      "0\n",
      "1\n"
     ]
    }
   ],
   "source": [
    "# select distinct carriers and map values to index\n",
    "# sort carriers by their frequency descending\n",
    "# so the most common aiport will be on the top\n",
    "\n",
    "stat_carr = (\n",
    "    df_2000_with_aircraft\n",
    "        .groupBy('carrier')\n",
    "        .agg(func.count('*').alias('count'))\n",
    "        .orderBy(desc('count'))\n",
    "    )\n",
    "\n",
    "carriers = [item[0] for item in stat_carr.collect()]\n",
    "\n",
    "num_carriers = len(carriers)\n",
    "map_carriers_to_index = dict(zip(carriers, range(0, num_carriers)))\n",
    "\n",
    "print(map_carriers_to_index['DL'])\n",
    "print(map_carriers_to_index['AA'])"
   ]
  },
  {
   "cell_type": "markdown",
   "metadata": {},
   "source": [
    "Find the most common value of feature month in data."
   ]
  },
  {
   "cell_type": "code",
   "execution_count": 39,
   "metadata": {
    "collapsed": false
   },
   "outputs": [
    {
     "name": "stdout",
     "output_type": "stream",
     "text": [
      "The most common month: 10\n"
     ]
    }
   ],
   "source": [
    "the_most_common_month = (\n",
    "    df_2000_with_aircraft\n",
    "        .groupBy('month')\n",
    "        .agg(func.count('*').alias('count'))\n",
    "        .orderBy(desc('count'))\n",
    "    ).first()[0]\n",
    "\n",
    "print(\"The most common month:\", the_most_common_month)"
   ]
  },
  {
   "cell_type": "markdown",
   "metadata": {},
   "source": [
    "Find the most common value of features day_of_month and day_of_week."
   ]
  },
  {
   "cell_type": "code",
   "execution_count": 40,
   "metadata": {
    "collapsed": false
   },
   "outputs": [
    {
     "name": "stdout",
     "output_type": "stream",
     "text": [
      "The most common day of month: 7\n",
      "The most common day of week: 5\n"
     ]
    }
   ],
   "source": [
    "the_most_common_day_of_month = (\n",
    "    df_2000_with_aircraft\n",
    "        .groupBy('day_of_month')\n",
    "        .agg(func.count('*').alias('count'))\n",
    "        .orderBy(desc('count'))\n",
    "    ).first()[0]\n",
    "\n",
    "the_most_common_day_of_week = (\n",
    "    df_2000_with_aircraft\n",
    "        .groupBy('day_of_week')\n",
    "        .agg(func.count('*').alias('count'))\n",
    "        .orderBy(desc('count'))\n",
    "    ).first()[0]\n",
    "\n",
    "print(\"The most common day of month:\", the_most_common_day_of_month)\n",
    "print(\"The most common day of week:\", the_most_common_day_of_week)"
   ]
  },
  {
   "cell_type": "markdown",
   "metadata": {
    "collapsed": true
   },
   "source": [
    "Find the most common value of features scheduled_departure_time and scheduled_arrival_time."
   ]
  },
  {
   "cell_type": "code",
   "execution_count": 41,
   "metadata": {
    "collapsed": false
   },
   "outputs": [
    {
     "name": "stdout",
     "output_type": "stream",
     "text": [
      "The most common scheduled departure time: 700\n",
      "The most common scheduled arrival time: 2115\n"
     ]
    }
   ],
   "source": [
    "the_most_common_s_departure_time = (\n",
    "    df_2000_with_aircraft\n",
    "        .groupBy('scheduled_departure_time')\n",
    "        .agg(func.count('*').alias('count'))\n",
    "        .orderBy(desc('count'))\n",
    "    ).first()[0]\n",
    "\n",
    "the_most_common_s_arrival_time = (\n",
    "    df_2000_with_aircraft\n",
    "        .groupBy('scheduled_arrival_time')\n",
    "        .agg(func.count('*').alias('count'))\n",
    "        .orderBy(desc('count'))\n",
    "    ).first()[0]\n",
    "\n",
    "print(\"The most common scheduled departure time:\", the_most_common_s_departure_time)\n",
    "print(\"The most common scheduled arrival time:\", the_most_common_s_arrival_time)"
   ]
  },
  {
   "cell_type": "markdown",
   "metadata": {},
   "source": [
    "Calculate the mean of distance in the data. This value will be used to fill in the missing values of feature distance later."
   ]
  },
  {
   "cell_type": "code",
   "execution_count": 42,
   "metadata": {
    "collapsed": false
   },
   "outputs": [
    {
     "name": "stdout",
     "output_type": "stream",
     "text": [
      "mean distance: 924.4145654610054\n"
     ]
    }
   ],
   "source": [
    "# calculate mean distance\n",
    "mean_distance = (\n",
    "    df_2000_with_aircraft\n",
    "        .agg(func.avg('distance').alias('avg'))\n",
    "    ).first()[0]\n",
    "\n",
    "print(\"mean distance:\", mean_distance)"
   ]
  },
  {
   "cell_type": "markdown",
   "metadata": {},
   "source": [
    "Calculate the mean of arrival delay."
   ]
  },
  {
   "cell_type": "code",
   "execution_count": 43,
   "metadata": {
    "collapsed": false
   },
   "outputs": [
    {
     "name": "stdout",
     "output_type": "stream",
     "text": [
      "mean arrival delay: 10.159633979226692\n"
     ]
    }
   ],
   "source": [
    "# calculate mean arrival delay\n",
    "mean_arrival_delay = (\n",
    "    df_2000_with_aircraft\n",
    "        .agg(func.avg('arrival_delay').alias('avg'))\n",
    "    ).first()[0]\n",
    "\n",
    "print(\"mean arrival delay:\", mean_arrival_delay)"
   ]
  },
  {
   "cell_type": "markdown",
   "metadata": {},
   "source": [
    "Get the most prominent manufacturer."
   ]
  },
  {
   "cell_type": "code",
   "execution_count": 44,
   "metadata": {
    "collapsed": false
   },
   "outputs": [
    {
     "name": "stdout",
     "output_type": "stream",
     "text": [
      "0\n"
     ]
    }
   ],
   "source": [
    "# select distinct manufacturers and map values to index\n",
    "# sort manufacturers by their frequency descending\n",
    "# so the most common manufacturer will be on the top\n",
    "\n",
    "stat_manuf = (\n",
    "    df_2000_with_aircraft\n",
    "        .groupBy('manufacturer')\n",
    "        .agg(func.count('*').alias('count'))\n",
    "        .orderBy(desc('count'))\n",
    "    )\n",
    "\n",
    "manufacturers = [item[0] for item in stat_manuf.collect()]\n",
    "\n",
    "num_manufacturers = len(manufacturers)\n",
    "map_manuf_to_index = dict(zip(manufacturers, range(0, num_manufacturers)))\n",
    "\n",
    "print(map_manuf_to_index['BG'])"
   ]
  },
  {
   "cell_type": "markdown",
   "metadata": {},
   "source": [
    "Get the most prominent model."
   ]
  },
  {
   "cell_type": "code",
   "execution_count": 45,
   "metadata": {
    "collapsed": false
   },
   "outputs": [
    {
     "name": "stdout",
     "output_type": "stream",
     "text": [
      "23\n"
     ]
    }
   ],
   "source": [
    "# select distinct models and map values to index\n",
    "# sort models by their frequency descending\n",
    "# so the most common model will be on the top\n",
    "\n",
    "stat_model = (\n",
    "    df_2000_with_aircraft\n",
    "        .groupBy('model')\n",
    "        .agg(func.count('*').alias('count'))\n",
    "        .orderBy(desc('count'))\n",
    "    )\n",
    "\n",
    "models = [item[0] for item in stat_model.collect()]\n",
    "\n",
    "num_models = len(models)\n",
    "map_models_to_index = dict(zip(models, range(0, num_models)))\n",
    "\n",
    "print(map_models_to_index['737-832'])"
   ]
  },
  {
   "cell_type": "code",
   "execution_count": 48,
   "metadata": {
    "collapsed": false
   },
   "outputs": [
    {
     "name": "stdout",
     "output_type": "stream",
     "text": [
      "MD-88\n"
     ]
    }
   ],
   "source": [
    "print(models[0])"
   ]
  },
  {
   "cell_type": "markdown",
   "metadata": {},
   "source": [
    "Get the most common construction year."
   ]
  },
  {
   "cell_type": "code",
   "execution_count": 46,
   "metadata": {
    "collapsed": false,
    "scrolled": true
   },
   "outputs": [
    {
     "name": "stdout",
     "output_type": "stream",
     "text": [
      "1\n"
     ]
    }
   ],
   "source": [
    "# select distinct constr. years and map values to index\n",
    "# sort years by their frequency descending\n",
    "# so the most common year will be on the top\n",
    "\n",
    "stat_year = (\n",
    "    df_2000_with_aircraft\n",
    "        .groupBy('constr_year')\n",
    "        .agg(func.count('*').alias('count'))\n",
    "        .orderBy(desc('count'))\n",
    "    )\n",
    "\n",
    "years = [item[0] for item in stat_year.collect()]\n",
    "\n",
    "num_years = len(years)\n",
    "map_years_to_index = dict(zip(years, range(0, num_years)))\n",
    "\n",
    "print(map_years_to_index[1990])"
   ]
  },
  {
   "cell_type": "code",
   "execution_count": 64,
   "metadata": {
    "collapsed": false
   },
   "outputs": [
    {
     "name": "stdout",
     "output_type": "stream",
     "text": [
      "{1984: 18, 1985: 10, 1986: 9, 1987: 7, 1988: 4, 1989: 8, 1990: 1, 1991: 2, 1992: 3, 1993: 11, 1994: 12, 1995: 15, 1996: 16, 1997: 13, 1998: 5, 1999: 6, 2000: 14, 1963: 33, 2007: 32, 1956: 41, 1959: 31, 1962: 37, None: 0, 1964: 38, 1965: 36, 1967: 19, 1968: 17, 1969: 20, 1970: 29, 1971: 35, 1972: 40, 1973: 28, 1974: 34, 1975: 24, 1976: 22, 1977: 27, 1978: 26, 1979: 21, 1980: 25, 2001: 39, 1982: 30, 1983: 23}\n"
     ]
    }
   ],
   "source": [
    "print(map_years_to_index)"
   ]
  },
  {
   "cell_type": "code",
   "execution_count": 34,
   "metadata": {
    "collapsed": false
   },
   "outputs": [
    {
     "name": "stdout",
     "output_type": "stream",
     "text": [
      "StructType(List(StructField(year,IntegerType,true),StructField(month,IntegerType,true),StructField(day_of_month,IntegerType,true),StructField(day_of_week,IntegerType,true),StructField(scheduled_departure_time,IntegerType,true),StructField(scheduled_arrival_time,IntegerType,true),StructField(arrival_delay,IntegerType,true),StructField(distance,IntegerType,true),StructField(src_airport,StringType,true),StructField(dest_airport,StringType,true),StructField(carrier,StringType,true),StructField(tail_number,StringType,true),StructField(is_delay,IntegerType,false),StructField(tailnum,StringType,true),StructField(type,StringType,true),StructField(manufacturer,StringType,true),StructField(issue_date,StringType,true),StructField(model,StringType,true),StructField(status,StringType,true),StructField(aircraft_type,StringType,true),StructField(engine_type,StringType,true),StructField(constr_year,IntegerType,true)))\n"
     ]
    }
   ],
   "source": [
    "print(df_2000_with_aircraft.schema)"
   ]
  },
  {
   "cell_type": "markdown",
   "metadata": {},
   "source": [
    "Replace the missing values of each feature in our data by the corresponding most common value or mean.\n",
    "Divide data into two parts: 70% for training and 30% for testing"
   ]
  },
  {
   "cell_type": "code",
   "execution_count": 52,
   "metadata": {
    "collapsed": false
   },
   "outputs": [
    {
     "data": {
      "text/plain": [
       "2407586"
      ]
     },
     "execution_count": 52,
     "metadata": {},
     "output_type": "execute_result"
    }
   ],
   "source": [
    "df_2000_with_aircraft.count()"
   ]
  },
  {
   "cell_type": "code",
   "execution_count": 47,
   "metadata": {
    "collapsed": false
   },
   "outputs": [],
   "source": [
    "from pyspark.mllib.tree import DecisionTree, DecisionTreeModel\n",
    "from pyspark.mllib.util import MLUtils\n",
    "from pyspark.mllib.regression import LabeledPoint\n",
    "\n",
    "\n",
    "def is_valid(value):\n",
    "    return value != None and value != \"\" and value != \"NA\"\n",
    "\n",
    "data = df_2000_with_aircraft.rdd\\\n",
    "    .map(lambda values: \n",
    "        LabeledPoint( \n",
    "            int(values[6]) if is_valid(values[6]) else mean_arrival_delay, # arrival delay\n",
    "            [\n",
    "                int(values[0]), # year\n",
    "                int(values[1]) if is_valid(values[1]) else the_most_common_month, # month\n",
    "                int(values[2]) if is_valid(values[2]) else the_most_common_day_of_month, # day of month\n",
    "                int(values[3]) if is_valid(values[3]) else the_most_common_day_of_week, # day of week\n",
    "                int(values[4]) if is_valid(values[4]) else the_most_common_s_departure_time , # scheduled departure time\n",
    "                int(values[5]) if is_valid(values[5]) else the_most_common_s_arrival_time, # scheduled arrival time\n",
    "                # if the value is valid, map it to the corresponding index\n",
    "                # otherwise, use the most common value\n",
    "                map_carriers_to_index[values[10]] if is_valid(values[10]) \\\n",
    "                    else map_carriers_to_index[carriers[0]], # carrier\n",
    "                map_src_airport_to_index[values[8]] if is_valid(values[8]) \\\n",
    "                    else map_src_airport_to_index[src_airports[0]], # src_airport\n",
    "                map_dest_airport_to_index[values[9]] if is_valid(values[9]) \\\n",
    "                    else map_dest_airport_to_index[dest_airports[0]], # destination_airport\n",
    "                \n",
    "                \n",
    "                map_manuf_to_index[values[15]] if is_valid(values[15]) \\\n",
    "                    else map_manuf_to_index[manufacturers[0]], # manufacturers\n",
    "                map_models_to_index[values[17]] if is_valid(values[17]) \\\n",
    "                    else map_models_to_index['737-3S3'],\n",
    "                #else map_models_to_index[models[0]], # models\n",
    "                map_years_to_index[values[21]] if is_valid(values[21]) \\\n",
    "                    else map_years_to_index[1983],\n",
    "                #else map_years_to_index[years[1]], # constr years\n",
    "                \n",
    "                1 if is_valid(values[3]) and int(values[3]) >= 6 else 0, # is_weekend\n",
    "                \n",
    "                \n",
    "                int(values[7]) if is_valid(values[7]) else mean_distance # distance\n",
    "            ]\n",
    "        )\n",
    "    )\n",
    "\n",
    "# Split the data into training and test sets (30% held out for testing)\n",
    "(trainingData, testData) = data.randomSplit((0.7,0.3))\n",
    "\n",
    "trainingData = trainingData.cache()\n",
    "testData = testData.cache()"
   ]
  },
  {
   "cell_type": "markdown",
   "metadata": {},
   "source": [
    "Complete the code below to train a decision tree model."
   ]
  },
  {
   "cell_type": "code",
   "execution_count": 48,
   "metadata": {
    "collapsed": false
   },
   "outputs": [],
   "source": [
    "# declare information of categorical features\n",
    "# format:  feature_index : number_distinct_values\n",
    "categorical_info = {6: num_carriers, 7: num_src_airports, 8: num_dest_airports,\n",
    "                   9: num_manufacturers, 10: num_models, 11: num_years, 12: 2}\n",
    "\n",
    "# Train a DecisionTree model.\n",
    "model = DecisionTree.trainRegressor(trainingData, \n",
    "                                    categoricalFeaturesInfo=categorical_info,\n",
    "                                    impurity='variance', maxDepth=12, maxBins=255)"
   ]
  },
  {
   "cell_type": "markdown",
   "metadata": {},
   "source": [
    "We often use Mean Square Error as a metric to evaluate the quality of a tree model. Complete the code below to calculate the MSE of our trained model."
   ]
  },
  {
   "cell_type": "code",
   "execution_count": 49,
   "metadata": {
    "collapsed": false,
    "scrolled": true
   },
   "outputs": [
    {
     "name": "stdout",
     "output_type": "stream",
     "text": [
      "Test Mean Squared Error = 1290.5654819274412\n"
     ]
    }
   ],
   "source": [
    "# Evaluate model on test instances and compute test error\n",
    "predictions = model.predict(testData.map(lambda x: x.features))\n",
    "labelsAndPredictions = testData.map(lambda lp: lp.label).zip(predictions)\n",
    "testMSE = labelsAndPredictions.map(\n",
    "    lambda p: (p[0]-p[1])**2).mean()\n",
    "print('Test Mean Squared Error = ' + str(testMSE))"
   ]
  },
  {
   "cell_type": "markdown",
   "metadata": {},
   "source": [
    "Random Forest Training"
   ]
  },
  {
   "cell_type": "code",
   "execution_count": 51,
   "metadata": {
    "collapsed": false
   },
   "outputs": [
    {
     "name": "stdout",
     "output_type": "stream",
     "text": [
      "Test Mean Squared Error = 1231.2422315621986\n"
     ]
    }
   ],
   "source": [
    "from pyspark.mllib.tree import RandomForest, RandomForestModel\n",
    "\n",
    "# Train a RandomForest model.\n",
    "forest_model = RandomForest.trainRegressor(trainingData, categoricalFeaturesInfo=categorical_info,\n",
    "                                    numTrees=10, impurity='variance', maxDepth=12, maxBins=255)\n",
    "\n",
    "\n",
    "forest_predictions = forest_model.predict(testData.map(lambda x: x.features))\n",
    "forest_labelsAndPredictions = testData.map(lambda lp: lp.label).zip(forest_predictions)\n",
    "testMSE = forest_labelsAndPredictions.map(\n",
    "    lambda p: (p[0]-p[1])**2).mean()\n",
    "print('Test Mean Squared Error = ' + str(testMSE))"
   ]
  },
  {
   "cell_type": "markdown",
   "metadata": {
    "collapsed": true
   },
   "source": [
    "<h3>Comment</h3>\n",
    "Using the aircraft information did not improve the model in our case. The mean squared error becomes 1231 with the aircraft model information compared to around 800 without.<br />\n",
    "This may have multiple reasons:<br />\n",
    "<ul>\n",
    "<li>The size of the dataset was reduced by around 50% (only half of the flights have a valid tail_number that could be matched)</li>\n",
    "<li>By far most of the flights were conducted using aircrafts from similar manufacturers. There is very little data for most manufacturers</li>\n",
    "<li>There is not a lot of data for each specific airplane model</li>\n",
    "<li>The same goes for the construction years</li>\n",
    "</ul>"
   ]
  },
  {
   "cell_type": "markdown",
   "metadata": {
    "collapsed": true
   },
   "source": [
    "# Summary\n",
    "In this lecture, we've had an overview about Decision Trees, Random Forests and how to use them. We also insisted on a simple methodology to adopt when dealing with a Data Science problem. \n",
    "The main take home messages should be:\n",
    "\n",
    "* Feature selection is a difficult, delicate and important task. In this project, the student was heavily guided. However, we invite to exercise with additional features, for example external ones related to weather conditions.\n",
    "\n",
    "* Parameter tuning requires a deep understanding of the algorithm used to build a statistical model. In general, to reduce computational cost, several techniques introduce parameters that, if tuned properly, can lead to tremendous time savings."
   ]
  }
 ],
 "metadata": {
  "kernelspec": {
   "display_name": "Python 3",
   "language": "python",
   "name": "python3"
  },
  "language_info": {
   "codemirror_mode": {
    "name": "ipython",
    "version": 3
   },
   "file_extension": ".py",
   "mimetype": "text/x-python",
   "name": "python",
   "nbconvert_exporter": "python",
   "pygments_lexer": "ipython3",
   "version": "3.5.2"
  }
 },
 "nbformat": 4,
 "nbformat_minor": 0
}
